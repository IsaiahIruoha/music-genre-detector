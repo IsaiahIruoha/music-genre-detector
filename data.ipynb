{
 "cells": [
  {
   "cell_type": "markdown",
   "id": "8b2fae50",
   "metadata": {},
   "source": [
    "# Data Generation for the GTZan Music Genre Classification"
   ]
  },
  {
   "cell_type": "markdown",
   "id": "e886f4ed",
   "metadata": {},
   "source": [
    "## Import Statements"
   ]
  },
  {
   "cell_type": "markdown",
   "id": "83b590e7",
   "metadata": {},
   "source": [
    "Start by importing necessary libraries."
   ]
  },
  {
   "cell_type": "code",
   "execution_count": 1,
   "id": "22138a63",
   "metadata": {},
   "outputs": [],
   "source": [
    "import os\n",
    "import librosa\n",
    "import pandas as pd\n",
    "from pydub import AudioSegment\n",
    "import tempfile\n",
    "import numpy as np\n",
    "import soundfile as sf"
   ]
  },
  {
   "cell_type": "markdown",
   "id": "61a0285f",
   "metadata": {},
   "source": [
    "## Helper Functions"
   ]
  },
  {
   "cell_type": "markdown",
   "id": "16e9fb7d",
   "metadata": {},
   "source": [
    "Convert to MP3 function."
   ]
  },
  {
   "cell_type": "code",
   "execution_count": 2,
   "id": "1e3d8b42",
   "metadata": {},
   "outputs": [],
   "source": [
    "# Function to convert MP3 to WAV\n",
    "def convert_mp3_to_wav(mp3_file):\n",
    "    try:\n",
    "        sound = AudioSegment.from_mp3(mp3_file)\n",
    "        wav_file = tempfile.mktemp(suffix='.wav')\n",
    "        sound.export(wav_file, format=\"wav\")\n",
    "        return wav_file\n",
    "    except Exception as e:\n",
    "        print(f\"Error converting {mp3_file} to WAV: {e}\")\n",
    "        return None"
   ]
  },
  {
   "cell_type": "markdown",
   "id": "a1e514b2",
   "metadata": {},
   "source": [
    "Feature extraction from a segment. "
   ]
  },
  {
   "cell_type": "code",
   "execution_count": 3,
   "id": "5aa55f22",
   "metadata": {},
   "outputs": [],
   "source": [
    "# Function to extract features from an audio segment\n",
    "def extract_features_from_segment(y, sr, start_time, end_time):\n",
    "    segment = y[start_time:end_time]\n",
    "\n",
    "    chroma_stft = librosa.feature.chroma_stft(y=segment, sr=sr)\n",
    "    rms = librosa.feature.rms(y=segment)\n",
    "    spectral_centroid = librosa.feature.spectral_centroid(y=segment, sr=sr)\n",
    "    spectral_bandwidth = librosa.feature.spectral_bandwidth(y=segment, sr=sr)\n",
    "    rolloff = librosa.feature.spectral_rolloff(y=segment, sr=sr)\n",
    "    zero_crossing_rate = librosa.feature.zero_crossing_rate(y=segment)\n",
    "    harmony, perceptr = librosa.effects.hpss(segment)\n",
    "    tempo, _ = librosa.beat.beat_track(y=segment, sr=sr)\n",
    "    mfcc = librosa.feature.mfcc(y=segment, sr=sr, n_mfcc=20)\n",
    "\n",
    "    features = {\n",
    "        'chroma_stft_mean': chroma_stft.mean() if chroma_stft.size else 0,\n",
    "        'chroma_stft_var': chroma_stft.var() if chroma_stft.size else 0,\n",
    "        'rms_mean': rms.mean() if rms.size else 0,\n",
    "        'rms_var': rms.var() if rms.size else 0,\n",
    "        'spectral_centroid_mean': spectral_centroid.mean() if spectral_centroid.size else 0,\n",
    "        'spectral_centroid_var': spectral_centroid.var() if spectral_centroid.size else 0,\n",
    "        'spectral_bandwidth_mean': spectral_bandwidth.mean() if spectral_bandwidth.size else 0,\n",
    "        'spectral_bandwidth_var': spectral_bandwidth.var() if spectral_bandwidth.size else 0,\n",
    "        'rolloff_mean': rolloff.mean() if rolloff.size else 0,\n",
    "        'rolloff_var': rolloff.var() if rolloff.size else 0,\n",
    "        'zero_crossing_rate_mean': zero_crossing_rate.mean() if zero_crossing_rate.size else 0,\n",
    "        'zero_crossing_rate_var': zero_crossing_rate.var() if zero_crossing_rate.size else 0,\n",
    "        'harmony_mean': harmony.mean() if harmony.size else 0,\n",
    "        'harmony_var': harmony.var() if harmony.size else 0,\n",
    "        'perceptr_mean': perceptr.mean() if perceptr.size else 0,\n",
    "        'perceptr_var': perceptr.var() if perceptr.size else 0,\n",
    "        'tempo': tempo,\n",
    "    }\n",
    "\n",
    "    for i in range(1, 21):\n",
    "        features[f'mfcc{i}_mean'] = mfcc[i-1].mean() if mfcc.shape[0] >= i else 0\n",
    "        features[f'mfcc{i}_var'] = mfcc[i-1].var() if mfcc.shape[0] >= i else 0\n",
    "\n",
    "    return features"
   ]
  },
  {
   "cell_type": "markdown",
   "id": "9dcf0655",
   "metadata": {},
   "source": [
    "Load audio helpfer function."
   ]
  },
  {
   "cell_type": "code",
   "execution_count": 4,
   "id": "913bcfba",
   "metadata": {},
   "outputs": [],
   "source": [
    "# Function to load audio file\n",
    "def load_audio(file_path):\n",
    "    try:\n",
    "        y, sr = librosa.load(file_path, sr=None)\n",
    "    except sf.LibsndfileError:\n",
    "        print(f\"LibsndfileError: {file_path}\")\n",
    "        return None, None\n",
    "    except Exception as e:\n",
    "        print(f\"Error loading {file_path}: {e}\")\n",
    "        return None, None\n",
    "    return y, sr"
   ]
  },
  {
   "cell_type": "markdown",
   "id": "dfa5f717",
   "metadata": {},
   "source": [
    "Segment data and call feature extraction."
   ]
  },
  {
   "cell_type": "code",
   "execution_count": 5,
   "id": "75e1c6b0",
   "metadata": {},
   "outputs": [],
   "source": [
    "# Function to extract features from an audio file\n",
    "def extract_features(audio_file, segment_duration=3):\n",
    "    try:\n",
    "        y, sr = load_audio(audio_file)\n",
    "        if y is None:\n",
    "            return []\n",
    "\n",
    "        total_duration = len(y) / sr\n",
    "        segment_length = int(sr * segment_duration)\n",
    "\n",
    "        features_list = []\n",
    "\n",
    "        for start in range(0, len(y), segment_length):\n",
    "            end = start + segment_length\n",
    "            if end <= len(y):\n",
    "                segment_features = extract_features_from_segment(y, sr, start, end)\n",
    "                all_features = segment_features\n",
    "                all_features['filename'] = os.path.basename(audio_file)\n",
    "                all_features['start'] = start / sr\n",
    "                all_features['end'] = end / sr\n",
    "                features_list.append(all_features)\n",
    "\n",
    "        return features_list\n",
    "\n",
    "    except Exception as e:\n",
    "        print(f\"Error extracting features from {audio_file}: {e}\")\n",
    "        return []"
   ]
  },
  {
   "cell_type": "markdown",
   "id": "b3851f10",
   "metadata": {},
   "source": [
    "## Define Data Paths"
   ]
  },
  {
   "cell_type": "markdown",
   "id": "96da33c7",
   "metadata": {},
   "source": [
    "Specify the paths to the CSV files containing data."
   ]
  },
  {
   "cell_type": "code",
   "execution_count": 6,
   "id": "0784aec2",
   "metadata": {},
   "outputs": [],
   "source": [
    "# List of genres\n",
    "genres = [\"blues\", \"classical\", \"country\", \"disco\", \"hiphop\", \"jazz\", \"metal\", \"pop\", \"reggae\", \"rock\"]\n",
    "\n",
    "# Base folder containing genre subfolders\n",
    "base_folder_path = '/Users/isaiah/Desktop/Career/Projects/music-genre-detector/GTZan/genres_original'"
   ]
  },
  {
   "cell_type": "markdown",
   "id": "953974b0",
   "metadata": {},
   "source": [
    "## Process Input Audio Files"
   ]
  },
  {
   "cell_type": "markdown",
   "id": "3e0d4edc",
   "metadata": {},
   "source": [
    "Process input files and label the data. "
   ]
  },
  {
   "cell_type": "code",
   "execution_count": 7,
   "id": "ec7af356",
   "metadata": {},
   "outputs": [],
   "source": [
    "# Function to process a folder of audio files\n",
    "def process_audio_folder(folder_path, genre_label):\n",
    "    results = []\n",
    "    for filename in os.listdir(folder_path):\n",
    "        if filename.endswith('.wav') or filename.endswith('.mp3'):\n",
    "            file_path = os.path.join(folder_path, filename)\n",
    "            if filename.endswith('.mp3'):\n",
    "                file_path = convert_mp3_to_wav(file_path)\n",
    "            features_list = extract_features(file_path)\n",
    "            for features in features_list:\n",
    "                features['genre'] = genre_label\n",
    "                results.append(features)\n",
    "    return results"
   ]
  },
  {
   "cell_type": "markdown",
   "id": "a872c4cd",
   "metadata": {},
   "source": [
    "## Create Singular CSV"
   ]
  },
  {
   "cell_type": "markdown",
   "id": "7c9fc8b6",
   "metadata": {},
   "source": [
    "Aggregate results of the feature extraction into a singular CSV."
   ]
  },
  {
   "cell_type": "code",
   "execution_count": 8,
   "id": "c7412610",
   "metadata": {},
   "outputs": [
    {
     "name": "stdout",
     "output_type": "stream",
     "text": [
      "Processing genre: blues\n"
     ]
    }
   ],
   "source": [
    "all_results = []\n",
    "\n",
    "for genre in genres:\n",
    "    print(f\"Processing genre: {genre}\")\n",
    "    folder_path = os.path.join(base_folder_path, genre)\n",
    "    genre_results = process_audio_folder(folder_path, genre)\n",
    "    all_results.extend(genre_results)\n",
    "    print(f\"Completed processing genre: {genre}\")\n",
    "\n",
    "print(\"Writing results to CSV file...\")\n",
    "df = pd.DataFrame(all_results)\n",
    "csv_file_path = '/Users/isaiah/Desktop/Career/Projects/music-genre-detector/all_genres_audio_features.csv'\n",
    "df.to_csv(csv_file_path, index=False)\n",
    "print(\"CSV file generation completed.\")\n",
    "\n",
    "df.head()"
   ]
  },
  {
   "cell_type": "markdown",
   "id": "31f0d23c",
   "metadata": {},
   "source": [
    "## Examine Data"
   ]
  },
  {
   "cell_type": "markdown",
   "id": "f9f555dd",
   "metadata": {},
   "source": [
    "Gain insights into data. "
   ]
  },
  {
   "cell_type": "code",
   "execution_count": null,
   "id": "05cf96d0",
   "metadata": {},
   "outputs": [],
   "source": [
    "# Get summary statistics\n",
    "df.describe(include='all')"
   ]
  }
 ],
 "metadata": {
  "kernelspec": {
   "display_name": "Python 3 (ipykernel)",
   "language": "python",
   "name": "python3"
  },
  "language_info": {
   "codemirror_mode": {
    "name": "ipython",
    "version": 3
   },
   "file_extension": ".py",
   "mimetype": "text/x-python",
   "name": "python",
   "nbconvert_exporter": "python",
   "pygments_lexer": "ipython3",
   "version": "3.12.1"
  }
 },
 "nbformat": 4,
 "nbformat_minor": 5
}
