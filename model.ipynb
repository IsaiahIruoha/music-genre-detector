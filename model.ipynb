{
 "cells": [
  {
   "cell_type": "markdown",
   "id": "8b2fae50",
   "metadata": {},
   "source": [
    "# Supervised Learning Music Genre Classification"
   ]
  },
  {
   "cell_type": "markdown",
   "id": "e886f4ed",
   "metadata": {},
   "source": [
    "## Import Statements"
   ]
  },
  {
   "cell_type": "markdown",
   "id": "83b590e7",
   "metadata": {},
   "source": [
    "Start by importing necessary libraries."
   ]
  },
  {
   "cell_type": "code",
   "execution_count": 19,
   "id": "22138a63",
   "metadata": {},
   "outputs": [],
   "source": [
    "import pandas as pd\n",
    "import numpy as np\n",
    "import matplotlib.pyplot as plt\n",
    "from sklearn.linear_model import LogisticRegression\n",
    "from sklearn.model_selection import train_test_split, cross_val_score, GridSearchCV, learning_curve, validation_curve, StratifiedKFold\n",
    "from sklearn.preprocessing import StandardScaler, LabelEncoder\n",
    "from sklearn.ensemble import GradientBoostingClassifier, RandomForestClassifier\n",
    "from sklearn.metrics import accuracy_score, classification_report\n",
    "from sklearn.svm import SVC\n",
    "from sklearn.neighbors import KNeighborsClassifier\n",
    "from scipy.stats import mode\n",
    "import soundfile as sf\n",
    "import joblib"
   ]
  },
  {
   "cell_type": "markdown",
   "id": "3f7e202e",
   "metadata": {},
   "source": [
    "## Import Data from prepared CSV"
   ]
  },
  {
   "cell_type": "code",
   "execution_count": 2,
   "id": "2150c4a0",
   "metadata": {},
   "outputs": [
    {
     "data": {
      "text/plain": [
       "(2988, 58)"
      ]
     },
     "execution_count": 2,
     "metadata": {},
     "output_type": "execute_result"
    }
   ],
   "source": [
    "data = pd.read_csv('all_genres_audio_features.csv')\n",
    "data = data.drop(columns= ['filename','start','end']) \n",
    "\n",
    "genres = [\"blues\", \"classical\", \"country\", \"disco\", \"hiphop\", \"jazz\", \"metal\", \"pop\", \"reggae\", \"rock\"]\n",
    "\n",
    "data.shape"
   ]
  },
  {
   "cell_type": "markdown",
   "id": "58539520",
   "metadata": {},
   "source": [
    "Check for duplicates. "
   ]
  },
  {
   "cell_type": "code",
   "execution_count": 3,
   "id": "703ac5dd",
   "metadata": {},
   "outputs": [
    {
     "name": "stdout",
     "output_type": "stream",
     "text": [
      "Duplicates or null values found in data\n"
     ]
    }
   ],
   "source": [
    "def check_duplicates_or_nulls(data):\n",
    "    duplicates = data.duplicated().sum() > 0\n",
    "    nulls = data.isnull().sum().sum() > 0\n",
    "    return duplicates or nulls\n",
    "\n",
    "if check_duplicates_or_nulls(data):\n",
    "    print('Duplicates or null values found in data')\n",
    "else:\n",
    "    print('No duplicates or null values found in data')"
   ]
  },
  {
   "cell_type": "markdown",
   "id": "d6a2c169",
   "metadata": {},
   "source": [
    "Deal with strings in features"
   ]
  },
  {
   "cell_type": "code",
   "execution_count": 4,
   "id": "6012da20",
   "metadata": {},
   "outputs": [
    {
     "data": {
      "text/html": [
       "<div>\n",
       "<style scoped>\n",
       "    .dataframe tbody tr th:only-of-type {\n",
       "        vertical-align: middle;\n",
       "    }\n",
       "\n",
       "    .dataframe tbody tr th {\n",
       "        vertical-align: top;\n",
       "    }\n",
       "\n",
       "    .dataframe thead th {\n",
       "        text-align: right;\n",
       "    }\n",
       "</style>\n",
       "<table border=\"1\" class=\"dataframe\">\n",
       "  <thead>\n",
       "    <tr style=\"text-align: right;\">\n",
       "      <th></th>\n",
       "      <th>chroma_stft_mean</th>\n",
       "      <th>chroma_stft_var</th>\n",
       "      <th>rms_mean</th>\n",
       "      <th>rms_var</th>\n",
       "      <th>spectral_centroid_mean</th>\n",
       "      <th>spectral_centroid_var</th>\n",
       "      <th>spectral_bandwidth_mean</th>\n",
       "      <th>spectral_bandwidth_var</th>\n",
       "      <th>rolloff_mean</th>\n",
       "      <th>rolloff_var</th>\n",
       "      <th>...</th>\n",
       "      <th>mfcc16_var</th>\n",
       "      <th>mfcc17_mean</th>\n",
       "      <th>mfcc17_var</th>\n",
       "      <th>mfcc18_mean</th>\n",
       "      <th>mfcc18_var</th>\n",
       "      <th>mfcc19_mean</th>\n",
       "      <th>mfcc19_var</th>\n",
       "      <th>mfcc20_mean</th>\n",
       "      <th>mfcc20_var</th>\n",
       "      <th>genre</th>\n",
       "    </tr>\n",
       "  </thead>\n",
       "  <tbody>\n",
       "    <tr>\n",
       "      <th>count</th>\n",
       "      <td>2988.000000</td>\n",
       "      <td>2988.000000</td>\n",
       "      <td>2988.000000</td>\n",
       "      <td>2.988000e+03</td>\n",
       "      <td>2988.000000</td>\n",
       "      <td>2.988000e+03</td>\n",
       "      <td>2988.000000</td>\n",
       "      <td>2.988000e+03</td>\n",
       "      <td>2988.000000</td>\n",
       "      <td>2.988000e+03</td>\n",
       "      <td>...</td>\n",
       "      <td>2988.000000</td>\n",
       "      <td>2988.000000</td>\n",
       "      <td>2988.000000</td>\n",
       "      <td>2988.000000</td>\n",
       "      <td>2988.000000</td>\n",
       "      <td>2988.000000</td>\n",
       "      <td>2988.000000</td>\n",
       "      <td>2988.000000</td>\n",
       "      <td>2988.000000</td>\n",
       "      <td>2988</td>\n",
       "    </tr>\n",
       "    <tr>\n",
       "      <th>unique</th>\n",
       "      <td>NaN</td>\n",
       "      <td>NaN</td>\n",
       "      <td>NaN</td>\n",
       "      <td>NaN</td>\n",
       "      <td>NaN</td>\n",
       "      <td>NaN</td>\n",
       "      <td>NaN</td>\n",
       "      <td>NaN</td>\n",
       "      <td>NaN</td>\n",
       "      <td>NaN</td>\n",
       "      <td>...</td>\n",
       "      <td>NaN</td>\n",
       "      <td>NaN</td>\n",
       "      <td>NaN</td>\n",
       "      <td>NaN</td>\n",
       "      <td>NaN</td>\n",
       "      <td>NaN</td>\n",
       "      <td>NaN</td>\n",
       "      <td>NaN</td>\n",
       "      <td>NaN</td>\n",
       "      <td>10</td>\n",
       "    </tr>\n",
       "    <tr>\n",
       "      <th>top</th>\n",
       "      <td>NaN</td>\n",
       "      <td>NaN</td>\n",
       "      <td>NaN</td>\n",
       "      <td>NaN</td>\n",
       "      <td>NaN</td>\n",
       "      <td>NaN</td>\n",
       "      <td>NaN</td>\n",
       "      <td>NaN</td>\n",
       "      <td>NaN</td>\n",
       "      <td>NaN</td>\n",
       "      <td>...</td>\n",
       "      <td>NaN</td>\n",
       "      <td>NaN</td>\n",
       "      <td>NaN</td>\n",
       "      <td>NaN</td>\n",
       "      <td>NaN</td>\n",
       "      <td>NaN</td>\n",
       "      <td>NaN</td>\n",
       "      <td>NaN</td>\n",
       "      <td>NaN</td>\n",
       "      <td>blues</td>\n",
       "    </tr>\n",
       "    <tr>\n",
       "      <th>freq</th>\n",
       "      <td>NaN</td>\n",
       "      <td>NaN</td>\n",
       "      <td>NaN</td>\n",
       "      <td>NaN</td>\n",
       "      <td>NaN</td>\n",
       "      <td>NaN</td>\n",
       "      <td>NaN</td>\n",
       "      <td>NaN</td>\n",
       "      <td>NaN</td>\n",
       "      <td>NaN</td>\n",
       "      <td>...</td>\n",
       "      <td>NaN</td>\n",
       "      <td>NaN</td>\n",
       "      <td>NaN</td>\n",
       "      <td>NaN</td>\n",
       "      <td>NaN</td>\n",
       "      <td>NaN</td>\n",
       "      <td>NaN</td>\n",
       "      <td>NaN</td>\n",
       "      <td>NaN</td>\n",
       "      <td>300</td>\n",
       "    </tr>\n",
       "    <tr>\n",
       "      <th>mean</th>\n",
       "      <td>0.378823</td>\n",
       "      <td>0.085846</td>\n",
       "      <td>0.130570</td>\n",
       "      <td>2.870646e-03</td>\n",
       "      <td>2200.838173</td>\n",
       "      <td>4.496328e+05</td>\n",
       "      <td>2241.994650</td>\n",
       "      <td>1.291835e+05</td>\n",
       "      <td>4569.365666</td>\n",
       "      <td>1.759079e+06</td>\n",
       "      <td>...</td>\n",
       "      <td>56.749994</td>\n",
       "      <td>-4.073705</td>\n",
       "      <td>59.094801</td>\n",
       "      <td>0.603902</td>\n",
       "      <td>60.373921</td>\n",
       "      <td>-2.408998</td>\n",
       "      <td>62.671869</td>\n",
       "      <td>-1.031245</td>\n",
       "      <td>65.967863</td>\n",
       "      <td>NaN</td>\n",
       "    </tr>\n",
       "    <tr>\n",
       "      <th>std</th>\n",
       "      <td>0.084776</td>\n",
       "      <td>0.008636</td>\n",
       "      <td>0.066960</td>\n",
       "      <td>3.593416e-03</td>\n",
       "      <td>729.637169</td>\n",
       "      <td>4.146715e+05</td>\n",
       "      <td>533.451980</td>\n",
       "      <td>9.992376e+04</td>\n",
       "      <td>1600.754328</td>\n",
       "      <td>1.456471e+06</td>\n",
       "      <td>...</td>\n",
       "      <td>33.738300</td>\n",
       "      <td>4.975225</td>\n",
       "      <td>36.513991</td>\n",
       "      <td>4.325672</td>\n",
       "      <td>39.036511</td>\n",
       "      <td>4.259203</td>\n",
       "      <td>40.920736</td>\n",
       "      <td>4.362488</td>\n",
       "      <td>47.345745</td>\n",
       "      <td>NaN</td>\n",
       "    </tr>\n",
       "    <tr>\n",
       "      <th>min</th>\n",
       "      <td>0.126113</td>\n",
       "      <td>0.014554</td>\n",
       "      <td>0.001251</td>\n",
       "      <td>1.780778e-07</td>\n",
       "      <td>518.949680</td>\n",
       "      <td>2.389426e+03</td>\n",
       "      <td>695.900448</td>\n",
       "      <td>1.960306e+03</td>\n",
       "      <td>713.768228</td>\n",
       "      <td>1.260120e+03</td>\n",
       "      <td>...</td>\n",
       "      <td>2.335869</td>\n",
       "      <td>-18.991085</td>\n",
       "      <td>4.162258</td>\n",
       "      <td>-15.889191</td>\n",
       "      <td>10.180762</td>\n",
       "      <td>-20.310465</td>\n",
       "      <td>11.670246</td>\n",
       "      <td>-21.439188</td>\n",
       "      <td>0.528655</td>\n",
       "      <td>NaN</td>\n",
       "    </tr>\n",
       "    <tr>\n",
       "      <th>25%</th>\n",
       "      <td>0.318897</td>\n",
       "      <td>0.081522</td>\n",
       "      <td>0.085172</td>\n",
       "      <td>8.013145e-04</td>\n",
       "      <td>1641.892948</td>\n",
       "      <td>1.586539e+05</td>\n",
       "      <td>1892.997981</td>\n",
       "      <td>5.984662e+04</td>\n",
       "      <td>3386.701969</td>\n",
       "      <td>7.048487e+05</td>\n",
       "      <td>...</td>\n",
       "      <td>36.644349</td>\n",
       "      <td>-7.617412</td>\n",
       "      <td>36.777968</td>\n",
       "      <td>-2.127181</td>\n",
       "      <td>36.199359</td>\n",
       "      <td>-5.087884</td>\n",
       "      <td>37.353881</td>\n",
       "      <td>-3.614868</td>\n",
       "      <td>37.319560</td>\n",
       "      <td>NaN</td>\n",
       "    </tr>\n",
       "    <tr>\n",
       "      <th>50%</th>\n",
       "      <td>0.384743</td>\n",
       "      <td>0.086310</td>\n",
       "      <td>0.121440</td>\n",
       "      <td>1.714807e-03</td>\n",
       "      <td>2219.993089</td>\n",
       "      <td>3.165817e+05</td>\n",
       "      <td>2225.534119</td>\n",
       "      <td>1.041495e+05</td>\n",
       "      <td>4660.726922</td>\n",
       "      <td>1.335184e+06</td>\n",
       "      <td>...</td>\n",
       "      <td>48.830534</td>\n",
       "      <td>-4.232909</td>\n",
       "      <td>49.993694</td>\n",
       "      <td>0.550131</td>\n",
       "      <td>49.636464</td>\n",
       "      <td>-2.512369</td>\n",
       "      <td>51.855023</td>\n",
       "      <td>-1.112768</td>\n",
       "      <td>53.529153</td>\n",
       "      <td>NaN</td>\n",
       "    </tr>\n",
       "    <tr>\n",
       "      <th>75%</th>\n",
       "      <td>0.438246</td>\n",
       "      <td>0.091423</td>\n",
       "      <td>0.175636</td>\n",
       "      <td>3.326403e-03</td>\n",
       "      <td>2701.593712</td>\n",
       "      <td>5.957259e+05</td>\n",
       "      <td>2586.507099</td>\n",
       "      <td>1.709418e+05</td>\n",
       "      <td>5570.548470</td>\n",
       "      <td>2.421513e+06</td>\n",
       "      <td>...</td>\n",
       "      <td>67.008066</td>\n",
       "      <td>-0.787814</td>\n",
       "      <td>70.930372</td>\n",
       "      <td>3.445445</td>\n",
       "      <td>71.917170</td>\n",
       "      <td>0.162183</td>\n",
       "      <td>75.648439</td>\n",
       "      <td>1.648025</td>\n",
       "      <td>78.926547</td>\n",
       "      <td>NaN</td>\n",
       "    </tr>\n",
       "    <tr>\n",
       "      <th>max</th>\n",
       "      <td>0.715664</td>\n",
       "      <td>0.112509</td>\n",
       "      <td>0.428984</td>\n",
       "      <td>2.833341e-02</td>\n",
       "      <td>5430.693430</td>\n",
       "      <td>3.347463e+06</td>\n",
       "      <td>3668.873197</td>\n",
       "      <td>1.354849e+06</td>\n",
       "      <td>9388.726368</td>\n",
       "      <td>9.884046e+06</td>\n",
       "      <td>...</td>\n",
       "      <td>468.867520</td>\n",
       "      <td>23.010735</td>\n",
       "      <td>647.384770</td>\n",
       "      <td>22.642700</td>\n",
       "      <td>588.701050</td>\n",
       "      <td>21.863365</td>\n",
       "      <td>560.703060</td>\n",
       "      <td>23.908262</td>\n",
       "      <td>712.592100</td>\n",
       "      <td>NaN</td>\n",
       "    </tr>\n",
       "  </tbody>\n",
       "</table>\n",
       "<p>11 rows × 58 columns</p>\n",
       "</div>"
      ],
      "text/plain": [
       "        chroma_stft_mean  chroma_stft_var     rms_mean       rms_var  \\\n",
       "count        2988.000000      2988.000000  2988.000000  2.988000e+03   \n",
       "unique               NaN              NaN          NaN           NaN   \n",
       "top                  NaN              NaN          NaN           NaN   \n",
       "freq                 NaN              NaN          NaN           NaN   \n",
       "mean            0.378823         0.085846     0.130570  2.870646e-03   \n",
       "std             0.084776         0.008636     0.066960  3.593416e-03   \n",
       "min             0.126113         0.014554     0.001251  1.780778e-07   \n",
       "25%             0.318897         0.081522     0.085172  8.013145e-04   \n",
       "50%             0.384743         0.086310     0.121440  1.714807e-03   \n",
       "75%             0.438246         0.091423     0.175636  3.326403e-03   \n",
       "max             0.715664         0.112509     0.428984  2.833341e-02   \n",
       "\n",
       "        spectral_centroid_mean  spectral_centroid_var  \\\n",
       "count              2988.000000           2.988000e+03   \n",
       "unique                     NaN                    NaN   \n",
       "top                        NaN                    NaN   \n",
       "freq                       NaN                    NaN   \n",
       "mean               2200.838173           4.496328e+05   \n",
       "std                 729.637169           4.146715e+05   \n",
       "min                 518.949680           2.389426e+03   \n",
       "25%                1641.892948           1.586539e+05   \n",
       "50%                2219.993089           3.165817e+05   \n",
       "75%                2701.593712           5.957259e+05   \n",
       "max                5430.693430           3.347463e+06   \n",
       "\n",
       "        spectral_bandwidth_mean  spectral_bandwidth_var  rolloff_mean  \\\n",
       "count               2988.000000            2.988000e+03   2988.000000   \n",
       "unique                      NaN                     NaN           NaN   \n",
       "top                         NaN                     NaN           NaN   \n",
       "freq                        NaN                     NaN           NaN   \n",
       "mean                2241.994650            1.291835e+05   4569.365666   \n",
       "std                  533.451980            9.992376e+04   1600.754328   \n",
       "min                  695.900448            1.960306e+03    713.768228   \n",
       "25%                 1892.997981            5.984662e+04   3386.701969   \n",
       "50%                 2225.534119            1.041495e+05   4660.726922   \n",
       "75%                 2586.507099            1.709418e+05   5570.548470   \n",
       "max                 3668.873197            1.354849e+06   9388.726368   \n",
       "\n",
       "         rolloff_var  ...   mfcc16_var  mfcc17_mean   mfcc17_var  mfcc18_mean  \\\n",
       "count   2.988000e+03  ...  2988.000000  2988.000000  2988.000000  2988.000000   \n",
       "unique           NaN  ...          NaN          NaN          NaN          NaN   \n",
       "top              NaN  ...          NaN          NaN          NaN          NaN   \n",
       "freq             NaN  ...          NaN          NaN          NaN          NaN   \n",
       "mean    1.759079e+06  ...    56.749994    -4.073705    59.094801     0.603902   \n",
       "std     1.456471e+06  ...    33.738300     4.975225    36.513991     4.325672   \n",
       "min     1.260120e+03  ...     2.335869   -18.991085     4.162258   -15.889191   \n",
       "25%     7.048487e+05  ...    36.644349    -7.617412    36.777968    -2.127181   \n",
       "50%     1.335184e+06  ...    48.830534    -4.232909    49.993694     0.550131   \n",
       "75%     2.421513e+06  ...    67.008066    -0.787814    70.930372     3.445445   \n",
       "max     9.884046e+06  ...   468.867520    23.010735   647.384770    22.642700   \n",
       "\n",
       "         mfcc18_var  mfcc19_mean   mfcc19_var  mfcc20_mean   mfcc20_var  genre  \n",
       "count   2988.000000  2988.000000  2988.000000  2988.000000  2988.000000   2988  \n",
       "unique          NaN          NaN          NaN          NaN          NaN     10  \n",
       "top             NaN          NaN          NaN          NaN          NaN  blues  \n",
       "freq            NaN          NaN          NaN          NaN          NaN    300  \n",
       "mean      60.373921    -2.408998    62.671869    -1.031245    65.967863    NaN  \n",
       "std       39.036511     4.259203    40.920736     4.362488    47.345745    NaN  \n",
       "min       10.180762   -20.310465    11.670246   -21.439188     0.528655    NaN  \n",
       "25%       36.199359    -5.087884    37.353881    -3.614868    37.319560    NaN  \n",
       "50%       49.636464    -2.512369    51.855023    -1.112768    53.529153    NaN  \n",
       "75%       71.917170     0.162183    75.648439     1.648025    78.926547    NaN  \n",
       "max      588.701050    21.863365   560.703060    23.908262   712.592100    NaN  \n",
       "\n",
       "[11 rows x 58 columns]"
      ]
     },
     "execution_count": 4,
     "metadata": {},
     "output_type": "execute_result"
    }
   ],
   "source": [
    "# Clean the 'tempo' column\n",
    "data['tempo'] = data['tempo'].str.strip('[]').astype(float)\n",
    "\n",
    "# Verify the changes\n",
    "data.describe(include='all')"
   ]
  },
  {
   "cell_type": "markdown",
   "id": "d2ab3cbc",
   "metadata": {},
   "source": [
    "## Begin Preprocessing"
   ]
  },
  {
   "cell_type": "markdown",
   "id": "d4bc2053",
   "metadata": {},
   "source": [
    "Apply the low pass filter through use of a moving average with a window size of 3."
   ]
  },
  {
   "cell_type": "code",
   "execution_count": 5,
   "id": "9d39f937",
   "metadata": {},
   "outputs": [],
   "source": [
    "def apply_moving_average_filter(df, window_size=3):\n",
    "    feature_columns = df.columns.difference(['genre'])\n",
    "    df[feature_columns] = df[feature_columns].rolling(window=window_size, min_periods=1).mean()\n",
    "    return df\n",
    "\n",
    "data = apply_moving_average_filter(data)"
   ]
  },
  {
   "cell_type": "markdown",
   "id": "bae3885d",
   "metadata": {},
   "source": [
    "## Shuffle and Split data"
   ]
  },
  {
   "cell_type": "markdown",
   "id": "cc411a3b",
   "metadata": {},
   "source": [
    "Split data into training and testing sets (70/30)."
   ]
  },
  {
   "cell_type": "code",
   "execution_count": 6,
   "id": "856874ef",
   "metadata": {},
   "outputs": [],
   "source": [
    "# Split the data into features and target variable\n",
    "X = np.array(data.iloc[:, :-1], dtype=float)\n",
    "y = data.iloc[:, -1]\n",
    "\n",
    "# Split the dataset with 70% for training set and 30% for test set\n",
    "X_train, X_test, y_train, y_test = train_test_split(X, y, test_size=0.30, random_state=42)"
   ]
  },
  {
   "cell_type": "markdown",
   "id": "90a3426b",
   "metadata": {},
   "source": [
    "## Normalize the data set and encode the labels"
   ]
  },
  {
   "cell_type": "code",
   "execution_count": 7,
   "id": "1f882bf1",
   "metadata": {},
   "outputs": [],
   "source": [
    "# Scale the features\n",
    "scaler = StandardScaler()\n",
    "X_train = scaler.fit_transform(X_train)\n",
    "X_test = scaler.transform(X_test)\n",
    "\n",
    "# Encode the target labels\n",
    "encoder = LabelEncoder()\n",
    "y_train = encoder.fit_transform(y_train)\n",
    "y_test = encoder.transform(y_test)"
   ]
  },
  {
   "cell_type": "markdown",
   "id": "dd999c8f",
   "metadata": {},
   "source": [
    "## Learning curves "
   ]
  },
  {
   "cell_type": "markdown",
   "id": "f513d331",
   "metadata": {},
   "source": [
    "Learning curve function"
   ]
  },
  {
   "cell_type": "code",
   "execution_count": 8,
   "id": "31ea6238",
   "metadata": {},
   "outputs": [],
   "source": [
    "def plot_learning_curve(estimator, title, X, y, cv=None, n_jobs=None):\n",
    "    plt.figure()\n",
    "    plt.title(title)\n",
    "    train_sizes, train_scores, test_scores = learning_curve(estimator, X, y, cv=cv, n_jobs=n_jobs, train_sizes=np.linspace(.1, 1.0, 5))\n",
    "    train_scores_mean = np.mean(train_scores, axis=1)\n",
    "    test_scores_mean = np.mean(test_scores, axis=1)\n",
    "    plt.plot(train_sizes, train_scores_mean, 'o-', color=\"r\", label=\"Training score\")\n",
    "    plt.plot(train_sizes, test_scores_mean, 'o-', color=\"g\", label=\"Cross-validation score\")\n",
    "    plt.xlabel(\"Training examples\")\n",
    "    plt.ylabel(\"Score\")\n",
    "    plt.legend(loc=\"best\")\n",
    "    plt.grid()\n",
    "    plt.show()"
   ]
  },
  {
   "cell_type": "markdown",
   "id": "d089132f",
   "metadata": {},
   "source": [
    "## Model initialization and hyper parameter tuning"
   ]
  },
  {
   "cell_type": "markdown",
   "id": "6ab68640",
   "metadata": {},
   "source": [
    "Define function for model train and evaluation"
   ]
  },
  {
   "cell_type": "code",
   "execution_count": 9,
   "id": "58f0c0d3",
   "metadata": {},
   "outputs": [],
   "source": [
    "# Define the model training and evaluation function with cross-validation\n",
    "def train_and_evaluate_model(model, param_grid):\n",
    "    grid_search = GridSearchCV(model, param_grid, cv=StratifiedKFold(n_splits=5), scoring='accuracy', error_score='raise')\n",
    "    grid_search.fit(X_train, y_train)\n",
    "    best_model = grid_search.best_estimator_\n",
    "\n",
    "    # Cross-validation\n",
    "    cv_scores = cross_val_score(best_model, X_train, y_train, cv=StratifiedKFold(n_splits=5), scoring='accuracy')\n",
    "    print(f'Cross-validation scores: {cv_scores}')\n",
    "    print(f'Mean cross-validation score: {np.mean(cv_scores)}')\n",
    "\n",
    "    y_pred = best_model.predict(X_test)\n",
    "    accuracy = accuracy_score(y_test, y_pred)\n",
    "    report = classification_report(y_test, y_pred, target_names=encoder.classes_)\n",
    "    return best_model, accuracy, report\n"
   ]
  },
  {
   "cell_type": "markdown",
   "id": "27d75621",
   "metadata": {},
   "source": [
    "Random Forest Model."
   ]
  },
  {
   "cell_type": "code",
   "execution_count": 10,
   "id": "b2fd683e",
   "metadata": {},
   "outputs": [
    {
     "name": "stdout",
     "output_type": "stream",
     "text": [
      "Cross-validation scores: [0.87112172 0.87799043 0.88516746 0.88277512 0.89712919]\n",
      "Mean cross-validation score: 0.8828367838668051\n",
      "Random Forest Accuracy: 0.89520624303233\n",
      "Random Forest Classification Report:\n",
      "               precision    recall  f1-score   support\n",
      "\n",
      "       blues       0.91      0.93      0.92       100\n",
      "   classical       0.96      0.95      0.95        95\n",
      "     country       0.83      0.90      0.86        91\n",
      "       disco       0.87      0.89      0.88        91\n",
      "      hiphop       0.92      0.87      0.90        93\n",
      "        jazz       0.90      0.95      0.93        88\n",
      "       metal       0.94      0.96      0.95        82\n",
      "         pop       0.92      0.95      0.93        83\n",
      "      reggae       0.83      0.80      0.81        84\n",
      "        rock       0.87      0.74      0.80        90\n",
      "\n",
      "    accuracy                           0.90       897\n",
      "   macro avg       0.89      0.90      0.89       897\n",
      "weighted avg       0.90      0.90      0.89       897\n",
      "\n"
     ]
    },
    {
     "data": {
      "image/png": "[encoded data removed]",
      "text/plain": [
       "<Figure size 640x480 with 1 Axes>"
      ]
     },
     "metadata": {},
     "output_type": "display_data"
    }
   ],
   "source": [
    "rf_param_grid = {\n",
    "    'n_estimators': [100, 250, 1000],\n",
    "    'max_features': ['sqrt', 'log2'],\n",
    "    'max_depth': [None, 10, 20, 30],\n",
    "    'min_samples_split': [2, 5, 10],\n",
    "    'min_samples_leaf': [1, 2, 4]\n",
    "}\n",
    "rf_model = RandomForestClassifier()\n",
    "rf_best_model, rf_accuracy, rf_report = train_and_evaluate_model(rf_model, rf_param_grid)\n",
    "print(\"Random Forest Accuracy:\", rf_accuracy)\n",
    "print(\"Random Forest Classification Report:\\n\", rf_report)\n",
    "\n",
    "plot_learning_curve(rf_best_model, \"Learning Curves (Random Forest)\", X, y, cv=5)"
   ]
  },
  {
   "cell_type": "markdown",
   "id": "d4aedfa3",
   "metadata": {},
   "source": [
    "Support Vector Machine Model. "
   ]
  },
  {
   "cell_type": "code",
   "execution_count": 11,
   "id": "dcb794e1",
   "metadata": {},
   "outputs": [
    {
     "name": "stdout",
     "output_type": "stream",
     "text": [
      "Cross-validation scores: [0.92840095 0.96172249 0.96411483 0.94258373 0.94736842]\n",
      "Mean cross-validation score: 0.9488380856676297\n",
      "SVM Accuracy: 0.9609810479375697\n",
      "SVM Classification Report:\n",
      "               precision    recall  f1-score   support\n",
      "\n",
      "       blues       0.96      0.99      0.98       100\n",
      "   classical       0.98      0.98      0.98        95\n",
      "     country       0.97      0.92      0.94        91\n",
      "       disco       0.95      0.98      0.96        91\n",
      "      hiphop       0.98      0.98      0.98        93\n",
      "        jazz       0.96      0.99      0.97        88\n",
      "       metal       1.00      0.99      0.99        82\n",
      "         pop       0.93      0.96      0.95        83\n",
      "      reggae       0.95      0.92      0.93        84\n",
      "        rock       0.94      0.90      0.92        90\n",
      "\n",
      "    accuracy                           0.96       897\n",
      "   macro avg       0.96      0.96      0.96       897\n",
      "weighted avg       0.96      0.96      0.96       897\n",
      "\n"
     ]
    },
    {
     "name": "stderr",
     "output_type": "stream",
     "text": [
      "/Users/isaiah/opt/anaconda3/envs/ELEC292/lib/python3.9/site-packages/sklearn/model_selection/_validation.py:547: FitFailedWarning: \n",
      "5 fits failed out of a total of 25.\n",
      "The score on these train-test partitions for these parameters will be set to nan.\n",
      "If these failures are not expected, you can try to debug them by setting error_score='raise'.\n",
      "\n",
      "Below are more details about the failures:\n",
      "--------------------------------------------------------------------------------\n",
      "5 fits failed with the following error:\n",
      "Traceback (most recent call last):\n",
      "  File \"/Users/isaiah/opt/anaconda3/envs/ELEC292/lib/python3.9/site-packages/sklearn/model_selection/_validation.py\", line 895, in _fit_and_score\n",
      "    estimator.fit(X_train, y_train, **fit_params)\n",
      "  File \"/Users/isaiah/opt/anaconda3/envs/ELEC292/lib/python3.9/site-packages/sklearn/base.py\", line 1474, in wrapper\n",
      "    return fit_method(estimator, *args, **kwargs)\n",
      "  File \"/Users/isaiah/opt/anaconda3/envs/ELEC292/lib/python3.9/site-packages/sklearn/svm/_base.py\", line 199, in fit\n",
      "    y = self._validate_targets(y)\n",
      "  File \"/Users/isaiah/opt/anaconda3/envs/ELEC292/lib/python3.9/site-packages/sklearn/svm/_base.py\", line 743, in _validate_targets\n",
      "    raise ValueError(\n",
      "ValueError: The number of classes has to be greater than one; got 1 class\n",
      "\n",
      "  warnings.warn(some_fits_failed_message, FitFailedWarning)\n"
     ]
    },
    {
     "data": {
      "image/png": "[encoded data removed]",
      "text/plain": [
       "<Figure size 640x480 with 1 Axes>"
      ]
     },
     "metadata": {},
     "output_type": "display_data"
    }
   ],
   "source": [
    "svm_param_grid = {\n",
    "    'C': [0.01, 0.1, 1, 10, 100],\n",
    "    'gamma': [1, 0.1, 0.01, 0.001, 0.0001],\n",
    "    'kernel': ['rbf', 'linear']\n",
    "}\n",
    "svm_model = SVC()\n",
    "svm_best_model, svm_accuracy, svm_report = train_and_evaluate_model(svm_model, svm_param_grid)\n",
    "print(\"SVM Accuracy:\", svm_accuracy)\n",
    "print(\"SVM Classification Report:\\n\", svm_report)\n",
    "\n",
    "plot_learning_curve(svm_best_model, \"Learning Curves (SVM)\", X, y, cv=5)"
   ]
  },
  {
   "cell_type": "markdown",
   "id": "d86a77d4",
   "metadata": {},
   "source": [
    "Gradient Boost Model."
   ]
  },
  {
   "cell_type": "code",
   "execution_count": 12,
   "id": "7491ad4c",
   "metadata": {},
   "outputs": [
    {
     "name": "stdout",
     "output_type": "stream",
     "text": [
      "Cross-validation scores: [0.87828162 0.90191388 0.86602871 0.8923445  0.90909091]\n",
      "Mean cross-validation score: 0.8895319226684633\n",
      "Gradient Boosting Accuracy: 0.8807134894091416\n",
      "Gradient Boosting Classification Report:\n",
      "               precision    recall  f1-score   support\n",
      "\n",
      "       blues       0.92      0.87      0.89       100\n",
      "   classical       0.98      0.91      0.94        95\n",
      "     country       0.87      0.89      0.88        91\n",
      "       disco       0.82      0.88      0.85        91\n",
      "      hiphop       0.90      0.85      0.87        93\n",
      "        jazz       0.82      0.92      0.87        88\n",
      "       metal       0.92      0.96      0.94        82\n",
      "         pop       0.93      0.92      0.92        83\n",
      "      reggae       0.84      0.83      0.84        84\n",
      "        rock       0.83      0.79      0.81        90\n",
      "\n",
      "    accuracy                           0.88       897\n",
      "   macro avg       0.88      0.88      0.88       897\n",
      "weighted avg       0.88      0.88      0.88       897\n",
      "\n"
     ]
    },
    {
     "name": "stderr",
     "output_type": "stream",
     "text": [
      "/Users/isaiah/opt/anaconda3/envs/ELEC292/lib/python3.9/site-packages/sklearn/model_selection/_validation.py:547: FitFailedWarning: \n",
      "5 fits failed out of a total of 25.\n",
      "The score on these train-test partitions for these parameters will be set to nan.\n",
      "If these failures are not expected, you can try to debug them by setting error_score='raise'.\n",
      "\n",
      "Below are more details about the failures:\n",
      "--------------------------------------------------------------------------------\n",
      "5 fits failed with the following error:\n",
      "Traceback (most recent call last):\n",
      "  File \"/Users/isaiah/opt/anaconda3/envs/ELEC292/lib/python3.9/site-packages/sklearn/model_selection/_validation.py\", line 895, in _fit_and_score\n",
      "    estimator.fit(X_train, y_train, **fit_params)\n",
      "  File \"/Users/isaiah/opt/anaconda3/envs/ELEC292/lib/python3.9/site-packages/sklearn/base.py\", line 1474, in wrapper\n",
      "    return fit_method(estimator, *args, **kwargs)\n",
      "  File \"/Users/isaiah/opt/anaconda3/envs/ELEC292/lib/python3.9/site-packages/sklearn/ensemble/_gb.py\", line 665, in fit\n",
      "    y = self._encode_y(y=y, sample_weight=None)\n",
      "  File \"/Users/isaiah/opt/anaconda3/envs/ELEC292/lib/python3.9/site-packages/sklearn/ensemble/_gb.py\", line 1520, in _encode_y\n",
      "    raise ValueError(\n",
      "ValueError: y contains 1 class after sample_weight trimmed classes with zero weights, while a minimum of 2 classes are required.\n",
      "\n",
      "  warnings.warn(some_fits_failed_message, FitFailedWarning)\n"
     ]
    },
    {
     "data": {
      "image/png": "[encoded data removed]",
      "text/plain": [
       "<Figure size 640x480 with 1 Axes>"
      ]
     },
     "metadata": {},
     "output_type": "display_data"
    }
   ],
   "source": [
    "gb_param_grid = {\n",
    "    'n_estimators': [50, 100, 200],\n",
    "    'learning_rate': [0.01, 0.1, 0.5],\n",
    "    'max_depth': [3, 5, 7]\n",
    "}\n",
    "gb_model = GradientBoostingClassifier()\n",
    "gb_best_model, gb_accuracy, gb_report = train_and_evaluate_model(gb_model, gb_param_grid)\n",
    "print(\"Gradient Boosting Accuracy:\", gb_accuracy)\n",
    "print(\"Gradient Boosting Classification Report:\\n\", gb_report)\n",
    "\n",
    "plot_learning_curve(gb_best_model, \"Learning Curves (Gradient Boosting)\", X, y, cv=5)\n"
   ]
  },
  {
   "cell_type": "markdown",
   "id": "95b8e642",
   "metadata": {},
   "source": [
    "KNeighbours Model. "
   ]
  },
  {
   "cell_type": "code",
   "execution_count": 13,
   "id": "ee9673d7",
   "metadata": {},
   "outputs": [
    {
     "name": "stderr",
     "output_type": "stream",
     "text": [
      "/Users/isaiah/opt/anaconda3/envs/ELEC292/lib/python3.9/site-packages/threadpoolctl.py:1186: RuntimeWarning: \n",
      "Found Intel OpenMP ('libiomp') and LLVM OpenMP ('libomp') loaded at\n",
      "the same time. Both libraries are known to be incompatible and this\n",
      "can cause random crashes or deadlocks on Linux when loaded in the\n",
      "same Python program.\n",
      "Using threadpoolctl may cause crashes or deadlocks. For more\n",
      "information and possible workarounds, please see\n",
      "    https://github.com/joblib/threadpoolctl/blob/master/multiple_openmp.md\n",
      "\n",
      "  warnings.warn(msg, RuntimeWarning)\n"
     ]
    },
    {
     "name": "stdout",
     "output_type": "stream",
     "text": [
      "Cross-validation scores: [0.90930788 0.90669856 0.9138756  0.92822967 0.93062201]\n",
      "Mean cross-validation score: 0.9177467426431123\n",
      "KNeighbors Accuracy: 0.9364548494983278\n",
      "KNeighbors Classification Report:\n",
      "               precision    recall  f1-score   support\n",
      "\n",
      "       blues       0.99      0.92      0.95       100\n",
      "   classical       0.99      0.96      0.97        95\n",
      "     country       0.93      0.96      0.94        91\n",
      "       disco       0.86      0.98      0.91        91\n",
      "      hiphop       0.98      0.87      0.92        93\n",
      "        jazz       0.94      0.95      0.95        88\n",
      "       metal       0.97      0.94      0.96        82\n",
      "         pop       0.94      0.95      0.95        83\n",
      "      reggae       0.89      0.95      0.92        84\n",
      "        rock       0.90      0.89      0.89        90\n",
      "\n",
      "    accuracy                           0.94       897\n",
      "   macro avg       0.94      0.94      0.94       897\n",
      "weighted avg       0.94      0.94      0.94       897\n",
      "\n"
     ]
    },
    {
     "data": {
      "image/png": "[encoded data removed]",
      "text/plain": [
       "<Figure size 640x480 with 1 Axes>"
      ]
     },
     "metadata": {},
     "output_type": "display_data"
    }
   ],
   "source": [
    "knn_param_grid = {\n",
    "    'n_neighbors': [3, 5, 7, 9, 11, 13],\n",
    "    'weights': ['uniform', 'distance'],\n",
    "    'metric': ['euclidean', 'manhattan']\n",
    "}\n",
    "knn_model = KNeighborsClassifier()\n",
    "knn_best_model, knn_accuracy, knn_report = train_and_evaluate_model(knn_model, knn_param_grid)\n",
    "print(\"KNeighbors Accuracy:\", knn_accuracy)\n",
    "print(\"KNeighbors Classification Report:\\n\", knn_report)\n",
    "\n",
    "plot_learning_curve(knn_best_model, \"Learning Curves (KNN)\", X, y, cv=5)"
   ]
  },
  {
   "cell_type": "markdown",
   "id": "811a7aa0",
   "metadata": {},
   "source": [
    "Logistic Regression"
   ]
  },
  {
   "cell_type": "code",
   "execution_count": 14,
   "id": "36e35eb7",
   "metadata": {},
   "outputs": [
    {
     "name": "stderr",
     "output_type": "stream",
     "text": [
      "/Users/isaiah/opt/anaconda3/envs/ELEC292/lib/python3.9/site-packages/sklearn/linear_model/_sag.py:350: ConvergenceWarning: The max_iter was reached which means the coef_ did not converge\n",
      "  warnings.warn(\n",
      "/Users/isaiah/opt/anaconda3/envs/ELEC292/lib/python3.9/site-packages/sklearn/linear_model/_sag.py:350: ConvergenceWarning: The max_iter was reached which means the coef_ did not converge\n",
      "  warnings.warn(\n",
      "/Users/isaiah/opt/anaconda3/envs/ELEC292/lib/python3.9/site-packages/sklearn/linear_model/_sag.py:350: ConvergenceWarning: The max_iter was reached which means the coef_ did not converge\n",
      "  warnings.warn(\n",
      "/Users/isaiah/opt/anaconda3/envs/ELEC292/lib/python3.9/site-packages/sklearn/linear_model/_sag.py:350: ConvergenceWarning: The max_iter was reached which means the coef_ did not converge\n",
      "  warnings.warn(\n",
      "/Users/isaiah/opt/anaconda3/envs/ELEC292/lib/python3.9/site-packages/sklearn/linear_model/_sag.py:350: ConvergenceWarning: The max_iter was reached which means the coef_ did not converge\n",
      "  warnings.warn(\n",
      "/Users/isaiah/opt/anaconda3/envs/ELEC292/lib/python3.9/site-packages/sklearn/linear_model/_sag.py:350: ConvergenceWarning: The max_iter was reached which means the coef_ did not converge\n",
      "  warnings.warn(\n",
      "/Users/isaiah/opt/anaconda3/envs/ELEC292/lib/python3.9/site-packages/sklearn/linear_model/_sag.py:350: ConvergenceWarning: The max_iter was reached which means the coef_ did not converge\n",
      "  warnings.warn(\n",
      "/Users/isaiah/opt/anaconda3/envs/ELEC292/lib/python3.9/site-packages/sklearn/linear_model/_sag.py:350: ConvergenceWarning: The max_iter was reached which means the coef_ did not converge\n",
      "  warnings.warn(\n",
      "/Users/isaiah/opt/anaconda3/envs/ELEC292/lib/python3.9/site-packages/sklearn/linear_model/_sag.py:350: ConvergenceWarning: The max_iter was reached which means the coef_ did not converge\n",
      "  warnings.warn(\n",
      "/Users/isaiah/opt/anaconda3/envs/ELEC292/lib/python3.9/site-packages/sklearn/linear_model/_sag.py:350: ConvergenceWarning: The max_iter was reached which means the coef_ did not converge\n",
      "  warnings.warn(\n",
      "/Users/isaiah/opt/anaconda3/envs/ELEC292/lib/python3.9/site-packages/sklearn/linear_model/_sag.py:350: ConvergenceWarning: The max_iter was reached which means the coef_ did not converge\n",
      "  warnings.warn(\n",
      "/Users/isaiah/opt/anaconda3/envs/ELEC292/lib/python3.9/site-packages/sklearn/linear_model/_sag.py:350: ConvergenceWarning: The max_iter was reached which means the coef_ did not converge\n",
      "  warnings.warn(\n",
      "/Users/isaiah/opt/anaconda3/envs/ELEC292/lib/python3.9/site-packages/sklearn/linear_model/_sag.py:350: ConvergenceWarning: The max_iter was reached which means the coef_ did not converge\n",
      "  warnings.warn(\n",
      "/Users/isaiah/opt/anaconda3/envs/ELEC292/lib/python3.9/site-packages/sklearn/linear_model/_sag.py:350: ConvergenceWarning: The max_iter was reached which means the coef_ did not converge\n",
      "  warnings.warn(\n",
      "/Users/isaiah/opt/anaconda3/envs/ELEC292/lib/python3.9/site-packages/sklearn/linear_model/_sag.py:350: ConvergenceWarning: The max_iter was reached which means the coef_ did not converge\n",
      "  warnings.warn(\n",
      "/Users/isaiah/opt/anaconda3/envs/ELEC292/lib/python3.9/site-packages/sklearn/linear_model/_sag.py:350: ConvergenceWarning: The max_iter was reached which means the coef_ did not converge\n",
      "  warnings.warn(\n",
      "/Users/isaiah/opt/anaconda3/envs/ELEC292/lib/python3.9/site-packages/sklearn/linear_model/_sag.py:350: ConvergenceWarning: The max_iter was reached which means the coef_ did not converge\n",
      "  warnings.warn(\n",
      "/Users/isaiah/opt/anaconda3/envs/ELEC292/lib/python3.9/site-packages/sklearn/linear_model/_sag.py:350: ConvergenceWarning: The max_iter was reached which means the coef_ did not converge\n",
      "  warnings.warn(\n",
      "/Users/isaiah/opt/anaconda3/envs/ELEC292/lib/python3.9/site-packages/sklearn/linear_model/_sag.py:350: ConvergenceWarning: The max_iter was reached which means the coef_ did not converge\n",
      "  warnings.warn(\n",
      "/Users/isaiah/opt/anaconda3/envs/ELEC292/lib/python3.9/site-packages/sklearn/linear_model/_sag.py:350: ConvergenceWarning: The max_iter was reached which means the coef_ did not converge\n",
      "  warnings.warn(\n",
      "/Users/isaiah/opt/anaconda3/envs/ELEC292/lib/python3.9/site-packages/sklearn/linear_model/_sag.py:350: ConvergenceWarning: The max_iter was reached which means the coef_ did not converge\n",
      "  warnings.warn(\n",
      "/Users/isaiah/opt/anaconda3/envs/ELEC292/lib/python3.9/site-packages/sklearn/linear_model/_sag.py:350: ConvergenceWarning: The max_iter was reached which means the coef_ did not converge\n",
      "  warnings.warn(\n",
      "/Users/isaiah/opt/anaconda3/envs/ELEC292/lib/python3.9/site-packages/sklearn/linear_model/_sag.py:350: ConvergenceWarning: The max_iter was reached which means the coef_ did not converge\n",
      "  warnings.warn(\n",
      "/Users/isaiah/opt/anaconda3/envs/ELEC292/lib/python3.9/site-packages/sklearn/linear_model/_sag.py:350: ConvergenceWarning: The max_iter was reached which means the coef_ did not converge\n",
      "  warnings.warn(\n",
      "/Users/isaiah/opt/anaconda3/envs/ELEC292/lib/python3.9/site-packages/sklearn/linear_model/_sag.py:350: ConvergenceWarning: The max_iter was reached which means the coef_ did not converge\n",
      "  warnings.warn(\n",
      "/Users/isaiah/opt/anaconda3/envs/ELEC292/lib/python3.9/site-packages/sklearn/linear_model/_sag.py:350: ConvergenceWarning: The max_iter was reached which means the coef_ did not converge\n",
      "  warnings.warn(\n",
      "/Users/isaiah/opt/anaconda3/envs/ELEC292/lib/python3.9/site-packages/sklearn/linear_model/_sag.py:350: ConvergenceWarning: The max_iter was reached which means the coef_ did not converge\n",
      "  warnings.warn(\n",
      "/Users/isaiah/opt/anaconda3/envs/ELEC292/lib/python3.9/site-packages/sklearn/linear_model/_sag.py:350: ConvergenceWarning: The max_iter was reached which means the coef_ did not converge\n",
      "  warnings.warn(\n",
      "/Users/isaiah/opt/anaconda3/envs/ELEC292/lib/python3.9/site-packages/sklearn/linear_model/_sag.py:350: ConvergenceWarning: The max_iter was reached which means the coef_ did not converge\n",
      "  warnings.warn(\n",
      "/Users/isaiah/opt/anaconda3/envs/ELEC292/lib/python3.9/site-packages/sklearn/linear_model/_sag.py:350: ConvergenceWarning: The max_iter was reached which means the coef_ did not converge\n",
      "  warnings.warn(\n",
      "/Users/isaiah/opt/anaconda3/envs/ELEC292/lib/python3.9/site-packages/sklearn/linear_model/_sag.py:350: ConvergenceWarning: The max_iter was reached which means the coef_ did not converge\n",
      "  warnings.warn(\n",
      "/Users/isaiah/opt/anaconda3/envs/ELEC292/lib/python3.9/site-packages/sklearn/linear_model/_sag.py:350: ConvergenceWarning: The max_iter was reached which means the coef_ did not converge\n",
      "  warnings.warn(\n",
      "/Users/isaiah/opt/anaconda3/envs/ELEC292/lib/python3.9/site-packages/sklearn/linear_model/_sag.py:350: ConvergenceWarning: The max_iter was reached which means the coef_ did not converge\n",
      "  warnings.warn(\n",
      "/Users/isaiah/opt/anaconda3/envs/ELEC292/lib/python3.9/site-packages/sklearn/linear_model/_sag.py:350: ConvergenceWarning: The max_iter was reached which means the coef_ did not converge\n",
      "  warnings.warn(\n",
      "/Users/isaiah/opt/anaconda3/envs/ELEC292/lib/python3.9/site-packages/sklearn/linear_model/_sag.py:350: ConvergenceWarning: The max_iter was reached which means the coef_ did not converge\n",
      "  warnings.warn(\n",
      "/Users/isaiah/opt/anaconda3/envs/ELEC292/lib/python3.9/site-packages/sklearn/linear_model/_sag.py:350: ConvergenceWarning: The max_iter was reached which means the coef_ did not converge\n",
      "  warnings.warn(\n",
      "/Users/isaiah/opt/anaconda3/envs/ELEC292/lib/python3.9/site-packages/sklearn/linear_model/_sag.py:350: ConvergenceWarning: The max_iter was reached which means the coef_ did not converge\n",
      "  warnings.warn(\n",
      "/Users/isaiah/opt/anaconda3/envs/ELEC292/lib/python3.9/site-packages/sklearn/linear_model/_sag.py:350: ConvergenceWarning: The max_iter was reached which means the coef_ did not converge\n",
      "  warnings.warn(\n",
      "/Users/isaiah/opt/anaconda3/envs/ELEC292/lib/python3.9/site-packages/sklearn/linear_model/_sag.py:350: ConvergenceWarning: The max_iter was reached which means the coef_ did not converge\n",
      "  warnings.warn(\n",
      "/Users/isaiah/opt/anaconda3/envs/ELEC292/lib/python3.9/site-packages/sklearn/linear_model/_sag.py:350: ConvergenceWarning: The max_iter was reached which means the coef_ did not converge\n",
      "  warnings.warn(\n",
      "/Users/isaiah/opt/anaconda3/envs/ELEC292/lib/python3.9/site-packages/sklearn/linear_model/_sag.py:350: ConvergenceWarning: The max_iter was reached which means the coef_ did not converge\n",
      "  warnings.warn(\n",
      "/Users/isaiah/opt/anaconda3/envs/ELEC292/lib/python3.9/site-packages/sklearn/linear_model/_sag.py:350: ConvergenceWarning: The max_iter was reached which means the coef_ did not converge\n",
      "  warnings.warn(\n",
      "/Users/isaiah/opt/anaconda3/envs/ELEC292/lib/python3.9/site-packages/sklearn/linear_model/_sag.py:350: ConvergenceWarning: The max_iter was reached which means the coef_ did not converge\n",
      "  warnings.warn(\n",
      "/Users/isaiah/opt/anaconda3/envs/ELEC292/lib/python3.9/site-packages/sklearn/linear_model/_sag.py:350: ConvergenceWarning: The max_iter was reached which means the coef_ did not converge\n",
      "  warnings.warn(\n",
      "/Users/isaiah/opt/anaconda3/envs/ELEC292/lib/python3.9/site-packages/sklearn/linear_model/_sag.py:350: ConvergenceWarning: The max_iter was reached which means the coef_ did not converge\n",
      "  warnings.warn(\n",
      "/Users/isaiah/opt/anaconda3/envs/ELEC292/lib/python3.9/site-packages/sklearn/linear_model/_sag.py:350: ConvergenceWarning: The max_iter was reached which means the coef_ did not converge\n",
      "  warnings.warn(\n",
      "/Users/isaiah/opt/anaconda3/envs/ELEC292/lib/python3.9/site-packages/sklearn/linear_model/_sag.py:350: ConvergenceWarning: The max_iter was reached which means the coef_ did not converge\n",
      "  warnings.warn(\n",
      "/Users/isaiah/opt/anaconda3/envs/ELEC292/lib/python3.9/site-packages/sklearn/linear_model/_sag.py:350: ConvergenceWarning: The max_iter was reached which means the coef_ did not converge\n",
      "  warnings.warn(\n",
      "/Users/isaiah/opt/anaconda3/envs/ELEC292/lib/python3.9/site-packages/sklearn/linear_model/_sag.py:350: ConvergenceWarning: The max_iter was reached which means the coef_ did not converge\n",
      "  warnings.warn(\n",
      "/Users/isaiah/opt/anaconda3/envs/ELEC292/lib/python3.9/site-packages/sklearn/linear_model/_sag.py:350: ConvergenceWarning: The max_iter was reached which means the coef_ did not converge\n",
      "  warnings.warn(\n",
      "/Users/isaiah/opt/anaconda3/envs/ELEC292/lib/python3.9/site-packages/sklearn/linear_model/_sag.py:350: ConvergenceWarning: The max_iter was reached which means the coef_ did not converge\n",
      "  warnings.warn(\n"
     ]
    },
    {
     "name": "stdout",
     "output_type": "stream",
     "text": [
      "Cross-validation scores: [0.85680191 0.85645933 0.87799043 0.86124402 0.8708134 ]\n",
      "Mean cross-validation score: 0.8646618172682737\n",
      "Logistic Regression Accuracy: 0.8807134894091416\n",
      "Logistic Regression Classification Report:\n",
      "               precision    recall  f1-score   support\n",
      "\n",
      "       blues       0.89      0.89      0.89       100\n",
      "   classical       0.99      0.99      0.99        95\n",
      "     country       0.88      0.84      0.86        91\n",
      "       disco       0.88      0.85      0.86        91\n",
      "      hiphop       0.90      0.81      0.85        93\n",
      "        jazz       0.90      0.93      0.92        88\n",
      "       metal       0.92      0.93      0.92        82\n",
      "         pop       0.85      0.94      0.89        83\n",
      "      reggae       0.78      0.81      0.80        84\n",
      "        rock       0.82      0.83      0.82        90\n",
      "\n",
      "    accuracy                           0.88       897\n",
      "   macro avg       0.88      0.88      0.88       897\n",
      "weighted avg       0.88      0.88      0.88       897\n",
      "\n"
     ]
    },
    {
     "name": "stderr",
     "output_type": "stream",
     "text": [
      "/Users/isaiah/opt/anaconda3/envs/ELEC292/lib/python3.9/site-packages/sklearn/linear_model/_sag.py:350: ConvergenceWarning: The max_iter was reached which means the coef_ did not converge\n",
      "  warnings.warn(\n",
      "/Users/isaiah/opt/anaconda3/envs/ELEC292/lib/python3.9/site-packages/sklearn/linear_model/_sag.py:350: ConvergenceWarning: The max_iter was reached which means the coef_ did not converge\n",
      "  warnings.warn(\n",
      "/Users/isaiah/opt/anaconda3/envs/ELEC292/lib/python3.9/site-packages/sklearn/linear_model/_sag.py:350: ConvergenceWarning: The max_iter was reached which means the coef_ did not converge\n",
      "  warnings.warn(\n",
      "/Users/isaiah/opt/anaconda3/envs/ELEC292/lib/python3.9/site-packages/sklearn/linear_model/_sag.py:350: ConvergenceWarning: The max_iter was reached which means the coef_ did not converge\n",
      "  warnings.warn(\n",
      "/Users/isaiah/opt/anaconda3/envs/ELEC292/lib/python3.9/site-packages/sklearn/linear_model/_sag.py:350: ConvergenceWarning: The max_iter was reached which means the coef_ did not converge\n",
      "  warnings.warn(\n",
      "/Users/isaiah/opt/anaconda3/envs/ELEC292/lib/python3.9/site-packages/sklearn/linear_model/_sag.py:350: ConvergenceWarning: The max_iter was reached which means the coef_ did not converge\n",
      "  warnings.warn(\n",
      "/Users/isaiah/opt/anaconda3/envs/ELEC292/lib/python3.9/site-packages/sklearn/linear_model/_sag.py:350: ConvergenceWarning: The max_iter was reached which means the coef_ did not converge\n",
      "  warnings.warn(\n",
      "/Users/isaiah/opt/anaconda3/envs/ELEC292/lib/python3.9/site-packages/sklearn/linear_model/_sag.py:350: ConvergenceWarning: The max_iter was reached which means the coef_ did not converge\n",
      "  warnings.warn(\n",
      "/Users/isaiah/opt/anaconda3/envs/ELEC292/lib/python3.9/site-packages/sklearn/linear_model/_sag.py:350: ConvergenceWarning: The max_iter was reached which means the coef_ did not converge\n",
      "  warnings.warn(\n",
      "/Users/isaiah/opt/anaconda3/envs/ELEC292/lib/python3.9/site-packages/sklearn/linear_model/_sag.py:350: ConvergenceWarning: The max_iter was reached which means the coef_ did not converge\n",
      "  warnings.warn(\n",
      "/Users/isaiah/opt/anaconda3/envs/ELEC292/lib/python3.9/site-packages/sklearn/linear_model/_sag.py:350: ConvergenceWarning: The max_iter was reached which means the coef_ did not converge\n",
      "  warnings.warn(\n",
      "/Users/isaiah/opt/anaconda3/envs/ELEC292/lib/python3.9/site-packages/sklearn/linear_model/_sag.py:350: ConvergenceWarning: The max_iter was reached which means the coef_ did not converge\n",
      "  warnings.warn(\n",
      "/Users/isaiah/opt/anaconda3/envs/ELEC292/lib/python3.9/site-packages/sklearn/linear_model/_sag.py:350: ConvergenceWarning: The max_iter was reached which means the coef_ did not converge\n",
      "  warnings.warn(\n",
      "/Users/isaiah/opt/anaconda3/envs/ELEC292/lib/python3.9/site-packages/sklearn/linear_model/_sag.py:350: ConvergenceWarning: The max_iter was reached which means the coef_ did not converge\n",
      "  warnings.warn(\n",
      "/Users/isaiah/opt/anaconda3/envs/ELEC292/lib/python3.9/site-packages/sklearn/linear_model/_sag.py:350: ConvergenceWarning: The max_iter was reached which means the coef_ did not converge\n",
      "  warnings.warn(\n",
      "/Users/isaiah/opt/anaconda3/envs/ELEC292/lib/python3.9/site-packages/sklearn/linear_model/_sag.py:350: ConvergenceWarning: The max_iter was reached which means the coef_ did not converge\n",
      "  warnings.warn(\n",
      "/Users/isaiah/opt/anaconda3/envs/ELEC292/lib/python3.9/site-packages/sklearn/linear_model/_sag.py:350: ConvergenceWarning: The max_iter was reached which means the coef_ did not converge\n",
      "  warnings.warn(\n",
      "/Users/isaiah/opt/anaconda3/envs/ELEC292/lib/python3.9/site-packages/sklearn/linear_model/_sag.py:350: ConvergenceWarning: The max_iter was reached which means the coef_ did not converge\n",
      "  warnings.warn(\n",
      "/Users/isaiah/opt/anaconda3/envs/ELEC292/lib/python3.9/site-packages/sklearn/linear_model/_sag.py:350: ConvergenceWarning: The max_iter was reached which means the coef_ did not converge\n",
      "  warnings.warn(\n",
      "/Users/isaiah/opt/anaconda3/envs/ELEC292/lib/python3.9/site-packages/sklearn/linear_model/_sag.py:350: ConvergenceWarning: The max_iter was reached which means the coef_ did not converge\n",
      "  warnings.warn(\n",
      "/Users/isaiah/opt/anaconda3/envs/ELEC292/lib/python3.9/site-packages/sklearn/model_selection/_validation.py:547: FitFailedWarning: \n",
      "5 fits failed out of a total of 25.\n",
      "The score on these train-test partitions for these parameters will be set to nan.\n",
      "If these failures are not expected, you can try to debug them by setting error_score='raise'.\n",
      "\n",
      "Below are more details about the failures:\n",
      "--------------------------------------------------------------------------------\n",
      "5 fits failed with the following error:\n",
      "Traceback (most recent call last):\n",
      "  File \"/Users/isaiah/opt/anaconda3/envs/ELEC292/lib/python3.9/site-packages/sklearn/model_selection/_validation.py\", line 895, in _fit_and_score\n",
      "    estimator.fit(X_train, y_train, **fit_params)\n",
      "  File \"/Users/isaiah/opt/anaconda3/envs/ELEC292/lib/python3.9/site-packages/sklearn/base.py\", line 1474, in wrapper\n",
      "    return fit_method(estimator, *args, **kwargs)\n",
      "  File \"/Users/isaiah/opt/anaconda3/envs/ELEC292/lib/python3.9/site-packages/sklearn/linear_model/_logistic.py\", line 1246, in fit\n",
      "    raise ValueError(\n",
      "ValueError: This solver needs samples of at least 2 classes in the data, but the data contains only one class: 'blues'\n",
      "\n",
      "  warnings.warn(some_fits_failed_message, FitFailedWarning)\n"
     ]
    },
    {
     "data": {
      "image/png": "[encoded data removed]",
      "text/plain": [
       "<Figure size 640x480 with 1 Axes>"
      ]
     },
     "metadata": {},
     "output_type": "display_data"
    }
   ],
   "source": [
    "logreg_param_grid = {\n",
    "    'C': [0.01, 0.1, 1, 10, 100],\n",
    "    'solver': ['liblinear', 'saga'],\n",
    "    'max_iter': [200, 500, 1000]\n",
    "}\n",
    "\n",
    "logreg_model = LogisticRegression()\n",
    "logreg_best_model, logreg_accuracy, logreg_report = train_and_evaluate_model(logreg_model, logreg_param_grid)\n",
    "print(\"Logistic Regression Accuracy:\", logreg_accuracy)\n",
    "print(\"Logistic Regression Classification Report:\\n\", logreg_report)\n",
    "\n",
    "plot_learning_curve(logreg_best_model, \"Learning Curves (Logistic Regression)\", X, y, cv=5)"
   ]
  },
  {
   "cell_type": "markdown",
   "id": "d4838709",
   "metadata": {},
   "source": [
    "## Save models for future use"
   ]
  },
  {
   "cell_type": "markdown",
   "id": "44455683",
   "metadata": {},
   "source": [
    "Use library to save model for export/import"
   ]
  },
  {
   "cell_type": "code",
   "execution_count": 15,
   "id": "e7f3d699",
   "metadata": {},
   "outputs": [
    {
     "data": {
      "text/plain": [
       "['outputs/y_test.pkl']"
      ]
     },
     "execution_count": 15,
     "metadata": {},
     "output_type": "execute_result"
    }
   ],
   "source": [
    "# Save the best models\n",
    "joblib.dump(rf_best_model, 'outputs/rf_best_model.pkl')\n",
    "joblib.dump(svm_best_model, 'outputs/svm_best_model.pkl')\n",
    "joblib.dump(gb_best_model, 'outputs/gb_best_model.pkl')\n",
    "joblib.dump(knn_best_model, 'outputs/knn_best_model.pkl')\n",
    "joblib.dump(logreg_best_model, 'outputs/logreg_best_model.pkl')\n",
    "\n",
    "# Save the scaler and encoder\n",
    "joblib.dump(scaler, 'outputs/scaler.pkl')\n",
    "joblib.dump(encoder, 'outputs/encoder.pkl')"
   ]
  },
  {
   "cell_type": "markdown",
   "id": "490e9939",
   "metadata": {},
   "source": [
    "## External validation"
   ]
  },
  {
   "cell_type": "markdown",
   "id": "e78f8ebe",
   "metadata": {},
   "source": [
    "Preprocess the external data."
   ]
  },
  {
   "cell_type": "code",
   "execution_count": 23,
   "id": "6e3be77c",
   "metadata": {},
   "outputs": [],
   "source": [
    "# Load external data\n",
    "external_data = pd.read_csv('file_features.csv')\n",
    "external_data = external_data.drop(columns=['filename', 'start', 'end'])\n",
    "\n",
    "# Clean the 'tempo' column\n",
    "external_data['tempo'] = external_data['tempo'].str.strip('[]').astype(float)\n",
    "\n",
    "# Apply the same moving average filter\n",
    "external_data = apply_moving_average_filter(external_data)\n",
    "\n",
    "# Separate features\n",
    "X_external = np.array(external_data.iloc[:, :], dtype=float)\n",
    "\n",
    "# Load the scaler and transform the features\n",
    "scaler = joblib.load('outputs/scaler.pkl')\n",
    "X_external = scaler.transform(X_external)\n"
   ]
  },
  {
   "cell_type": "markdown",
   "id": "6691ee3d",
   "metadata": {},
   "source": [
    "Apply the best models on the external data. "
   ]
  },
  {
   "cell_type": "code",
   "execution_count": 24,
   "id": "57eb0269",
   "metadata": {},
   "outputs": [],
   "source": [
    "# Load the best models\n",
    "rf_best_model = joblib.load('outputs/rf_best_model.pkl')\n",
    "svm_best_model = joblib.load('outputs/svm_best_model.pkl')\n",
    "gb_best_model = joblib.load('outputs/gb_best_model.pkl')\n",
    "knn_best_model = joblib.load('outputs/knn_best_model.pkl')\n",
    "logreg_best_model = joblib.load('outputs/logreg_best_model.pkl')\n",
    "\n",
    "# Define a function to evaluate a model on unlabeled external data\n",
    "def evaluate_model_on_external_data(model, X_ext):\n",
    "    y_pred = model.predict(X_ext)\n",
    "    return y_pred\n",
    "\n",
    "# Evaluate each model and gather predictions\n",
    "rf_predictions = evaluate_model_on_external_data(rf_best_model, X_external)\n",
    "svm_predictions = evaluate_model_on_external_data(svm_best_model, X_external)\n",
    "gb_predictions = evaluate_model_on_external_data(gb_best_model, X_external)\n",
    "knn_predictions = evaluate_model_on_external_data(knn_best_model, X_external)\n",
    "logreg_predictions = evaluate_model_on_external_data(logreg_best_model, X_external)"
   ]
  },
  {
   "cell_type": "markdown",
   "id": "dcf01059",
   "metadata": {},
   "source": [
    "Aggregate predictions and export to CSV with console printing"
   ]
  },
  {
   "cell_type": "code",
   "execution_count": 25,
   "id": "edf8f58a",
   "metadata": {},
   "outputs": [
    {
     "name": "stdout",
     "output_type": "stream",
     "text": [
      "Individual Model Predictions:\n",
      "    RF  SVM  GB  KNN  LogReg\n",
      "0    1    1   0    1       1\n",
      "1    1    1   0    1       1\n",
      "2    1    1   0    1       1\n",
      "3    5    1   0    5       1\n",
      "4    5    1   0    5       1\n",
      "5    5    1   0    5       0\n",
      "6    5    1   0    5       1\n",
      "7    5    1   0    1       1\n",
      "8    5    1   0    1       1\n",
      "9    1    1   0    1       1\n",
      "10   5    1   0    1       1\n",
      "11   1    1   0    1       1\n",
      "12   1    1   0    1       1\n",
      "13   1    1   0    1       1\n",
      "14   1    1   0    1       1\n",
      "\n",
      "Aggregated Predictions Per Segment:\n",
      "0     classical\n",
      "1     classical\n",
      "2     classical\n",
      "3     classical\n",
      "4     classical\n",
      "5         blues\n",
      "6     classical\n",
      "7     classical\n",
      "8     classical\n",
      "9     classical\n",
      "10    classical\n",
      "11    classical\n",
      "12    classical\n",
      "13    classical\n",
      "14    classical\n",
      "Name: 0, dtype: object\n",
      "\n",
      "Singular Aggregated Prediction:\n",
      "classical\n"
     ]
    }
   ],
   "source": [
    "\n",
    "# Create a DataFrame to hold predictions of each model\n",
    "predictions_df = pd.DataFrame({\n",
    "    'RF': rf_predictions,\n",
    "    'SVM': svm_predictions,\n",
    "    'GB': gb_predictions,\n",
    "    'KNN': knn_predictions,\n",
    "    'LogReg': logreg_predictions\n",
    "})\n",
    "\n",
    "# Aggregate predictions per segment\n",
    "aggregated_per_segment = predictions_df.mode(axis=1)[0]\n",
    "\n",
    "# Map predicted numbers to genre names\n",
    "encoder = joblib.load('outputs/encoder.pkl')\n",
    "aggregated_per_segment_genre = aggregated_per_segment.astype(int).map(lambda x: encoder.classes_[x])\n",
    "\n",
    "# Save aggregated predictions per segment\n",
    "aggregated_per_segment_df = pd.DataFrame(aggregated_per_segment_genre, columns=['Aggregated Per Segment'])\n",
    "\n",
    "# Aggregate all single segments to output a singular prediction\n",
    "singular_final_prediction = int(aggregated_per_segment.mode()[0])\n",
    "\n",
    "# Map predicted number to genre name\n",
    "singular_final_prediction_genre = encoder.classes_[singular_final_prediction]\n",
    "\n",
    "# Print the results\n",
    "print(\"Individual Model Predictions:\")\n",
    "print(predictions_df)\n",
    "print(\"\\nAggregated Predictions Per Segment:\")\n",
    "print(aggregated_per_segment_genre)\n",
    "print(\"\\nSingular Aggregated Prediction:\")\n",
    "print(singular_final_prediction_genre)\n",
    "\n",
    "# Save the singular final prediction\n",
    "with open('outputs/singular_final_prediction.txt', 'w') as f:\n",
    "    f.write(singular_final_prediction_genre)"
   ]
  }
 ],
 "metadata": {
  "kernelspec": {
   "display_name": "Python 3 (ipykernel)",
   "language": "python",
   "name": "python3"
  },
  "language_info": {
   "codemirror_mode": {
    "name": "ipython",
    "version": 3
   },
   "file_extension": ".py",
   "mimetype": "text/x-python",
   "name": "python",
   "nbconvert_exporter": "python",
   "pygments_lexer": "ipython3",
   "version": "3.9.18"
  }
 },
 "nbformat": 4,
 "nbformat_minor": 5
}
