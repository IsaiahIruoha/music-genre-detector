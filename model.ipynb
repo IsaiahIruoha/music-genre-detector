{
 "cells": [
  {
   "cell_type": "markdown",
   "id": "8b2fae50",
   "metadata": {},
   "source": [
    "# Supervised Learning Music Genre Classification"
   ]
  },
  {
   "cell_type": "markdown",
   "id": "e886f4ed",
   "metadata": {},
   "source": [
    "## Import Statements"
   ]
  },
  {
   "cell_type": "markdown",
   "id": "83b590e7",
   "metadata": {},
   "source": [
    "Start by importing necessary libraries."
   ]
  },
  {
   "cell_type": "code",
   "execution_count": 1,
   "id": "22138a63",
   "metadata": {},
   "outputs": [
    {
     "name": "stdout",
     "output_type": "stream",
     "text": [
      "Intel MKL WARNING: Support of Intel(R) Streaming SIMD Extensions 4.2 (Intel(R) SSE4.2) enabled only processors has been deprecated. Intel oneAPI Math Kernel Library 2025.0 will require Intel(R) Advanced Vector Extensions (Intel(R) AVX) instructions.\n",
      "Intel MKL WARNING: Support of Intel(R) Streaming SIMD Extensions 4.2 (Intel(R) SSE4.2) enabled only processors has been deprecated. Intel oneAPI Math Kernel Library 2025.0 will require Intel(R) Advanced Vector Extensions (Intel(R) AVX) instructions.\n"
     ]
    }
   ],
   "source": [
    "import os\n",
    "import pandas as pd\n",
    "import numpy as np\n",
    "import matplotlib.pyplot as plt\n",
    "from sklearn.linear_model import LogisticRegression\n",
    "from sklearn.model_selection import train_test_split, cross_val_score, GridSearchCV, learning_curve, validation_curve, StratifiedKFold\n",
    "from sklearn.preprocessing import StandardScaler, LabelEncoder\n",
    "from sklearn.ensemble import GradientBoostingClassifier, RandomForestClassifier\n",
    "from sklearn.metrics import accuracy_score, classification_report\n",
    "from sklearn.svm import SVC\n",
    "from sklearn.neighbors import KNeighborsClassifier\n",
    "import soundfile as sf\n",
    "import joblib"
   ]
  },
  {
   "cell_type": "markdown",
   "id": "3f7e202e",
   "metadata": {},
   "source": [
    "## Import Data from prepared CSV"
   ]
  },
  {
   "cell_type": "code",
   "execution_count": 2,
   "id": "2150c4a0",
   "metadata": {},
   "outputs": [
    {
     "data": {
      "text/plain": [
       "(990, 58)"
      ]
     },
     "execution_count": 2,
     "metadata": {},
     "output_type": "execute_result"
    }
   ],
   "source": [
    "data = pd.read_csv('all_genres_audio_features.csv')\n",
    "data = data.drop(columns= ['filename','start','end']) \n",
    "\n",
    "genres = [\"blues\", \"classical\", \"country\", \"disco\", \"hiphop\", \"jazz\", \"metal\", \"pop\", \"reggae\", \"rock\"]\n",
    "\n",
    "data.shape"
   ]
  },
  {
   "cell_type": "markdown",
   "id": "58539520",
   "metadata": {},
   "source": [
    "Check for duplicates. "
   ]
  },
  {
   "cell_type": "code",
   "execution_count": 3,
   "id": "703ac5dd",
   "metadata": {},
   "outputs": [
    {
     "name": "stdout",
     "output_type": "stream",
     "text": [
      "Duplicates or null values found in data\n"
     ]
    }
   ],
   "source": [
    "def check_duplicates_or_nulls(data):\n",
    "    duplicates = data.duplicated().sum() > 0\n",
    "    nulls = data.isnull().sum().sum() > 0\n",
    "    return duplicates or nulls\n",
    "\n",
    "if check_duplicates_or_nulls(data):\n",
    "    print('Duplicates or null values found in data')\n",
    "else:\n",
    "    print('No duplicates or null values found in data')"
   ]
  },
  {
   "cell_type": "markdown",
   "id": "d6a2c169",
   "metadata": {},
   "source": [
    "Deal with strings in features"
   ]
  },
  {
   "cell_type": "code",
   "execution_count": 4,
   "id": "6012da20",
   "metadata": {},
   "outputs": [
    {
     "data": {
      "text/html": [
       "<div>\n",
       "<style scoped>\n",
       "    .dataframe tbody tr th:only-of-type {\n",
       "        vertical-align: middle;\n",
       "    }\n",
       "\n",
       "    .dataframe tbody tr th {\n",
       "        vertical-align: top;\n",
       "    }\n",
       "\n",
       "    .dataframe thead th {\n",
       "        text-align: right;\n",
       "    }\n",
       "</style>\n",
       "<table border=\"1\" class=\"dataframe\">\n",
       "  <thead>\n",
       "    <tr style=\"text-align: right;\">\n",
       "      <th></th>\n",
       "      <th>chroma_stft_mean</th>\n",
       "      <th>chroma_stft_var</th>\n",
       "      <th>rms_mean</th>\n",
       "      <th>rms_var</th>\n",
       "      <th>spectral_centroid_mean</th>\n",
       "      <th>spectral_centroid_var</th>\n",
       "      <th>spectral_bandwidth_mean</th>\n",
       "      <th>spectral_bandwidth_var</th>\n",
       "      <th>rolloff_mean</th>\n",
       "      <th>rolloff_var</th>\n",
       "      <th>...</th>\n",
       "      <th>mfcc16_var</th>\n",
       "      <th>mfcc17_mean</th>\n",
       "      <th>mfcc17_var</th>\n",
       "      <th>mfcc18_mean</th>\n",
       "      <th>mfcc18_var</th>\n",
       "      <th>mfcc19_mean</th>\n",
       "      <th>mfcc19_var</th>\n",
       "      <th>mfcc20_mean</th>\n",
       "      <th>mfcc20_var</th>\n",
       "      <th>genre</th>\n",
       "    </tr>\n",
       "  </thead>\n",
       "  <tbody>\n",
       "    <tr>\n",
       "      <th>count</th>\n",
       "      <td>990.000000</td>\n",
       "      <td>990.000000</td>\n",
       "      <td>990.000000</td>\n",
       "      <td>990.000000</td>\n",
       "      <td>990.000000</td>\n",
       "      <td>9.900000e+02</td>\n",
       "      <td>990.000000</td>\n",
       "      <td>990.000000</td>\n",
       "      <td>990.000000</td>\n",
       "      <td>9.900000e+02</td>\n",
       "      <td>...</td>\n",
       "      <td>990.000000</td>\n",
       "      <td>990.000000</td>\n",
       "      <td>990.000000</td>\n",
       "      <td>990.000000</td>\n",
       "      <td>990.000000</td>\n",
       "      <td>990.000000</td>\n",
       "      <td>990.000000</td>\n",
       "      <td>990.000000</td>\n",
       "      <td>990.000000</td>\n",
       "      <td>990</td>\n",
       "    </tr>\n",
       "    <tr>\n",
       "      <th>unique</th>\n",
       "      <td>NaN</td>\n",
       "      <td>NaN</td>\n",
       "      <td>NaN</td>\n",
       "      <td>NaN</td>\n",
       "      <td>NaN</td>\n",
       "      <td>NaN</td>\n",
       "      <td>NaN</td>\n",
       "      <td>NaN</td>\n",
       "      <td>NaN</td>\n",
       "      <td>NaN</td>\n",
       "      <td>...</td>\n",
       "      <td>NaN</td>\n",
       "      <td>NaN</td>\n",
       "      <td>NaN</td>\n",
       "      <td>NaN</td>\n",
       "      <td>NaN</td>\n",
       "      <td>NaN</td>\n",
       "      <td>NaN</td>\n",
       "      <td>NaN</td>\n",
       "      <td>NaN</td>\n",
       "      <td>10</td>\n",
       "    </tr>\n",
       "    <tr>\n",
       "      <th>top</th>\n",
       "      <td>NaN</td>\n",
       "      <td>NaN</td>\n",
       "      <td>NaN</td>\n",
       "      <td>NaN</td>\n",
       "      <td>NaN</td>\n",
       "      <td>NaN</td>\n",
       "      <td>NaN</td>\n",
       "      <td>NaN</td>\n",
       "      <td>NaN</td>\n",
       "      <td>NaN</td>\n",
       "      <td>...</td>\n",
       "      <td>NaN</td>\n",
       "      <td>NaN</td>\n",
       "      <td>NaN</td>\n",
       "      <td>NaN</td>\n",
       "      <td>NaN</td>\n",
       "      <td>NaN</td>\n",
       "      <td>NaN</td>\n",
       "      <td>NaN</td>\n",
       "      <td>NaN</td>\n",
       "      <td>blues</td>\n",
       "    </tr>\n",
       "    <tr>\n",
       "      <th>freq</th>\n",
       "      <td>NaN</td>\n",
       "      <td>NaN</td>\n",
       "      <td>NaN</td>\n",
       "      <td>NaN</td>\n",
       "      <td>NaN</td>\n",
       "      <td>NaN</td>\n",
       "      <td>NaN</td>\n",
       "      <td>NaN</td>\n",
       "      <td>NaN</td>\n",
       "      <td>NaN</td>\n",
       "      <td>...</td>\n",
       "      <td>NaN</td>\n",
       "      <td>NaN</td>\n",
       "      <td>NaN</td>\n",
       "      <td>NaN</td>\n",
       "      <td>NaN</td>\n",
       "      <td>NaN</td>\n",
       "      <td>NaN</td>\n",
       "      <td>NaN</td>\n",
       "      <td>NaN</td>\n",
       "      <td>100</td>\n",
       "    </tr>\n",
       "    <tr>\n",
       "      <th>mean</th>\n",
       "      <td>0.378526</td>\n",
       "      <td>0.086380</td>\n",
       "      <td>0.130414</td>\n",
       "      <td>0.003054</td>\n",
       "      <td>2199.327355</td>\n",
       "      <td>4.702095e+05</td>\n",
       "      <td>2239.681058</td>\n",
       "      <td>137032.649397</td>\n",
       "      <td>4565.584867</td>\n",
       "      <td>1.843171e+06</td>\n",
       "      <td>...</td>\n",
       "      <td>60.857603</td>\n",
       "      <td>-3.977718</td>\n",
       "      <td>62.761515</td>\n",
       "      <td>0.510834</td>\n",
       "      <td>63.875337</td>\n",
       "      <td>-2.332108</td>\n",
       "      <td>66.381000</td>\n",
       "      <td>-1.107886</td>\n",
       "      <td>70.208984</td>\n",
       "      <td>NaN</td>\n",
       "    </tr>\n",
       "    <tr>\n",
       "      <th>std</th>\n",
       "      <td>0.081866</td>\n",
       "      <td>0.007767</td>\n",
       "      <td>0.065648</td>\n",
       "      <td>0.003650</td>\n",
       "      <td>716.918309</td>\n",
       "      <td>4.021494e+05</td>\n",
       "      <td>527.173141</td>\n",
       "      <td>96744.108324</td>\n",
       "      <td>1576.215437</td>\n",
       "      <td>1.429330e+06</td>\n",
       "      <td>...</td>\n",
       "      <td>33.889547</td>\n",
       "      <td>4.565682</td>\n",
       "      <td>33.586670</td>\n",
       "      <td>3.883969</td>\n",
       "      <td>34.514212</td>\n",
       "      <td>3.769515</td>\n",
       "      <td>37.321348</td>\n",
       "      <td>3.849626</td>\n",
       "      <td>45.418791</td>\n",
       "      <td>NaN</td>\n",
       "    </tr>\n",
       "    <tr>\n",
       "      <th>min</th>\n",
       "      <td>0.171770</td>\n",
       "      <td>0.044578</td>\n",
       "      <td>0.005270</td>\n",
       "      <td>0.000004</td>\n",
       "      <td>570.150688</td>\n",
       "      <td>7.957773e+03</td>\n",
       "      <td>899.979779</td>\n",
       "      <td>11160.012382</td>\n",
       "      <td>749.528801</td>\n",
       "      <td>1.480754e+04</td>\n",
       "      <td>...</td>\n",
       "      <td>9.205502</td>\n",
       "      <td>-17.235107</td>\n",
       "      <td>13.846979</td>\n",
       "      <td>-11.985029</td>\n",
       "      <td>15.395741</td>\n",
       "      <td>-18.505476</td>\n",
       "      <td>13.382758</td>\n",
       "      <td>-19.933723</td>\n",
       "      <td>7.877422</td>\n",
       "      <td>NaN</td>\n",
       "    </tr>\n",
       "    <tr>\n",
       "      <th>25%</th>\n",
       "      <td>0.319397</td>\n",
       "      <td>0.082381</td>\n",
       "      <td>0.086429</td>\n",
       "      <td>0.000940</td>\n",
       "      <td>1623.214609</td>\n",
       "      <td>1.840840e+05</td>\n",
       "      <td>1903.010596</td>\n",
       "      <td>67181.287307</td>\n",
       "      <td>3377.483743</td>\n",
       "      <td>7.690237e+05</td>\n",
       "      <td>...</td>\n",
       "      <td>40.488236</td>\n",
       "      <td>-7.241572</td>\n",
       "      <td>40.969441</td>\n",
       "      <td>-2.011947</td>\n",
       "      <td>41.861624</td>\n",
       "      <td>-4.696787</td>\n",
       "      <td>41.768796</td>\n",
       "      <td>-3.377763</td>\n",
       "      <td>42.257666</td>\n",
       "      <td>NaN</td>\n",
       "    </tr>\n",
       "    <tr>\n",
       "      <th>50%</th>\n",
       "      <td>0.383055</td>\n",
       "      <td>0.086644</td>\n",
       "      <td>0.120666</td>\n",
       "      <td>0.001817</td>\n",
       "      <td>2208.737431</td>\n",
       "      <td>3.392128e+05</td>\n",
       "      <td>2218.084461</td>\n",
       "      <td>112497.079762</td>\n",
       "      <td>4658.484331</td>\n",
       "      <td>1.467297e+06</td>\n",
       "      <td>...</td>\n",
       "      <td>52.461257</td>\n",
       "      <td>-4.076550</td>\n",
       "      <td>54.800145</td>\n",
       "      <td>0.668484</td>\n",
       "      <td>55.169390</td>\n",
       "      <td>-2.393830</td>\n",
       "      <td>57.557110</td>\n",
       "      <td>-1.185065</td>\n",
       "      <td>59.217588</td>\n",
       "      <td>NaN</td>\n",
       "    </tr>\n",
       "    <tr>\n",
       "      <th>75%</th>\n",
       "      <td>0.435470</td>\n",
       "      <td>0.091295</td>\n",
       "      <td>0.175362</td>\n",
       "      <td>0.003575</td>\n",
       "      <td>2685.204362</td>\n",
       "      <td>6.151319e+05</td>\n",
       "      <td>2575.647770</td>\n",
       "      <td>181960.326743</td>\n",
       "      <td>5525.670754</td>\n",
       "      <td>2.560563e+06</td>\n",
       "      <td>...</td>\n",
       "      <td>71.635835</td>\n",
       "      <td>-0.849765</td>\n",
       "      <td>75.093534</td>\n",
       "      <td>3.126128</td>\n",
       "      <td>76.165089</td>\n",
       "      <td>0.156752</td>\n",
       "      <td>78.933091</td>\n",
       "      <td>1.287499</td>\n",
       "      <td>85.776141</td>\n",
       "      <td>NaN</td>\n",
       "    </tr>\n",
       "    <tr>\n",
       "      <th>max</th>\n",
       "      <td>0.663541</td>\n",
       "      <td>0.108048</td>\n",
       "      <td>0.397851</td>\n",
       "      <td>0.027708</td>\n",
       "      <td>4434.948743</td>\n",
       "      <td>3.035514e+06</td>\n",
       "      <td>3509.582339</td>\n",
       "      <td>695146.000677</td>\n",
       "      <td>8676.447535</td>\n",
       "      <td>8.661012e+06</td>\n",
       "      <td>...</td>\n",
       "      <td>393.224270</td>\n",
       "      <td>11.479182</td>\n",
       "      <td>405.858300</td>\n",
       "      <td>15.386705</td>\n",
       "      <td>332.277770</td>\n",
       "      <td>14.691521</td>\n",
       "      <td>393.676480</td>\n",
       "      <td>15.362202</td>\n",
       "      <td>505.779500</td>\n",
       "      <td>NaN</td>\n",
       "    </tr>\n",
       "  </tbody>\n",
       "</table>\n",
       "<p>11 rows × 58 columns</p>\n",
       "</div>"
      ],
      "text/plain": [
       "        chroma_stft_mean  chroma_stft_var    rms_mean     rms_var  \\\n",
       "count         990.000000       990.000000  990.000000  990.000000   \n",
       "unique               NaN              NaN         NaN         NaN   \n",
       "top                  NaN              NaN         NaN         NaN   \n",
       "freq                 NaN              NaN         NaN         NaN   \n",
       "mean            0.378526         0.086380    0.130414    0.003054   \n",
       "std             0.081866         0.007767    0.065648    0.003650   \n",
       "min             0.171770         0.044578    0.005270    0.000004   \n",
       "25%             0.319397         0.082381    0.086429    0.000940   \n",
       "50%             0.383055         0.086644    0.120666    0.001817   \n",
       "75%             0.435470         0.091295    0.175362    0.003575   \n",
       "max             0.663541         0.108048    0.397851    0.027708   \n",
       "\n",
       "        spectral_centroid_mean  spectral_centroid_var  \\\n",
       "count               990.000000           9.900000e+02   \n",
       "unique                     NaN                    NaN   \n",
       "top                        NaN                    NaN   \n",
       "freq                       NaN                    NaN   \n",
       "mean               2199.327355           4.702095e+05   \n",
       "std                 716.918309           4.021494e+05   \n",
       "min                 570.150688           7.957773e+03   \n",
       "25%                1623.214609           1.840840e+05   \n",
       "50%                2208.737431           3.392128e+05   \n",
       "75%                2685.204362           6.151319e+05   \n",
       "max                4434.948743           3.035514e+06   \n",
       "\n",
       "        spectral_bandwidth_mean  spectral_bandwidth_var  rolloff_mean  \\\n",
       "count                990.000000              990.000000    990.000000   \n",
       "unique                      NaN                     NaN           NaN   \n",
       "top                         NaN                     NaN           NaN   \n",
       "freq                        NaN                     NaN           NaN   \n",
       "mean                2239.681058           137032.649397   4565.584867   \n",
       "std                  527.173141            96744.108324   1576.215437   \n",
       "min                  899.979779            11160.012382    749.528801   \n",
       "25%                 1903.010596            67181.287307   3377.483743   \n",
       "50%                 2218.084461           112497.079762   4658.484331   \n",
       "75%                 2575.647770           181960.326743   5525.670754   \n",
       "max                 3509.582339           695146.000677   8676.447535   \n",
       "\n",
       "         rolloff_var  ...  mfcc16_var  mfcc17_mean  mfcc17_var  mfcc18_mean  \\\n",
       "count   9.900000e+02  ...  990.000000   990.000000  990.000000   990.000000   \n",
       "unique           NaN  ...         NaN          NaN         NaN          NaN   \n",
       "top              NaN  ...         NaN          NaN         NaN          NaN   \n",
       "freq             NaN  ...         NaN          NaN         NaN          NaN   \n",
       "mean    1.843171e+06  ...   60.857603    -3.977718   62.761515     0.510834   \n",
       "std     1.429330e+06  ...   33.889547     4.565682   33.586670     3.883969   \n",
       "min     1.480754e+04  ...    9.205502   -17.235107   13.846979   -11.985029   \n",
       "25%     7.690237e+05  ...   40.488236    -7.241572   40.969441    -2.011947   \n",
       "50%     1.467297e+06  ...   52.461257    -4.076550   54.800145     0.668484   \n",
       "75%     2.560563e+06  ...   71.635835    -0.849765   75.093534     3.126128   \n",
       "max     8.661012e+06  ...  393.224270    11.479182  405.858300    15.386705   \n",
       "\n",
       "        mfcc18_var  mfcc19_mean  mfcc19_var  mfcc20_mean  mfcc20_var  genre  \n",
       "count   990.000000   990.000000  990.000000   990.000000  990.000000    990  \n",
       "unique         NaN          NaN         NaN          NaN         NaN     10  \n",
       "top            NaN          NaN         NaN          NaN         NaN  blues  \n",
       "freq           NaN          NaN         NaN          NaN         NaN    100  \n",
       "mean     63.875337    -2.332108   66.381000    -1.107886   70.208984    NaN  \n",
       "std      34.514212     3.769515   37.321348     3.849626   45.418791    NaN  \n",
       "min      15.395741   -18.505476   13.382758   -19.933723    7.877422    NaN  \n",
       "25%      41.861624    -4.696787   41.768796    -3.377763   42.257666    NaN  \n",
       "50%      55.169390    -2.393830   57.557110    -1.185065   59.217588    NaN  \n",
       "75%      76.165089     0.156752   78.933091     1.287499   85.776141    NaN  \n",
       "max     332.277770    14.691521  393.676480    15.362202  505.779500    NaN  \n",
       "\n",
       "[11 rows x 58 columns]"
      ]
     },
     "execution_count": 4,
     "metadata": {},
     "output_type": "execute_result"
    }
   ],
   "source": [
    "# Clean the 'tempo' column\n",
    "data['tempo'] = data['tempo'].str.strip('[]').astype(float)\n",
    "\n",
    "# Verify the changes\n",
    "data.describe(include='all')"
   ]
  },
  {
   "cell_type": "markdown",
   "id": "d2ab3cbc",
   "metadata": {},
   "source": [
    "## Begin Preprocessing"
   ]
  },
  {
   "cell_type": "markdown",
   "id": "d4bc2053",
   "metadata": {},
   "source": [
    "Apply the low pass filter through use of a moving average with a window size of 3."
   ]
  },
  {
   "cell_type": "code",
   "execution_count": 5,
   "id": "9d39f937",
   "metadata": {},
   "outputs": [],
   "source": [
    "def apply_moving_average_filter(df, window_size=3):\n",
    "    feature_columns = df.columns.difference(['genre'])\n",
    "    df[feature_columns] = df[feature_columns].rolling(window=window_size, min_periods=1).mean()\n",
    "    return df\n",
    "\n",
    "data = apply_moving_average_filter(data)"
   ]
  },
  {
   "cell_type": "markdown",
   "id": "bae3885d",
   "metadata": {},
   "source": [
    "## Shuffle and Split data"
   ]
  },
  {
   "cell_type": "markdown",
   "id": "cc411a3b",
   "metadata": {},
   "source": [
    "Split data into training and testing sets (70/30)."
   ]
  },
  {
   "cell_type": "code",
   "execution_count": 6,
   "id": "856874ef",
   "metadata": {},
   "outputs": [],
   "source": [
    "# Split the data into features and target variable\n",
    "X = np.array(data.iloc[:, :-1], dtype=float)\n",
    "y = data.iloc[:, -1]\n",
    "\n",
    "# Split the dataset with 70% for training set and 30% for test set\n",
    "X_train, X_test, y_train, y_test = train_test_split(X, y, test_size=0.30, random_state=42)"
   ]
  },
  {
   "cell_type": "markdown",
   "id": "90a3426b",
   "metadata": {},
   "source": [
    "## Normalize the data set and encode the labels"
   ]
  },
  {
   "cell_type": "code",
   "execution_count": 7,
   "id": "1f882bf1",
   "metadata": {},
   "outputs": [],
   "source": [
    "# Scale the features\n",
    "scaler = StandardScaler()\n",
    "X_train = scaler.fit_transform(X_train)\n",
    "X_test = scaler.transform(X_test)\n",
    "\n",
    "# Encode the target labels\n",
    "encoder = LabelEncoder()\n",
    "y_train = encoder.fit_transform(y_train)\n",
    "y_test = encoder.transform(y_test)"
   ]
  },
  {
   "cell_type": "markdown",
   "id": "dd999c8f",
   "metadata": {},
   "source": [
    "## Learning curves "
   ]
  },
  {
   "cell_type": "markdown",
   "id": "f513d331",
   "metadata": {},
   "source": [
    "Learning curve function"
   ]
  },
  {
   "cell_type": "code",
   "execution_count": 8,
   "id": "31ea6238",
   "metadata": {},
   "outputs": [],
   "source": [
    "def plot_learning_curve(estimator, title, X, y, cv=None, n_jobs=None):\n",
    "    plt.figure()\n",
    "    plt.title(title)\n",
    "    train_sizes, train_scores, test_scores = learning_curve(estimator, X, y, cv=cv, n_jobs=n_jobs, train_sizes=np.linspace(.1, 1.0, 5))\n",
    "    train_scores_mean = np.mean(train_scores, axis=1)\n",
    "    test_scores_mean = np.mean(test_scores, axis=1)\n",
    "    plt.plot(train_sizes, train_scores_mean, 'o-', color=\"r\", label=\"Training score\")\n",
    "    plt.plot(train_sizes, test_scores_mean, 'o-', color=\"g\", label=\"Cross-validation score\")\n",
    "    plt.xlabel(\"Training examples\")\n",
    "    plt.ylabel(\"Score\")\n",
    "    plt.legend(loc=\"best\")\n",
    "    plt.grid()\n",
    "    plt.show()"
   ]
  },
  {
   "cell_type": "markdown",
   "id": "d089132f",
   "metadata": {},
   "source": [
    "## Model initialization and hyper parameter tuning"
   ]
  },
  {
   "cell_type": "markdown",
   "id": "6ab68640",
   "metadata": {},
   "source": [
    "Define function for model train and evaluation"
   ]
  },
  {
   "cell_type": "code",
   "execution_count": 9,
   "id": "58f0c0d3",
   "metadata": {},
   "outputs": [],
   "source": [
    "# Define the model training and evaluation function with cross-validation\n",
    "def train_and_evaluate_model(model, param_grid):\n",
    "    grid_search = GridSearchCV(model, param_grid, cv=StratifiedKFold(n_splits=5), scoring='accuracy', error_score='raise')\n",
    "    grid_search.fit(X_train, y_train)\n",
    "    best_model = grid_search.best_estimator_\n",
    "\n",
    "    # Cross-validation\n",
    "    cv_scores = cross_val_score(best_model, X_train, y_train, cv=StratifiedKFold(n_splits=5), scoring='accuracy')\n",
    "    print(f'Cross-validation scores: {cv_scores}')\n",
    "    print(f'Mean cross-validation score: {np.mean(cv_scores)}')\n",
    "\n",
    "    y_pred = best_model.predict(X_test)\n",
    "    accuracy = accuracy_score(y_test, y_pred)\n",
    "    report = classification_report(y_test, y_pred, target_names=encoder.classes_)\n",
    "    return best_model, accuracy, report\n"
   ]
  },
  {
   "cell_type": "markdown",
   "id": "27d75621",
   "metadata": {},
   "source": [
    "Random Forest Model."
   ]
  },
  {
   "cell_type": "code",
   "execution_count": 10,
   "id": "b2fd683e",
   "metadata": {},
   "outputs": [
    {
     "name": "stdout",
     "output_type": "stream",
     "text": [
      "Cross-validation scores: [0.90647482 0.92805755 0.92805755 0.94927536 0.9057971 ]\n",
      "Mean cross-validation score: 0.923532478365134\n",
      "Random Forest Accuracy: 0.9090909090909091\n",
      "Random Forest Classification Report:\n",
      "               precision    recall  f1-score   support\n",
      "\n",
      "       blues       0.92      1.00      0.96        34\n",
      "   classical       1.00      1.00      1.00        18\n",
      "     country       1.00      0.91      0.95        34\n",
      "       disco       0.80      0.80      0.80        35\n",
      "      hiphop       0.88      0.81      0.84        26\n",
      "        jazz       0.94      0.97      0.95        30\n",
      "       metal       1.00      0.92      0.96        26\n",
      "         pop       0.94      0.91      0.92        33\n",
      "      reggae       0.82      1.00      0.90        27\n",
      "        rock       0.88      0.82      0.85        34\n",
      "\n",
      "    accuracy                           0.91       297\n",
      "   macro avg       0.92      0.91      0.91       297\n",
      "weighted avg       0.91      0.91      0.91       297\n",
      "\n"
     ]
    },
    {
     "data": {
      "image/png": "[encoded data removed]",
      "text/plain": [
       "<Figure size 640x480 with 1 Axes>"
      ]
     },
     "metadata": {},
     "output_type": "display_data"
    }
   ],
   "source": [
    "rf_param_grid = {\n",
    "    'n_estimators': [100, 250, 1000],\n",
    "    'max_features': ['sqrt', 'log2'],\n",
    "    'max_depth': [None, 10, 20, 30],\n",
    "    'min_samples_split': [2, 5, 10],\n",
    "    'min_samples_leaf': [1, 2, 4]\n",
    "}\n",
    "rf_model = RandomForestClassifier()\n",
    "rf_best_model, rf_accuracy, rf_report = train_and_evaluate_model(rf_model, rf_param_grid)\n",
    "print(\"Random Forest Accuracy:\", rf_accuracy)\n",
    "print(\"Random Forest Classification Report:\\n\", rf_report)\n",
    "\n",
    "plot_learning_curve(rf_best_model, \"Learning Curves (Random Forest)\", X, y, cv=5)"
   ]
  },
  {
   "cell_type": "markdown",
   "id": "d4aedfa3",
   "metadata": {},
   "source": [
    "Support Vector Machine Model. "
   ]
  },
  {
   "cell_type": "code",
   "execution_count": 11,
   "id": "dcb794e1",
   "metadata": {},
   "outputs": [
    {
     "name": "stdout",
     "output_type": "stream",
     "text": [
      "Cross-validation scores: [0.94964029 0.95683453 0.96402878 0.97826087 0.92753623]\n",
      "Mean cross-validation score: 0.9552601397143154\n",
      "SVM Accuracy: 0.9696969696969697\n",
      "SVM Classification Report:\n",
      "               precision    recall  f1-score   support\n",
      "\n",
      "       blues       1.00      1.00      1.00        34\n",
      "   classical       0.95      1.00      0.97        18\n",
      "     country       0.97      0.94      0.96        34\n",
      "       disco       0.92      1.00      0.96        35\n",
      "      hiphop       1.00      1.00      1.00        26\n",
      "        jazz       0.97      1.00      0.98        30\n",
      "       metal       1.00      0.92      0.96        26\n",
      "         pop       1.00      0.91      0.95        33\n",
      "      reggae       0.93      1.00      0.96        27\n",
      "        rock       0.97      0.94      0.96        34\n",
      "\n",
      "    accuracy                           0.97       297\n",
      "   macro avg       0.97      0.97      0.97       297\n",
      "weighted avg       0.97      0.97      0.97       297\n",
      "\n"
     ]
    },
    {
     "name": "stderr",
     "output_type": "stream",
     "text": [
      "/Users/isaiah/opt/anaconda3/envs/ELEC292/lib/python3.9/site-packages/sklearn/model_selection/_validation.py:547: FitFailedWarning: \n",
      "5 fits failed out of a total of 25.\n",
      "The score on these train-test partitions for these parameters will be set to nan.\n",
      "If these failures are not expected, you can try to debug them by setting error_score='raise'.\n",
      "\n",
      "Below are more details about the failures:\n",
      "--------------------------------------------------------------------------------\n",
      "5 fits failed with the following error:\n",
      "Traceback (most recent call last):\n",
      "  File \"/Users/isaiah/opt/anaconda3/envs/ELEC292/lib/python3.9/site-packages/sklearn/model_selection/_validation.py\", line 895, in _fit_and_score\n",
      "    estimator.fit(X_train, y_train, **fit_params)\n",
      "  File \"/Users/isaiah/opt/anaconda3/envs/ELEC292/lib/python3.9/site-packages/sklearn/base.py\", line 1474, in wrapper\n",
      "    return fit_method(estimator, *args, **kwargs)\n",
      "  File \"/Users/isaiah/opt/anaconda3/envs/ELEC292/lib/python3.9/site-packages/sklearn/svm/_base.py\", line 199, in fit\n",
      "    y = self._validate_targets(y)\n",
      "  File \"/Users/isaiah/opt/anaconda3/envs/ELEC292/lib/python3.9/site-packages/sklearn/svm/_base.py\", line 743, in _validate_targets\n",
      "    raise ValueError(\n",
      "ValueError: The number of classes has to be greater than one; got 1 class\n",
      "\n",
      "  warnings.warn(some_fits_failed_message, FitFailedWarning)\n"
     ]
    },
    {
     "data": {
      "image/png": "[encoded data removed]",
      "text/plain": [
       "<Figure size 640x480 with 1 Axes>"
      ]
     },
     "metadata": {},
     "output_type": "display_data"
    }
   ],
   "source": [
    "svm_param_grid = {\n",
    "    'C': [0.01, 0.1, 1, 10, 100],\n",
    "    'gamma': [1, 0.1, 0.01, 0.001, 0.0001],\n",
    "    'kernel': ['rbf', 'linear']\n",
    "}\n",
    "svm_model = SVC()\n",
    "svm_best_model, svm_accuracy, svm_report = train_and_evaluate_model(svm_model, svm_param_grid)\n",
    "print(\"SVM Accuracy:\", svm_accuracy)\n",
    "print(\"SVM Classification Report:\\n\", svm_report)\n",
    "\n",
    "plot_learning_curve(svm_best_model, \"Learning Curves (SVM)\", X, y, cv=5)"
   ]
  },
  {
   "cell_type": "markdown",
   "id": "d86a77d4",
   "metadata": {},
   "source": [
    "Gradient Boost Model."
   ]
  },
  {
   "cell_type": "code",
   "execution_count": 12,
   "id": "7491ad4c",
   "metadata": {},
   "outputs": [
    {
     "name": "stdout",
     "output_type": "stream",
     "text": [
      "Cross-validation scores: [0.82733813 0.92086331 0.91366906 0.89855072 0.87681159]\n",
      "Mean cross-validation score: 0.8874465644875403\n",
      "Gradient Boosting Accuracy: 0.8855218855218855\n",
      "Gradient Boosting Classification Report:\n",
      "               precision    recall  f1-score   support\n",
      "\n",
      "       blues       0.88      0.88      0.88        34\n",
      "   classical       1.00      0.94      0.97        18\n",
      "     country       0.86      0.94      0.90        34\n",
      "       disco       0.75      0.94      0.84        35\n",
      "      hiphop       1.00      0.81      0.89        26\n",
      "        jazz       0.90      0.93      0.92        30\n",
      "       metal       1.00      0.92      0.96        26\n",
      "         pop       1.00      0.85      0.92        33\n",
      "      reggae       0.83      0.93      0.88        27\n",
      "        rock       0.81      0.74      0.77        34\n",
      "\n",
      "    accuracy                           0.89       297\n",
      "   macro avg       0.90      0.89      0.89       297\n",
      "weighted avg       0.89      0.89      0.89       297\n",
      "\n"
     ]
    },
    {
     "name": "stderr",
     "output_type": "stream",
     "text": [
      "/Users/isaiah/opt/anaconda3/envs/ELEC292/lib/python3.9/site-packages/sklearn/model_selection/_validation.py:547: FitFailedWarning: \n",
      "5 fits failed out of a total of 25.\n",
      "The score on these train-test partitions for these parameters will be set to nan.\n",
      "If these failures are not expected, you can try to debug them by setting error_score='raise'.\n",
      "\n",
      "Below are more details about the failures:\n",
      "--------------------------------------------------------------------------------\n",
      "5 fits failed with the following error:\n",
      "Traceback (most recent call last):\n",
      "  File \"/Users/isaiah/opt/anaconda3/envs/ELEC292/lib/python3.9/site-packages/sklearn/model_selection/_validation.py\", line 895, in _fit_and_score\n",
      "    estimator.fit(X_train, y_train, **fit_params)\n",
      "  File \"/Users/isaiah/opt/anaconda3/envs/ELEC292/lib/python3.9/site-packages/sklearn/base.py\", line 1474, in wrapper\n",
      "    return fit_method(estimator, *args, **kwargs)\n",
      "  File \"/Users/isaiah/opt/anaconda3/envs/ELEC292/lib/python3.9/site-packages/sklearn/ensemble/_gb.py\", line 665, in fit\n",
      "    y = self._encode_y(y=y, sample_weight=None)\n",
      "  File \"/Users/isaiah/opt/anaconda3/envs/ELEC292/lib/python3.9/site-packages/sklearn/ensemble/_gb.py\", line 1520, in _encode_y\n",
      "    raise ValueError(\n",
      "ValueError: y contains 1 class after sample_weight trimmed classes with zero weights, while a minimum of 2 classes are required.\n",
      "\n",
      "  warnings.warn(some_fits_failed_message, FitFailedWarning)\n"
     ]
    },
    {
     "data": {
      "image/png": "[encoded data removed]",
      "text/plain": [
       "<Figure size 640x480 with 1 Axes>"
      ]
     },
     "metadata": {},
     "output_type": "display_data"
    }
   ],
   "source": [
    "gb_param_grid = {\n",
    "    'n_estimators': [50, 100, 200],\n",
    "    'learning_rate': [0.01, 0.1, 0.5],\n",
    "    'max_depth': [3, 5, 7]\n",
    "}\n",
    "gb_model = GradientBoostingClassifier()\n",
    "gb_best_model, gb_accuracy, gb_report = train_and_evaluate_model(gb_model, gb_param_grid)\n",
    "print(\"Gradient Boosting Accuracy:\", gb_accuracy)\n",
    "print(\"Gradient Boosting Classification Report:\\n\", gb_report)\n",
    "\n",
    "plot_learning_curve(gb_best_model, \"Learning Curves (Gradient Boosting)\", X, y, cv=5)\n"
   ]
  },
  {
   "cell_type": "markdown",
   "id": "95b8e642",
   "metadata": {},
   "source": [
    "KNeighbours Model. "
   ]
  },
  {
   "cell_type": "code",
   "execution_count": 13,
   "id": "ee9673d7",
   "metadata": {},
   "outputs": [
    {
     "name": "stderr",
     "output_type": "stream",
     "text": [
      "/Users/isaiah/opt/anaconda3/envs/ELEC292/lib/python3.9/site-packages/threadpoolctl.py:1186: RuntimeWarning: \n",
      "Found Intel OpenMP ('libiomp') and LLVM OpenMP ('libomp') loaded at\n",
      "the same time. Both libraries are known to be incompatible and this\n",
      "can cause random crashes or deadlocks on Linux when loaded in the\n",
      "same Python program.\n",
      "Using threadpoolctl may cause crashes or deadlocks. For more\n",
      "information and possible workarounds, please see\n",
      "    https://github.com/joblib/threadpoolctl/blob/master/multiple_openmp.md\n",
      "\n",
      "  warnings.warn(msg, RuntimeWarning)\n"
     ]
    },
    {
     "name": "stdout",
     "output_type": "stream",
     "text": [
      "Cross-validation scores: [0.91366906 0.96402878 0.94964029 0.97101449 0.9057971 ]\n",
      "Mean cross-validation score: 0.9408299447398601\n",
      "KNeighbors Accuracy: 0.9191919191919192\n",
      "KNeighbors Classification Report:\n",
      "               precision    recall  f1-score   support\n",
      "\n",
      "       blues       1.00      0.97      0.99        34\n",
      "   classical       0.90      1.00      0.95        18\n",
      "     country       0.89      0.94      0.91        34\n",
      "       disco       0.80      0.94      0.87        35\n",
      "      hiphop       0.89      0.92      0.91        26\n",
      "        jazz       0.93      0.90      0.92        30\n",
      "       metal       1.00      0.88      0.94        26\n",
      "         pop       1.00      0.88      0.94        33\n",
      "      reggae       0.92      0.89      0.91        27\n",
      "        rock       0.91      0.88      0.90        34\n",
      "\n",
      "    accuracy                           0.92       297\n",
      "   macro avg       0.92      0.92      0.92       297\n",
      "weighted avg       0.92      0.92      0.92       297\n",
      "\n"
     ]
    },
    {
     "data": {
      "image/png": "[encoded data removed]",
      "text/plain": [
       "<Figure size 640x480 with 1 Axes>"
      ]
     },
     "metadata": {},
     "output_type": "display_data"
    }
   ],
   "source": [
    "knn_param_grid = {\n",
    "    'n_neighbors': [3, 5, 7, 9, 11, 13],\n",
    "    'weights': ['uniform', 'distance'],\n",
    "    'metric': ['euclidean', 'manhattan']\n",
    "}\n",
    "knn_model = KNeighborsClassifier()\n",
    "knn_best_model, knn_accuracy, knn_report = train_and_evaluate_model(knn_model, knn_param_grid)\n",
    "print(\"KNeighbors Accuracy:\", knn_accuracy)\n",
    "print(\"KNeighbors Classification Report:\\n\", knn_report)\n",
    "\n",
    "plot_learning_curve(knn_best_model, \"Learning Curves (KNN)\", X, y, cv=5)"
   ]
  },
  {
   "cell_type": "markdown",
   "id": "811a7aa0",
   "metadata": {},
   "source": [
    "Logistic Regression"
   ]
  },
  {
   "cell_type": "code",
   "execution_count": 14,
   "id": "36e35eb7",
   "metadata": {},
   "outputs": [
    {
     "name": "stderr",
     "output_type": "stream",
     "text": [
      "/Users/isaiah/opt/anaconda3/envs/ELEC292/lib/python3.9/site-packages/sklearn/linear_model/_sag.py:350: ConvergenceWarning: The max_iter was reached which means the coef_ did not converge\n",
      "  warnings.warn(\n",
      "/Users/isaiah/opt/anaconda3/envs/ELEC292/lib/python3.9/site-packages/sklearn/linear_model/_sag.py:350: ConvergenceWarning: The max_iter was reached which means the coef_ did not converge\n",
      "  warnings.warn(\n",
      "/Users/isaiah/opt/anaconda3/envs/ELEC292/lib/python3.9/site-packages/sklearn/linear_model/_sag.py:350: ConvergenceWarning: The max_iter was reached which means the coef_ did not converge\n",
      "  warnings.warn(\n",
      "/Users/isaiah/opt/anaconda3/envs/ELEC292/lib/python3.9/site-packages/sklearn/linear_model/_sag.py:350: ConvergenceWarning: The max_iter was reached which means the coef_ did not converge\n",
      "  warnings.warn(\n",
      "/Users/isaiah/opt/anaconda3/envs/ELEC292/lib/python3.9/site-packages/sklearn/linear_model/_sag.py:350: ConvergenceWarning: The max_iter was reached which means the coef_ did not converge\n",
      "  warnings.warn(\n",
      "/Users/isaiah/opt/anaconda3/envs/ELEC292/lib/python3.9/site-packages/sklearn/linear_model/_sag.py:350: ConvergenceWarning: The max_iter was reached which means the coef_ did not converge\n",
      "  warnings.warn(\n",
      "/Users/isaiah/opt/anaconda3/envs/ELEC292/lib/python3.9/site-packages/sklearn/linear_model/_sag.py:350: ConvergenceWarning: The max_iter was reached which means the coef_ did not converge\n",
      "  warnings.warn(\n",
      "/Users/isaiah/opt/anaconda3/envs/ELEC292/lib/python3.9/site-packages/sklearn/linear_model/_sag.py:350: ConvergenceWarning: The max_iter was reached which means the coef_ did not converge\n",
      "  warnings.warn(\n",
      "/Users/isaiah/opt/anaconda3/envs/ELEC292/lib/python3.9/site-packages/sklearn/linear_model/_sag.py:350: ConvergenceWarning: The max_iter was reached which means the coef_ did not converge\n",
      "  warnings.warn(\n",
      "/Users/isaiah/opt/anaconda3/envs/ELEC292/lib/python3.9/site-packages/sklearn/linear_model/_sag.py:350: ConvergenceWarning: The max_iter was reached which means the coef_ did not converge\n",
      "  warnings.warn(\n",
      "/Users/isaiah/opt/anaconda3/envs/ELEC292/lib/python3.9/site-packages/sklearn/linear_model/_sag.py:350: ConvergenceWarning: The max_iter was reached which means the coef_ did not converge\n",
      "  warnings.warn(\n",
      "/Users/isaiah/opt/anaconda3/envs/ELEC292/lib/python3.9/site-packages/sklearn/linear_model/_sag.py:350: ConvergenceWarning: The max_iter was reached which means the coef_ did not converge\n",
      "  warnings.warn(\n",
      "/Users/isaiah/opt/anaconda3/envs/ELEC292/lib/python3.9/site-packages/sklearn/linear_model/_sag.py:350: ConvergenceWarning: The max_iter was reached which means the coef_ did not converge\n",
      "  warnings.warn(\n",
      "/Users/isaiah/opt/anaconda3/envs/ELEC292/lib/python3.9/site-packages/sklearn/linear_model/_sag.py:350: ConvergenceWarning: The max_iter was reached which means the coef_ did not converge\n",
      "  warnings.warn(\n",
      "/Users/isaiah/opt/anaconda3/envs/ELEC292/lib/python3.9/site-packages/sklearn/linear_model/_sag.py:350: ConvergenceWarning: The max_iter was reached which means the coef_ did not converge\n",
      "  warnings.warn(\n",
      "/Users/isaiah/opt/anaconda3/envs/ELEC292/lib/python3.9/site-packages/sklearn/linear_model/_sag.py:350: ConvergenceWarning: The max_iter was reached which means the coef_ did not converge\n",
      "  warnings.warn(\n",
      "/Users/isaiah/opt/anaconda3/envs/ELEC292/lib/python3.9/site-packages/sklearn/linear_model/_sag.py:350: ConvergenceWarning: The max_iter was reached which means the coef_ did not converge\n",
      "  warnings.warn(\n",
      "/Users/isaiah/opt/anaconda3/envs/ELEC292/lib/python3.9/site-packages/sklearn/linear_model/_sag.py:350: ConvergenceWarning: The max_iter was reached which means the coef_ did not converge\n",
      "  warnings.warn(\n",
      "/Users/isaiah/opt/anaconda3/envs/ELEC292/lib/python3.9/site-packages/sklearn/linear_model/_sag.py:350: ConvergenceWarning: The max_iter was reached which means the coef_ did not converge\n",
      "  warnings.warn(\n",
      "/Users/isaiah/opt/anaconda3/envs/ELEC292/lib/python3.9/site-packages/sklearn/linear_model/_sag.py:350: ConvergenceWarning: The max_iter was reached which means the coef_ did not converge\n",
      "  warnings.warn(\n",
      "/Users/isaiah/opt/anaconda3/envs/ELEC292/lib/python3.9/site-packages/sklearn/linear_model/_sag.py:350: ConvergenceWarning: The max_iter was reached which means the coef_ did not converge\n",
      "  warnings.warn(\n",
      "/Users/isaiah/opt/anaconda3/envs/ELEC292/lib/python3.9/site-packages/sklearn/linear_model/_sag.py:350: ConvergenceWarning: The max_iter was reached which means the coef_ did not converge\n",
      "  warnings.warn(\n",
      "/Users/isaiah/opt/anaconda3/envs/ELEC292/lib/python3.9/site-packages/sklearn/linear_model/_sag.py:350: ConvergenceWarning: The max_iter was reached which means the coef_ did not converge\n",
      "  warnings.warn(\n",
      "/Users/isaiah/opt/anaconda3/envs/ELEC292/lib/python3.9/site-packages/sklearn/linear_model/_sag.py:350: ConvergenceWarning: The max_iter was reached which means the coef_ did not converge\n",
      "  warnings.warn(\n",
      "/Users/isaiah/opt/anaconda3/envs/ELEC292/lib/python3.9/site-packages/sklearn/linear_model/_sag.py:350: ConvergenceWarning: The max_iter was reached which means the coef_ did not converge\n",
      "  warnings.warn(\n",
      "/Users/isaiah/opt/anaconda3/envs/ELEC292/lib/python3.9/site-packages/sklearn/linear_model/_sag.py:350: ConvergenceWarning: The max_iter was reached which means the coef_ did not converge\n",
      "  warnings.warn(\n",
      "/Users/isaiah/opt/anaconda3/envs/ELEC292/lib/python3.9/site-packages/sklearn/linear_model/_sag.py:350: ConvergenceWarning: The max_iter was reached which means the coef_ did not converge\n",
      "  warnings.warn(\n",
      "/Users/isaiah/opt/anaconda3/envs/ELEC292/lib/python3.9/site-packages/sklearn/linear_model/_sag.py:350: ConvergenceWarning: The max_iter was reached which means the coef_ did not converge\n",
      "  warnings.warn(\n",
      "/Users/isaiah/opt/anaconda3/envs/ELEC292/lib/python3.9/site-packages/sklearn/linear_model/_sag.py:350: ConvergenceWarning: The max_iter was reached which means the coef_ did not converge\n",
      "  warnings.warn(\n",
      "/Users/isaiah/opt/anaconda3/envs/ELEC292/lib/python3.9/site-packages/sklearn/linear_model/_sag.py:350: ConvergenceWarning: The max_iter was reached which means the coef_ did not converge\n",
      "  warnings.warn(\n",
      "/Users/isaiah/opt/anaconda3/envs/ELEC292/lib/python3.9/site-packages/sklearn/linear_model/_sag.py:350: ConvergenceWarning: The max_iter was reached which means the coef_ did not converge\n",
      "  warnings.warn(\n",
      "/Users/isaiah/opt/anaconda3/envs/ELEC292/lib/python3.9/site-packages/sklearn/linear_model/_sag.py:350: ConvergenceWarning: The max_iter was reached which means the coef_ did not converge\n",
      "  warnings.warn(\n",
      "/Users/isaiah/opt/anaconda3/envs/ELEC292/lib/python3.9/site-packages/sklearn/linear_model/_sag.py:350: ConvergenceWarning: The max_iter was reached which means the coef_ did not converge\n",
      "  warnings.warn(\n",
      "/Users/isaiah/opt/anaconda3/envs/ELEC292/lib/python3.9/site-packages/sklearn/linear_model/_sag.py:350: ConvergenceWarning: The max_iter was reached which means the coef_ did not converge\n",
      "  warnings.warn(\n",
      "/Users/isaiah/opt/anaconda3/envs/ELEC292/lib/python3.9/site-packages/sklearn/linear_model/_sag.py:350: ConvergenceWarning: The max_iter was reached which means the coef_ did not converge\n",
      "  warnings.warn(\n",
      "/Users/isaiah/opt/anaconda3/envs/ELEC292/lib/python3.9/site-packages/sklearn/linear_model/_sag.py:350: ConvergenceWarning: The max_iter was reached which means the coef_ did not converge\n",
      "  warnings.warn(\n",
      "/Users/isaiah/opt/anaconda3/envs/ELEC292/lib/python3.9/site-packages/sklearn/linear_model/_sag.py:350: ConvergenceWarning: The max_iter was reached which means the coef_ did not converge\n",
      "  warnings.warn(\n",
      "/Users/isaiah/opt/anaconda3/envs/ELEC292/lib/python3.9/site-packages/sklearn/linear_model/_sag.py:350: ConvergenceWarning: The max_iter was reached which means the coef_ did not converge\n",
      "  warnings.warn(\n",
      "/Users/isaiah/opt/anaconda3/envs/ELEC292/lib/python3.9/site-packages/sklearn/linear_model/_sag.py:350: ConvergenceWarning: The max_iter was reached which means the coef_ did not converge\n",
      "  warnings.warn(\n",
      "/Users/isaiah/opt/anaconda3/envs/ELEC292/lib/python3.9/site-packages/sklearn/linear_model/_sag.py:350: ConvergenceWarning: The max_iter was reached which means the coef_ did not converge\n",
      "  warnings.warn(\n"
     ]
    },
    {
     "name": "stdout",
     "output_type": "stream",
     "text": [
      "Cross-validation scores: [0.92805755 0.91366906 0.92805755 0.95652174 0.9057971 ]\n",
      "Mean cross-validation score: 0.9264206026483162\n",
      "Logistic Regression Accuracy: 0.9427609427609428\n",
      "Logistic Regression Classification Report:\n",
      "               precision    recall  f1-score   support\n",
      "\n",
      "       blues       0.97      0.97      0.97        34\n",
      "   classical       0.95      1.00      0.97        18\n",
      "     country       0.97      0.94      0.96        34\n",
      "       disco       0.87      0.97      0.92        35\n",
      "      hiphop       0.95      0.77      0.85        26\n",
      "        jazz       0.97      1.00      0.98        30\n",
      "       metal       1.00      0.96      0.98        26\n",
      "         pop       1.00      0.97      0.98        33\n",
      "      reggae       0.83      0.93      0.88        27\n",
      "        rock       0.94      0.91      0.93        34\n",
      "\n",
      "    accuracy                           0.94       297\n",
      "   macro avg       0.95      0.94      0.94       297\n",
      "weighted avg       0.95      0.94      0.94       297\n",
      "\n"
     ]
    },
    {
     "name": "stderr",
     "output_type": "stream",
     "text": [
      "/Users/isaiah/opt/anaconda3/envs/ELEC292/lib/python3.9/site-packages/sklearn/model_selection/_validation.py:547: FitFailedWarning: \n",
      "5 fits failed out of a total of 25.\n",
      "The score on these train-test partitions for these parameters will be set to nan.\n",
      "If these failures are not expected, you can try to debug them by setting error_score='raise'.\n",
      "\n",
      "Below are more details about the failures:\n",
      "--------------------------------------------------------------------------------\n",
      "5 fits failed with the following error:\n",
      "Traceback (most recent call last):\n",
      "  File \"/Users/isaiah/opt/anaconda3/envs/ELEC292/lib/python3.9/site-packages/sklearn/model_selection/_validation.py\", line 895, in _fit_and_score\n",
      "    estimator.fit(X_train, y_train, **fit_params)\n",
      "  File \"/Users/isaiah/opt/anaconda3/envs/ELEC292/lib/python3.9/site-packages/sklearn/base.py\", line 1474, in wrapper\n",
      "    return fit_method(estimator, *args, **kwargs)\n",
      "  File \"/Users/isaiah/opt/anaconda3/envs/ELEC292/lib/python3.9/site-packages/sklearn/linear_model/_logistic.py\", line 1221, in fit\n",
      "    self.coef_, self.intercept_, self.n_iter_ = _fit_liblinear(\n",
      "  File \"/Users/isaiah/opt/anaconda3/envs/ELEC292/lib/python3.9/site-packages/sklearn/svm/_base.py\", line 1174, in _fit_liblinear\n",
      "    raise ValueError(\n",
      "ValueError: This solver needs samples of at least 2 classes in the data, but the data contains only one class: 'blues'\n",
      "\n",
      "  warnings.warn(some_fits_failed_message, FitFailedWarning)\n"
     ]
    },
    {
     "data": {
      "image/png": "[encoded data removed]",
      "text/plain": [
       "<Figure size 640x480 with 1 Axes>"
      ]
     },
     "metadata": {},
     "output_type": "display_data"
    }
   ],
   "source": [
    "logreg_param_grid = {\n",
    "    'C': [0.01, 0.1, 1, 10, 100],\n",
    "    'solver': ['liblinear', 'saga'],\n",
    "    'max_iter': [200, 500, 1000]\n",
    "}\n",
    "\n",
    "logreg_model = LogisticRegression()\n",
    "logreg_best_model, logreg_accuracy, logreg_report = train_and_evaluate_model(logreg_model, logreg_param_grid)\n",
    "print(\"Logistic Regression Accuracy:\", logreg_accuracy)\n",
    "print(\"Logistic Regression Classification Report:\\n\", logreg_report)\n",
    "\n",
    "plot_learning_curve(logreg_best_model, \"Learning Curves (Logistic Regression)\", X, y, cv=5)"
   ]
  },
  {
   "cell_type": "markdown",
   "id": "d4838709",
   "metadata": {},
   "source": [
    "## Save models for future use"
   ]
  },
  {
   "cell_type": "markdown",
   "id": "44455683",
   "metadata": {},
   "source": [
    "Use library to save model for export/import"
   ]
  },
  {
   "cell_type": "code",
   "execution_count": 15,
   "id": "e7f3d699",
   "metadata": {},
   "outputs": [
    {
     "data": {
      "text/plain": [
       "['outputs/y_test.pkl']"
      ]
     },
     "execution_count": 15,
     "metadata": {},
     "output_type": "execute_result"
    }
   ],
   "source": [
    "# Save the best models\n",
    "joblib.dump(rf_best_model, 'outputs/rf_best_model.pkl')\n",
    "joblib.dump(svm_best_model, 'outputs/svm_best_model.pkl')\n",
    "joblib.dump(gb_best_model, 'outputs/gb_best_model.pkl')\n",
    "joblib.dump(knn_best_model, 'outputs/knn_best_model.pkl')\n",
    "joblib.dump(logreg_best_model, 'outputs/logreg_best_model.pkl')\n",
    "\n",
    "# Save the scaler and encoder\n",
    "joblib.dump(scaler, 'outputs/scaler.pkl')\n",
    "joblib.dump(encoder, 'outputs/encoder.pkl')\n",
    "\n",
    "# Save the scaled data and encoded labels\n",
    "joblib.dump(X_train, 'outputs/X_train.pkl')\n",
    "joblib.dump(X_test, 'outputs/X_test.pkl')\n",
    "joblib.dump(y_train, 'outputs/y_train.pkl')\n",
    "joblib.dump(y_test, 'outputs/y_test.pkl')"
   ]
  },
  {
   "cell_type": "markdown",
   "id": "490e9939",
   "metadata": {},
   "source": [
    "## External validation"
   ]
  },
  {
   "cell_type": "markdown",
   "id": "e78f8ebe",
   "metadata": {},
   "source": [
    "Preprocess the external data."
   ]
  },
  {
   "cell_type": "code",
   "execution_count": 16,
   "id": "6e3be77c",
   "metadata": {},
   "outputs": [],
   "source": [
    "# Load external data\n",
    "external_data = pd.read_csv('file_features.csv')\n",
    "external_data = external_data.drop(columns=['filename', 'start', 'end'])\n",
    "\n",
    "# Clean the 'tempo' column\n",
    "external_data['tempo'] = external_data['tempo'].str.strip('[]').astype(float)\n",
    "\n",
    "# Apply the same moving average filter\n",
    "external_data = apply_moving_average_filter(external_data)\n",
    "\n",
    "# Separate features\n",
    "X_external = scaler.transform(np.array(external_data.iloc[:, :], dtype=float))"
   ]
  },
  {
   "cell_type": "markdown",
   "id": "6691ee3d",
   "metadata": {},
   "source": [
    "Apply the best models on the external data. "
   ]
  },
  {
   "cell_type": "code",
   "execution_count": 17,
   "id": "57eb0269",
   "metadata": {},
   "outputs": [
    {
     "name": "stdout",
     "output_type": "stream",
     "text": [
      "Ensemble Predictions on External Data:\n",
      "['hiphop', 'hiphop', 'hiphop', 'hiphop', 'hiphop']\n"
     ]
    }
   ],
   "source": [
    "# Load the best models\n",
    "rf_best_model = joblib.load('outputs/rf_best_model.pkl')\n",
    "svm_best_model = joblib.load('outputs/svm_best_model.pkl')\n",
    "gb_best_model = joblib.load('outputs/gb_best_model.pkl')\n",
    "knn_best_model = joblib.load('outputs/knn_best_model.pkl')\n",
    "logreg_best_model = joblib.load('outputs/logreg_best_model.pkl')\n",
    "\n",
    "# Define a function to evaluate a model on unlabeled external data\n",
    "def evaluate_model_on_external_data(model, X_ext):\n",
    "    y_pred = model.predict(X_ext)\n",
    "    return y_pred\n",
    "\n",
    "# Evaluate each model and gather predictions\n",
    "rf_predictions = evaluate_model_on_external_data(rf_best_model, X_external)\n",
    "svm_predictions = evaluate_model_on_external_data(svm_best_model, X_external)\n",
    "gb_predictions = evaluate_model_on_external_data(gb_best_model, X_external)\n",
    "knn_predictions = evaluate_model_on_external_data(knn_best_model, X_external)\n",
    "logreg_predictions = evaluate_model_on_external_data(logreg_best_model, X_external)\n",
    "\n",
    "# Aggregate predictions\n",
    "all_predictions = np.vstack([rf_predictions, svm_predictions, gb_predictions, knn_predictions, logreg_predictions])\n",
    "final_predictions = [np.bincount(row).argmax() for row in all_predictions.T]\n",
    "\n",
    "# Map predicted numbers to genre names\n",
    "final_predictions_genre = [encoder.classes_[pred] for pred in final_predictions]\n",
    "print(\"Ensemble Predictions on External Data:\")\n",
    "print(final_predictions_genre)\n",
    "\n",
    "# Save ensemble predictions\n",
    "ensemble_predictions_df = pd.DataFrame(final_predictions_genre, columns=['Predicted Genre'])\n",
    "ensemble_predictions_df.to_csv('outputs/ensemble_predictions.csv', index=False)"
   ]
  }
 ],
 "metadata": {
  "kernelspec": {
   "display_name": "Python 3 (ipykernel)",
   "language": "python",
   "name": "python3"
  },
  "language_info": {
   "codemirror_mode": {
    "name": "ipython",
    "version": 3
   },
   "file_extension": ".py",
   "mimetype": "text/x-python",
   "name": "python",
   "nbconvert_exporter": "python",
   "pygments_lexer": "ipython3",
   "version": "3.9.18"
  }
 },
 "nbformat": 4,
 "nbformat_minor": 5
}
