{
 "cells": [
  {
   "cell_type": "markdown",
   "id": "8b2fae50",
   "metadata": {},
   "source": [
    "# Supervised Learning Music Genre Classification"
   ]
  },
  {
   "cell_type": "markdown",
   "id": "e886f4ed",
   "metadata": {},
   "source": [
    "## Import Statements"
   ]
  },
  {
   "cell_type": "markdown",
   "id": "83b590e7",
   "metadata": {},
   "source": [
    "Start by importing necessary libraries."
   ]
  },
  {
   "cell_type": "code",
   "execution_count": null,
   "id": "22138a63",
   "metadata": {},
   "outputs": [],
   "source": [
    "import os\n",
    "import librosa\n",
    "import pandas as pd\n",
    "from pydub import AudioSegment\n",
    "import tempfile\n",
    "import numpy as np\n",
    "import matplotlib.pyplot as plt\n",
    "import seaborn as sns\n",
    "from sklearn.model_selection import train_test_split\n",
    "from sklearn.preprocessing import StandardScaler, LabelEncoder\n",
    "from sklearn.ensemble import GradientBoostingClassifier, RandomForestClassifier\n",
    "from sklearn.metrics import accuracy_score, classification_report\n",
    "from sklearn.svm import SVC\n",
    "from sklearn.model_selection import GridSearchCV\n",
    "import soundfile as sf\n",
    "import joblib\n",
    "import librosa.display\n",
    "from skimage import io\n",
    "from skimage.transform import resize"
   ]
  },
  {
   "cell_type": "markdown",
   "id": "61a0285f",
   "metadata": {},
   "source": [
    "## Helper Functions"
   ]
  },
  {
   "cell_type": "markdown",
   "id": "16e9fb7d",
   "metadata": {},
   "source": [
    "Convert to MP3 function."
   ]
  },
  {
   "cell_type": "code",
   "execution_count": null,
   "id": "1e3d8b42",
   "metadata": {},
   "outputs": [],
   "source": [
    "# Function to convert MP3 to WAV\n",
    "def convert_mp3_to_wav(mp3_file):\n",
    "    try:\n",
    "        sound = AudioSegment.from_mp3(mp3_file)\n",
    "        wav_file = tempfile.mktemp(suffix='.wav')\n",
    "        sound.export(wav_file, format=\"wav\")\n",
    "        return wav_file\n",
    "    except Exception as e:\n",
    "        print(f\"Error converting {mp3_file} to WAV: {e}\")\n",
    "        return None"
   ]
  },
  {
   "cell_type": "markdown",
   "id": "a1e514b2",
   "metadata": {},
   "source": [
    "Feature extraction from a segment. "
   ]
  },
  {
   "cell_type": "code",
   "execution_count": null,
   "id": "5aa55f22",
   "metadata": {},
   "outputs": [],
   "source": [
    "# Function to extract features from an audio segment\n",
    "def extract_features_from_segment(y, sr, start_time, end_time):\n",
    "    segment = y[start_time:end_time]\n",
    "\n",
    "    chroma_stft = librosa.feature.chroma_stft(y=segment, sr=sr)\n",
    "    rms = librosa.feature.rms(y=segment)\n",
    "    spectral_centroid = librosa.feature.spectral_centroid(y=segment, sr=sr)\n",
    "    spectral_bandwidth = librosa.feature.spectral_bandwidth(y=segment, sr=sr)\n",
    "    rolloff = librosa.feature.spectral_rolloff(y=segment, sr=sr)\n",
    "    zero_crossing_rate = librosa.feature.zero_crossing_rate(y=segment)\n",
    "    harmony, perceptr = librosa.effects.hpss(segment)\n",
    "    tempo, _ = librosa.beat.beat_track(y=segment, sr=sr)\n",
    "    mfcc = librosa.feature.mfcc(y=segment, sr=sr, n_mfcc=20)\n",
    "\n",
    "    features = {\n",
    "        'chroma_stft_mean': chroma_stft.mean() if chroma_stft.size else 0,\n",
    "        'chroma_stft_var': chroma_stft.var() if chroma_stft.size else 0,\n",
    "        'rms_mean': rms.mean() if rms.size else 0,\n",
    "        'rms_var': rms.var() if rms.size else 0,\n",
    "        'spectral_centroid_mean': spectral_centroid.mean() if spectral_centroid.size else 0,\n",
    "        'spectral_centroid_var': spectral_centroid.var() if spectral_centroid.size else 0,\n",
    "        'spectral_bandwidth_mean': spectral_bandwidth.mean() if spectral_bandwidth.size else 0,\n",
    "        'spectral_bandwidth_var': spectral_bandwidth.var() if spectral_bandwidth.size else 0,\n",
    "        'rolloff_mean': rolloff.mean() if rolloff.size else 0,\n",
    "        'rolloff_var': rolloff.var() if rolloff.size else 0,\n",
    "        'zero_crossing_rate_mean': zero_crossing_rate.mean() if zero_crossing_rate.size else 0,\n",
    "        'zero_crossing_rate_var': zero_crossing_rate.var() if zero_crossing_rate.size else 0,\n",
    "        'harmony_mean': harmony.mean() if harmony.size else 0,\n",
    "        'harmony_var': harmony.var() if harmony.size else 0,\n",
    "        'perceptr_mean': perceptr.mean() if perceptr.size else 0,\n",
    "        'perceptr_var': perceptr.var() if perceptr.size else 0,\n",
    "        'tempo': tempo,\n",
    "    }\n",
    "\n",
    "    for i in range(1, 21):\n",
    "        features[f'mfcc{i}_mean'] = mfcc[i-1].mean() if mfcc.shape[0] >= i else 0\n",
    "        features[f'mfcc{i}_var'] = mfcc[i-1].var() if mfcc.shape[0] >= i else 0\n",
    "\n",
    "    return features"
   ]
  },
  {
   "cell_type": "markdown",
   "id": "9dcf0655",
   "metadata": {},
   "source": [
    "Load audio helpfer function."
   ]
  },
  {
   "cell_type": "code",
   "execution_count": null,
   "id": "913bcfba",
   "metadata": {},
   "outputs": [],
   "source": [
    "# Function to load audio file\n",
    "def load_audio(file_path):\n",
    "    try:\n",
    "        y, sr = librosa.load(file_path, sr=None)\n",
    "    except sf.LibsndfileError:\n",
    "        print(f\"LibsndfileError: {file_path}\")\n",
    "        return None, None\n",
    "    except Exception as e:\n",
    "        print(f\"Error loading {file_path}: {e}\")\n",
    "        return None, None\n",
    "    return y, sr"
   ]
  },
  {
   "cell_type": "markdown",
   "id": "f19ba2e3",
   "metadata": {},
   "source": [
    "Generate spectrogram helper function. "
   ]
  },
  {
   "cell_type": "code",
   "execution_count": null,
   "id": "a56d7aa8",
   "metadata": {},
   "outputs": [],
   "source": [
    "# Function to generate and save spectrogram\n",
    "def generate_spectrogram(y, sr, file_path):\n",
    "    plt.figure(figsize=(10, 4))\n",
    "    S = librosa.feature.melspectrogram(y=y, sr=sr, n_mels=128)\n",
    "    S_dB = librosa.power_to_db(S, ref=np.max)\n",
    "    spectrogram_file = os.path.splitext(file_path)[0] + '_spectrogram.png'\n",
    "    librosa.display.specshow(S_dB, sr=sr, x_axis='time', y_axis='mel')\n",
    "    plt.colorbar(format='%+2.0f dB')\n",
    "    plt.title('Mel-frequency spectrogram')\n",
    "    plt.tight_layout()\n",
    "    plt.savefig(spectrogram_file)\n",
    "    plt.close()\n",
    "    return spectrogram_file"
   ]
  },
  {
   "cell_type": "markdown",
   "id": "4b33bf9d",
   "metadata": {},
   "source": [
    "Extract features from spectrogram. "
   ]
  },
  {
   "cell_type": "code",
   "execution_count": null,
   "id": "a183c14f",
   "metadata": {},
   "outputs": [],
   "source": [
    "# Function to extract numerical features from the spectrogram\n",
    "def extract_spectrogram_features(spectrogram_path):\n",
    "    try:\n",
    "        image = io.imread(spectrogram_path, as_gray=True)\n",
    "        image_resized = resize(image, (128, 128))  # Resize to a fixed size\n",
    "        features = image_resized.flatten()  # Flatten to 1D array\n",
    "        return features\n",
    "    except Exception as e:\n",
    "        print(f\"Error extracting spectrogram features from {spectrogram_path}: {e}\")\n",
    "        return np.zeros(128*128)"
   ]
  },
  {
   "cell_type": "markdown",
   "id": "dfa5f717",
   "metadata": {},
   "source": [
    "Segment data and call feature extraction."
   ]
  },
  {
   "cell_type": "code",
   "execution_count": null,
   "id": "75e1c6b0",
   "metadata": {},
   "outputs": [],
   "source": [
    "# Function to extract features from an audio file\n",
    "def extract_features(audio_file, segment_duration=15):\n",
    "    try:\n",
    "        y, sr = load_audio(audio_file)\n",
    "        if y is None:\n",
    "            return []\n",
    "\n",
    "        total_duration = len(y) / sr\n",
    "        segment_length = int(sr * segment_duration)\n",
    "\n",
    "        features_list = []\n",
    "\n",
    "        for start in range(0, len(y), segment_length):\n",
    "            end = start + segment_length\n",
    "            if end <= len(y):\n",
    "                segment_features = extract_features_from_segment(y, sr, start, end)\n",
    "                #spectrogram_path = generate_spectrogram(y[start:end], sr, audio_file)\n",
    "                #spectrogram_features = extract_spectrogram_features(spectrogram_path)\n",
    "                #all_features = {**segment_features, **{f'spec_{i}': val for i, val in enumerate(spectrogram_features)}}\n",
    "                all_features = segment_features\n",
    "                all_features['filename'] = os.path.basename(audio_file)\n",
    "                all_features['start'] = start / sr\n",
    "                all_features['end'] = end / sr\n",
    "                features_list.append(all_features)\n",
    "\n",
    "        return features_list\n",
    "\n",
    "    except Exception as e:\n",
    "        print(f\"Error extracting features from {audio_file}: {e}\")\n",
    "        return []"
   ]
  },
  {
   "cell_type": "markdown",
   "id": "b3851f10",
   "metadata": {},
   "source": [
    "## Define Data Paths"
   ]
  },
  {
   "cell_type": "markdown",
   "id": "96da33c7",
   "metadata": {},
   "source": [
    "Specify the paths to the CSV files containing data."
   ]
  },
  {
   "cell_type": "code",
   "execution_count": null,
   "id": "0784aec2",
   "metadata": {},
   "outputs": [],
   "source": [
    "# List of genres\n",
    "genres = [\"blues\", \"classical\", \"country\", \"disco\", \"hiphop\", \"jazz\", \"metal\", \"pop\", \"reggae\", \"rock\"]\n",
    "\n",
    "# Base folder containing genre subfolders\n",
    "base_folder_path = '/Users/isaiah/Desktop/Career/Projects/music-genre-detector/GTZan/genres_original'\n",
    "\n",
    "# Create a directory to save spectrograms\n",
    "spectrogram_base_path = '/Users/isaiah/Desktop/Career/Projects/music-genre-detector/spectrograms'\n",
    "os.makedirs(spectrogram_base_path, exist_ok=True)"
   ]
  },
  {
   "cell_type": "markdown",
   "id": "953974b0",
   "metadata": {},
   "source": [
    "## Process Input Audio Files"
   ]
  },
  {
   "cell_type": "markdown",
   "id": "3e0d4edc",
   "metadata": {},
   "source": [
    "Process input files and label the data. "
   ]
  },
  {
   "cell_type": "code",
   "execution_count": null,
   "id": "ec7af356",
   "metadata": {},
   "outputs": [],
   "source": [
    "# Function to process a folder of audio files\n",
    "def process_audio_folder(folder_path, genre_label):\n",
    "    results = []\n",
    "    for filename in os.listdir(folder_path):\n",
    "        if filename.endswith('.wav') or filename.endswith('.mp3'):\n",
    "            file_path = os.path.join(folder_path, filename)\n",
    "            if filename.endswith('.mp3'):\n",
    "                file_path = convert_mp3_to_wav(file_path)\n",
    "            features_list = extract_features(file_path)\n",
    "            for features in features_list:\n",
    "                features['genre'] = genre_label\n",
    "                results.append(features)\n",
    "    return results"
   ]
  },
  {
   "cell_type": "markdown",
   "id": "a872c4cd",
   "metadata": {},
   "source": [
    "## Create Singular CSV"
   ]
  },
  {
   "cell_type": "markdown",
   "id": "7c9fc8b6",
   "metadata": {},
   "source": [
    "Aggregate results of the feature extraction into a singular CSV."
   ]
  },
  {
   "cell_type": "code",
   "execution_count": null,
   "id": "c7412610",
   "metadata": {},
   "outputs": [],
   "source": [
    "all_results = []\n",
    "\n",
    "for genre in genres:\n",
    "    print(f\"Processing genre: {genre}\")\n",
    "    folder_path = os.path.join(base_folder_path, genre)\n",
    "    genre_results = process_audio_folder(folder_path, genre)\n",
    "    all_results.extend(genre_results)\n",
    "    print(f\"Completed processing genre: {genre}\")\n",
    "\n",
    "print(\"Writing results to CSV file...\")\n",
    "df = pd.DataFrame(all_results)\n",
    "csv_file_path = '/Users/isaiah/Desktop/Career/Projects/music-genre-detector/all_genres_audio_features.csv'\n",
    "df.to_csv(csv_file_path, index=False)\n",
    "print(\"CSV file generation completed.\")\n",
    "\n",
    "df.head()"
   ]
  },
  {
   "cell_type": "markdown",
   "id": "31f0d23c",
   "metadata": {},
   "source": [
    "## Examine Data"
   ]
  },
  {
   "cell_type": "markdown",
   "id": "f9f555dd",
   "metadata": {},
   "source": [
    "Gain insights into data. "
   ]
  },
  {
   "cell_type": "code",
   "execution_count": null,
   "id": "05cf96d0",
   "metadata": {},
   "outputs": [],
   "source": [
    "# Get summary statistics\n",
    "df.describe()\n"
   ]
  },
  {
   "cell_type": "markdown",
   "id": "58539520",
   "metadata": {},
   "source": [
    "Check for duplicates. "
   ]
  },
  {
   "cell_type": "code",
   "execution_count": null,
   "id": "703ac5dd",
   "metadata": {},
   "outputs": [],
   "source": [
    "def check_duplicates_or_nulls(data):\n",
    "    duplicates = data.duplicated().sum() > 0\n",
    "    nulls = data.isnull().sum().sum() > 0\n",
    "    return duplicates or nulls\n",
    "\n",
    "data = pd.read_csv(csv_file_path)\n",
    "if check_duplicates_or_nulls(data):\n",
    "    print('Duplicates or null values found in data')\n",
    "else:\n",
    "    print('No duplicates or null values found in data')"
   ]
  },
  {
   "cell_type": "markdown",
   "id": "bae3885d",
   "metadata": {},
   "source": [
    "## Shuffle and Split data"
   ]
  },
  {
   "cell_type": "markdown",
   "id": "cc411a3b",
   "metadata": {},
   "source": [
    "Split data into training and testing sets (90/10)."
   ]
  },
  {
   "cell_type": "code",
   "execution_count": null,
   "id": "856874ef",
   "metadata": {},
   "outputs": [],
   "source": [
    "# Shuffle and split the data into training and testing sets\n",
    "print(\"Shuffling and splitting the data into training and testing sets...\")\n",
    "train_df, test_df = train_test_split(df, test_size=0.3, random_state=42, stratify=df['genre'])"
   ]
  },
  {
   "cell_type": "markdown",
   "id": "d2ab3cbc",
   "metadata": {},
   "source": [
    "## Begin Preprocessing"
   ]
  },
  {
   "cell_type": "markdown",
   "id": "d4bc2053",
   "metadata": {},
   "source": [
    "Apply the low pass filter through use of a moving average with a window size of 3."
   ]
  },
  {
   "cell_type": "code",
   "execution_count": null,
   "id": "9d39f937",
   "metadata": {},
   "outputs": [],
   "source": [
    "# Apply moving average filter\n",
    "def apply_moving_average_filter(df, window_size=3):\n",
    "    feature_columns = df.columns.difference(['filename', 'start', 'end', 'genre'])\n",
    "    df[feature_columns] = df[feature_columns].rolling(window=window_size, min_periods=1).mean()\n",
    "    return df\n",
    "\n",
    "train_df = apply_moving_average_filter(train_df)\n",
    "test_df = apply_moving_average_filter(test_df)"
   ]
  },
  {
   "cell_type": "markdown",
   "id": "59e58b73",
   "metadata": {},
   "source": [
    "## Z Score normalization is done to the extracted features "
   ]
  },
  {
   "cell_type": "markdown",
   "id": "8d220a43",
   "metadata": {},
   "source": [
    "Using StandardScaler to properly normalize the individual features for the train and test set, converting back to data frames upon completion. "
   ]
  },
  {
   "cell_type": "code",
   "execution_count": null,
   "id": "07169375",
   "metadata": {},
   "outputs": [],
   "source": [
    "\n",
    "# Apply z-score normalization\n",
    "def apply_zscore_normalization(train_df, test_df):\n",
    "    feature_columns = train_df.columns.difference(['filename', 'start', 'end', 'genre'])\n",
    "    scaler = StandardScaler()\n",
    "    \n",
    "    # Fit the scaler on the training data\n",
    "    train_df[feature_columns] = scaler.fit_transform(train_df[feature_columns])\n",
    "    \n",
    "    # Transform the testing data\n",
    "    test_df[feature_columns] = scaler.transform(test_df[feature_columns])\n",
    "    \n",
    "    return train_df, test_df\n",
    "\n",
    "train_df, test_df = apply_zscore_normalization(train_df, test_df)"
   ]
  },
  {
   "cell_type": "markdown",
   "id": "06131463",
   "metadata": {},
   "source": [
    "## Separate features and labels for training and testing sets"
   ]
  },
  {
   "cell_type": "markdown",
   "id": "7435bd53",
   "metadata": {},
   "source": [
    "Must make sure that the labels and features themselves remain separate. "
   ]
  },
  {
   "cell_type": "code",
   "execution_count": null,
   "id": "0210e444",
   "metadata": {},
   "outputs": [],
   "source": [
    "# Separate features and labels for training and testing sets\n",
    "X_train = train_df.drop(columns=['filename', 'start', 'end', 'genre'])\n",
    "y_train = train_df['genre']\n",
    "X_test = test_df.drop(columns=['filename', 'start', 'end', 'genre'])\n",
    "y_test = test_df['genre']"
   ]
  },
  {
   "cell_type": "markdown",
   "id": "5e1563a6",
   "metadata": {},
   "source": [
    "## Save train and test data"
   ]
  },
  {
   "cell_type": "markdown",
   "id": "17423aa6",
   "metadata": {},
   "source": [
    "save data to separate csv to visualize before feeding into the model"
   ]
  },
  {
   "cell_type": "code",
   "execution_count": null,
   "id": "b4d6e8f3",
   "metadata": {},
   "outputs": [],
   "source": [
    "# Save the training and testing sets to separate CSV files\n",
    "train_features_csv_path = '/Users/isaiah/Desktop/Career/Projects/music-genre-detector/train_audio_features.csv'\n",
    "train_labels_csv_path = '/Users/isaiah/Desktop/Career/Projects/music-genre-detector/train_audio_labels.csv'\n",
    "test_features_csv_path = '/Users/isaiah/Desktop/Career/Projects/music-genre-detector/test_audio_features.csv'\n",
    "test_labels_csv_path = '/Users/isaiah/Desktop/Career/Projects/music-genre-detector/test_audio_labels.csv'\n",
    "\n",
    "X_train.to_csv(train_features_csv_path, index=False)\n",
    "y_train.to_csv(train_labels_csv_path, index=False)\n",
    "X_test.to_csv(test_features_csv_path, index=False)\n",
    "y_test.to_csv(test_labels_csv_path, index=False)\n",
    "print(\"Training and testing CSV files generation completed.\")"
   ]
  },
  {
   "cell_type": "markdown",
   "id": "fcf094e6",
   "metadata": {},
   "source": [
    "## Call for Data"
   ]
  },
  {
   "cell_type": "markdown",
   "id": "8cbdf0e2",
   "metadata": {},
   "source": [
    "Retrieve the prepared data from the csv files to avoid the need to run the feature extraction cell every attempt. "
   ]
  },
  {
   "cell_type": "code",
   "execution_count": null,
   "id": "37a11084",
   "metadata": {},
   "outputs": [],
   "source": [
    "# File paths\n",
    "train_features_csv_path = '/Users/isaiah/Desktop/Career/Projects/music-genre-detector/train_audio_features.csv'\n",
    "train_labels_csv_path = '/Users/isaiah/Desktop/Career/Projects/music-genre-detector/train_audio_labels.csv'\n",
    "test_features_csv_path = '/Users/isaiah/Desktop/Career/Projects/music-genre-detector/test_audio_features.csv'\n",
    "test_labels_csv_path = '/Users/isaiah/Desktop/Career/Projects/music-genre-detector/test_audio_labels.csv'\n",
    "\n",
    "# Load the datasets\n",
    "X_train = pd.read_csv(train_features_csv_path)\n",
    "y_train = pd.read_csv(train_labels_csv_path)['genre']\n",
    "X_test = pd.read_csv(test_features_csv_path)\n",
    "y_test = pd.read_csv(test_labels_csv_path)['genre']"
   ]
  },
  {
   "cell_type": "markdown",
   "id": "d089132f",
   "metadata": {},
   "source": [
    "## Model initialization function"
   ]
  },
  {
   "cell_type": "markdown",
   "id": "6ab68640",
   "metadata": {},
   "source": [
    "Setup for the model use and hyper parameterization phase. "
   ]
  },
  {
   "cell_type": "code",
   "execution_count": null,
   "id": "58f0c0d3",
   "metadata": {},
   "outputs": [],
   "source": [
    "scaler = StandardScaler()\n",
    "X_train_scaled = scaler.fit_transform(X_train)\n",
    "X_test_scaled = scaler.transform(X_test)\n",
    "\n",
    "encoder = LabelEncoder()\n",
    "y_train_encoded = encoder.fit_transform(y_train)\n",
    "y_test_encoded = encoder.transform(y_test)\n",
    "\n",
    "def train_and_evaluate_model(model, param_grid):\n",
    "    grid_search = GridSearchCV(model, param_grid, cv=5, scoring='accuracy')\n",
    "    grid_search.fit(X_train_scaled, y_train_encoded)\n",
    "    best_model = grid_search.best_estimator_\n",
    "    y_pred = best_model.predict(X_test_scaled)\n",
    "    accuracy = accuracy_score(y_test_encoded, y_pred)\n",
    "    report = classification_report(y_test_encoded, y_pred, target_names=encoder.classes_)\n",
    "    return best_model, accuracy, report"
   ]
  },
  {
   "cell_type": "markdown",
   "id": "27d75621",
   "metadata": {},
   "source": [
    "Random Forest Model."
   ]
  },
  {
   "cell_type": "code",
   "execution_count": null,
   "id": "b2fd683e",
   "metadata": {},
   "outputs": [],
   "source": [
    "rf_param_grid = {\n",
    "    'n_estimators': [100, 250, 1000],\n",
    "    'max_features': ['auto', 'sqrt', 'log2'],\n",
    "    'max_depth': [None, 10, 20, 30],\n",
    "    'min_samples_split': [2, 5, 10],\n",
    "    'min_samples_leaf': [1, 2, 4]\n",
    "}\n",
    "rf_model = RandomForestClassifier()\n",
    "rf_best_model, rf_accuracy, rf_report = train_and_evaluate_model(rf_model, rf_param_grid)\n",
    "print(\"Random Forest Accuracy:\", rf_accuracy)\n",
    "print(\"Random Forest Classification Report:\\n\", rf_report)"
   ]
  },
  {
   "cell_type": "markdown",
   "id": "d4aedfa3",
   "metadata": {},
   "source": [
    "Support Vector Machine Model. "
   ]
  },
  {
   "cell_type": "code",
   "execution_count": null,
   "id": "dcb794e1",
   "metadata": {},
   "outputs": [],
   "source": [
    "svm_param_grid = {\n",
    "    'C': [0.1, 1, 10, 100],\n",
    "    'gamma': [1, 0.1, 0.01, 0.001],\n",
    "    'kernel': ['rbf', 'linear']\n",
    "}\n",
    "svm_model = SVC()\n",
    "svm_best_model, svm_accuracy, svm_report = train_and_evaluate_model(svm_model, svm_param_grid)\n",
    "print(\"SVM Accuracy:\", svm_accuracy)\n",
    "print(\"SVM Classification Report:\\n\", svm_report)"
   ]
  },
  {
   "cell_type": "markdown",
   "id": "d86a77d4",
   "metadata": {},
   "source": [
    "Gradient Boost Model."
   ]
  },
  {
   "cell_type": "code",
   "execution_count": null,
   "id": "7491ad4c",
   "metadata": {},
   "outputs": [],
   "source": [
    "gb_param_grid = {\n",
    "    'n_estimators': [50, 100, 200],\n",
    "    'learning_rate': [0.01, 0.1, 0.5],\n",
    "    'max_depth': [3, 5, 7]\n",
    "}\n",
    "gb_model = GradientBoostingClassifier()\n",
    "gb_best_model, gb_accuracy, gb_report = train_and_evaluate_model(gb_model, gb_param_grid)\n",
    "print(\"Gradient Boosting Accuracy:\", gb_accuracy)\n",
    "print(\"Gradient Boosting Classification Report:\\n\", gb_report)"
   ]
  },
  {
   "cell_type": "markdown",
   "id": "d4838709",
   "metadata": {},
   "source": [
    "## Save models for future use"
   ]
  },
  {
   "cell_type": "markdown",
   "id": "44455683",
   "metadata": {},
   "source": [
    "Use library to save model for export/import"
   ]
  },
  {
   "cell_type": "code",
   "execution_count": null,
   "id": "e7f3d699",
   "metadata": {},
   "outputs": [],
   "source": [
    "# Save the best models\n",
    "joblib.dump(rf_best_model, 'rf_best_model.pkl')\n",
    "joblib.dump(svm_best_model, 'svm_best_model.pkl')\n",
    "joblib.dump(gb_best_model, 'gb_best_model.pkl')\n",
    "\n",
    "# Save the scalers and encoders\n",
    "joblib.dump(scaler, 'scaler.pkl')\n",
    "joblib.dump(encoder, 'encoder.pkl')\n",
    "\n",
    "# Save the scaled data\n",
    "joblib.dump(X_train_scaled, 'X_train_scaled.pkl')\n",
    "joblib.dump(X_test_scaled, 'X_test_scaled.pkl')\n",
    "joblib.dump(y_train_encoded, 'y_train_encoded.pkl')\n",
    "joblib.dump(y_test_encoded, 'y_test_encoded.pkl')"
   ]
  }
 ],
 "metadata": {
  "kernelspec": {
   "display_name": "Python 3 (ipykernel)",
   "language": "python",
   "name": "python3"
  },
  "language_info": {
   "codemirror_mode": {
    "name": "ipython",
    "version": 3
   },
   "file_extension": ".py",
   "mimetype": "text/x-python",
   "name": "python",
   "nbconvert_exporter": "python",
   "pygments_lexer": "ipython3",
   "version": "3.9.18"
  }
 },
 "nbformat": 4,
 "nbformat_minor": 5
}
