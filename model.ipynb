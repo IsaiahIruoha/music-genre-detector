{
 "cells": [
  {
   "cell_type": "markdown",
   "id": "8b2fae50",
   "metadata": {},
   "source": [
    "# Supervised Learning Music Genre Classification"
   ]
  },
  {
   "cell_type": "markdown",
   "id": "e886f4ed",
   "metadata": {},
   "source": [
    "## Import Statements"
   ]
  },
  {
   "cell_type": "markdown",
   "id": "83b590e7",
   "metadata": {},
   "source": [
    "Start by importing necessary libraries."
   ]
  },
  {
   "cell_type": "code",
   "execution_count": 842,
   "id": "22138a63",
   "metadata": {},
   "outputs": [],
   "source": [
    "import os\n",
    "import librosa\n",
    "import pandas as pd\n",
    "import numpy as np\n",
    "import matplotlib.pyplot as plt\n",
    "import joblib\n",
    "import tempfile\n",
    "from pydub import AudioSegment\n",
    "from sklearn.model_selection import train_test_split\n",
    "from sklearn.utils import shuffle\n",
    "from sklearn.preprocessing import StandardScaler\n",
    "from sklearn.metrics import accuracy_score, confusion_matrix, ConfusionMatrixDisplay, roc_curve, RocCurveDisplay, roc_auc_score, f1_score\n",
    "from sklearn.model_selection import learning_curve"
   ]
  },
  {
   "cell_type": "markdown",
   "id": "b3851f10",
   "metadata": {},
   "source": [
    "## Define Data Paths"
   ]
  },
  {
   "cell_type": "markdown",
   "id": "96da33c7",
   "metadata": {},
   "source": [
    "Specify the paths to the CSV files containing data."
   ]
  },
  {
   "cell_type": "markdown",
   "id": "a872c4cd",
   "metadata": {},
   "source": [
    "## Load Input CSV Data Function"
   ]
  },
  {
   "cell_type": "markdown",
   "id": "7c9fc8b6",
   "metadata": {},
   "source": [
    "A function to load data from CSV and assign labels."
   ]
  },
  {
   "cell_type": "markdown",
   "id": "f9f555dd",
   "metadata": {},
   "source": [
    "Gain insights into data. "
   ]
  },
  {
   "cell_type": "markdown",
   "id": "16e9fb7d",
   "metadata": {},
   "source": [
    "Convert to MP3 function"
   ]
  },
  {
   "cell_type": "code",
   "execution_count": null,
   "id": "1e3d8b42",
   "metadata": {},
   "outputs": [],
   "source": [
    "def convert_mp3_to_wav(mp3_file):\n",
    "    try:\n",
    "        sound = AudioSegment.from_mp3(mp3_file)\n",
    "        wav_file = tempfile.mktemp(suffix='.wav')\n",
    "        sound.export(wav_file, format=\"wav\")\n",
    "        return wav_file\n",
    "    except Exception as e:\n",
    "        print(f\"Error converting {mp3_file} to WAV: {e}\")\n",
    "        return None"
   ]
  },
  {
   "cell_type": "markdown",
   "id": "953974b0",
   "metadata": {},
   "source": [
    "## Load, Label and Segment"
   ]
  },
  {
   "cell_type": "markdown",
   "id": "3e0d4edc",
   "metadata": {},
   "source": [
    "Load data for each activity, segment and combine into dataset. "
   ]
  },
  {
   "cell_type": "code",
   "execution_count": 847,
   "id": "ec7af356",
   "metadata": {},
   "outputs": [],
   "source": [
    "# Load, segment, and label the data\n",
    "labels = {'Walking': 0, 'Jumping': 1} # Activity labels\n",
    "segmented_data = []\n",
    "labels_list = []\n",
    "for path, activity in zip(csv_paths, activity_labels): # Iterate over the paths and labels\n",
    "    data = load_csv_data(path) # Load the data\n",
    "    segments = segment_into_windows(data) # Segment the data (segments holds a list of dataframes)\n",
    "    segmented_data.extend(segments) # Extend the segmented data list by the segments\n",
    "    labels_list.extend([labels[activity]] * len(segments)) # Extend the labels list by the labels"
   ]
  },
  {
   "cell_type": "markdown",
   "id": "bae3885d",
   "metadata": {},
   "source": [
    "## Shuffle and Split data"
   ]
  },
  {
   "cell_type": "markdown",
   "id": "cc411a3b",
   "metadata": {},
   "source": [
    "Split data into training and testing sets (90/10)."
   ]
  },
  {
   "cell_type": "code",
   "execution_count": 848,
   "id": "856874ef",
   "metadata": {},
   "outputs": [],
   "source": [
    "# Convert to numpy arrays for shuffling \n",
    "X = np.array([segment[['Linear Acceleration x (m/s^2)', 'Linear Acceleration y (m/s^2)', 'Linear Acceleration z (m/s^2)']].values for segment in segmented_data]) # Extract the features needed, dropping time and absolute acceleration\n",
    "y = np.array(labels_list) # Convert the labels list to a numpy array\n",
    "\n",
    "# Shuffle and split the data into training and testing sets\n",
    "X, y = shuffle(X, y, random_state=11) # Shuffle the data\n",
    "X_train, X_test, y_train, y_test = train_test_split(X, y, test_size=0.1, random_state=11) # Split data and labels into train and test set (must remain separate for rest of the code)"
   ]
  },
  {
   "cell_type": "markdown",
   "id": "31f0d23c",
   "metadata": {},
   "source": [
    "## Begin preprocessing"
   ]
  },
  {
   "cell_type": "markdown",
   "id": "d4bc2053",
   "metadata": {},
   "source": [
    "Apply the low pass filter through use of a moving average with a window size of 5."
   ]
  },
  {
   "cell_type": "code",
   "execution_count": 857,
   "id": "9d39f937",
   "metadata": {},
   "outputs": [
    {
     "name": "stdout",
     "output_type": "stream",
     "text": [
      "(162, 497, 3) (18, 497, 3)\n"
     ]
    }
   ],
   "source": [
    "def moving_average_filter(data, window_size=5): #  Define the moving average filter\n",
    "    filtered_data = np.zeros_like(data) # Create an array to store the filtered data (default is zeros)\n",
    "    for segment in range(data.shape[0]):\n",
    "        for feature in range(data.shape[2]):\n",
    "            df = pd.DataFrame(data[segment, :, feature])  # Convert the time series for the current segment and feature into a DataFrame\n",
    "            rolling_mean = df.rolling(window_size, center=True, min_periods=1).mean() # Apply rolling mean\n",
    "            filtered_data[segment, :, feature] = rolling_mean.to_numpy().flatten() # Store the results back into the filtered_data array\n",
    "    return filtered_data\n",
    "\n",
    "# Assuming X_train and X_test are your data\n",
    "X_train_filtered = moving_average_filter(X_train, window_size=5)\n",
    "X_test_filtered = moving_average_filter(X_test, window_size=5)"
   ]
  },
  {
   "cell_type": "markdown",
   "id": "d179e598",
   "metadata": {},
   "source": [
    "## Create function for feature extraction"
   ]
  },
  {
   "cell_type": "markdown",
   "id": "9062acca",
   "metadata": {},
   "source": [
    "Function for feature extraction focuses on 10 core data metrics, applying these across all 3 axis to completely capture patterns. "
   ]
  },
  {
   "cell_type": "code",
   "execution_count": 859,
   "id": "c64f0647",
   "metadata": {},
   "outputs": [],
   "source": [
    "# Function to extract features from an audio file\n",
    "def extract_features(audio_file):\n",
    "    try:\n",
    "        y, sr = librosa.load(audio_file, sr=None)\n",
    "        \n",
    "        chroma_stft = librosa.feature.chroma_stft(y=y, sr=sr)\n",
    "        rms = librosa.feature.rms(y=y)\n",
    "        spectral_centroid = librosa.feature.spectral_centroid(y=y, sr=sr)\n",
    "        spectral_bandwidth = librosa.feature.spectral_bandwidth(y=y, sr=sr)\n",
    "        rolloff = librosa.feature.spectral_rolloff(y=y, sr=sr)\n",
    "        zero_crossing_rate = librosa.feature.zero_crossing_rate(y)\n",
    "        harmony, perceptr = librosa.effects.hpss(y)\n",
    "        tempo, _ = librosa.beat.beat_track(y=y, sr=sr)\n",
    "        mfcc = librosa.feature.mfcc(y=y, sr=sr, n_mfcc=20)\n",
    "        \n",
    "        features = {\n",
    "            'filename': os.path.basename(audio_file),\n",
    "            'length': len(y) / sr,\n",
    "            'chroma_stft_mean': chroma_stft.mean() if chroma_stft.size else 0,\n",
    "            'chroma_stft_var': chroma_stft.var() if chroma_stft.size else 0,\n",
    "            'rms_mean': rms.mean() if rms.size else 0,\n",
    "            'rms_var': rms.var() if rms.size else 0,\n",
    "            'spectral_centroid_mean': spectral_centroid.mean() if spectral_centroid.size else 0,\n",
    "            'spectral_centroid_var': spectral_centroid.var() if spectral_centroid.size else 0,\n",
    "            'spectral_bandwidth_mean': spectral_bandwidth.mean() if spectral_bandwidth.size else 0,\n",
    "            'spectral_bandwidth_var': spectral_bandwidth.var() if spectral_bandwidth.size else 0,\n",
    "            'rolloff_mean': rolloff.mean() if rolloff.size else 0,\n",
    "            'rolloff_var': rolloff.var() if rolloff.size else 0,\n",
    "            'zero_crossing_rate_mean': zero_crossing_rate.mean() if zero_crossing_rate.size else 0,\n",
    "            'zero_crossing_rate_var': zero_crossing_rate.var() if zero_crossing_rate.size else 0,\n",
    "            'harmony_mean': harmony.mean() if harmony.size else 0,\n",
    "            'harmony_var': harmony.var() if harmony.size else 0,\n",
    "            'perceptr_mean': perceptr.mean() if perceptr.size else 0,\n",
    "            'perceptr_var': perceptr.var() if perceptr.size else 0,\n",
    "            'tempo': tempo,\n",
    "        }\n",
    "        \n",
    "        for i in range(1, 21):\n",
    "            features[f'mfcc{i}_mean'] = mfcc[i-1].mean() if mfcc.shape[0] >= i else 0\n",
    "            features[f'mfcc{i}_var'] = mfcc[i-1].var() if mfcc.shape[0] >= i else 0\n",
    "        \n",
    "        return features\n",
    "    except Exception as e:\n",
    "        print(f\"Error extracting features from {audio_file}: {e}\")\n",
    "        return None"
   ]
  },
  {
   "cell_type": "markdown",
   "id": "71f1e247",
   "metadata": {},
   "source": [
    "Feature extraction function is applied to the filtered data. "
   ]
  },
  {
   "cell_type": "code",
   "execution_count": 860,
   "id": "d151bc8b",
   "metadata": {},
   "outputs": [],
   "source": [
    "# Initialize lists to hold the features for all segments\n",
    "train_features_list = []\n",
    "test_features_list = []\n",
    "\n",
    "for i in range(X_train_filtered.shape[0]): # Extract features from each segment\n",
    "    segment_features = extract_features_from_segment(X_train_filtered[i])\n",
    "    train_features_list.append(segment_features) \n",
    "\n",
    "   \n",
    "for i in range(X_test_filtered.shape[0]):\n",
    "    segment_features = extract_features_from_segment(X_test_filtered[i])\n",
    "    test_features_list.append(segment_features)\n",
    "\n",
    "# Convert the list of features to pandas DataFrames\n",
    "train_features_df = pd.DataFrame(train_features_list)\n",
    "test_features_df = pd.DataFrame(test_features_list)"
   ]
  },
  {
   "cell_type": "markdown",
   "id": "59e58b73",
   "metadata": {},
   "source": [
    "## Z Score normalization is done to the extracted features "
   ]
  },
  {
   "cell_type": "markdown",
   "id": "8d220a43",
   "metadata": {},
   "source": [
    "Using StandardScaler to properly normalize the individual features for the train and test set, converting back to data frames upon completion. "
   ]
  },
  {
   "cell_type": "markdown",
   "id": "d089132f",
   "metadata": {},
   "source": [
    "## Run model"
   ]
  },
  {
   "cell_type": "markdown",
   "id": "6ab68640",
   "metadata": {},
   "source": [
    "Model is intialized, trained and test with accuracy scores displayed. "
   ]
  },
  {
   "cell_type": "markdown",
   "id": "d106a808",
   "metadata": {},
   "source": [
    "## Accuracy Testing"
   ]
  },
  {
   "cell_type": "markdown",
   "id": "40fc40aa",
   "metadata": {},
   "source": [
    "Check the model to ensure it is doing well in terms of classifications."
   ]
  },
  {
   "cell_type": "markdown",
   "id": "85fc0dc9",
   "metadata": {},
   "source": [
    "## Cross-validation "
   ]
  },
  {
   "cell_type": "markdown",
   "id": "1c3920bd",
   "metadata": {},
   "source": [
    "To ensure that the model is functioning well, cross-validation is done with an average result shown. "
   ]
  }
 ],
 "metadata": {
  "kernelspec": {
   "display_name": "Python 3 (ipykernel)",
   "language": "python",
   "name": "python3"
  },
  "language_info": {
   "codemirror_mode": {
    "name": "ipython",
    "version": 3
   },
   "file_extension": ".py",
   "mimetype": "text/x-python",
   "name": "python",
   "nbconvert_exporter": "python",
   "pygments_lexer": "ipython3",
   "version": "3.9.18"
  }
 },
 "nbformat": 4,
 "nbformat_minor": 5
}
