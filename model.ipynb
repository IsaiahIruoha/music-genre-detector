{
 "cells": [
  {
   "cell_type": "markdown",
   "id": "8b2fae50",
   "metadata": {},
   "source": [
    "# Supervised Learning Music Genre Classification"
   ]
  },
  {
   "cell_type": "markdown",
   "id": "e886f4ed",
   "metadata": {},
   "source": [
    "## Import Statements"
   ]
  },
  {
   "cell_type": "markdown",
   "id": "83b590e7",
   "metadata": {},
   "source": [
    "Start by importing necessary libraries."
   ]
  },
  {
   "cell_type": "code",
   "execution_count": 9,
   "id": "22138a63",
   "metadata": {},
   "outputs": [],
   "source": [
    "import os\n",
    "import librosa\n",
    "import pandas as pd\n",
    "from pydub import AudioSegment\n",
    "import tempfile\n",
    "import numpy as np\n",
    "import matplotlib.pyplot as plt\n",
    "import seaborn as sns"
   ]
  },
  {
   "cell_type": "markdown",
   "id": "61a0285f",
   "metadata": {},
   "source": [
    "## Helper Functions"
   ]
  },
  {
   "cell_type": "markdown",
   "id": "16e9fb7d",
   "metadata": {},
   "source": [
    "Convert to MP3 function."
   ]
  },
  {
   "cell_type": "code",
   "execution_count": 10,
   "id": "1e3d8b42",
   "metadata": {},
   "outputs": [],
   "source": [
    "def convert_mp3_to_wav(mp3_file):\n",
    "    try:\n",
    "        sound = AudioSegment.from_mp3(mp3_file)\n",
    "        wav_file = tempfile.mktemp(suffix='.wav')\n",
    "        sound.export(wav_file, format=\"wav\")\n",
    "        return wav_file\n",
    "    except Exception as e:\n",
    "        print(f\"Error converting {mp3_file} to WAV: {e}\")\n",
    "        return None"
   ]
  },
  {
   "cell_type": "markdown",
   "id": "a1e514b2",
   "metadata": {},
   "source": [
    "Feature extraction from a segment. "
   ]
  },
  {
   "cell_type": "code",
   "execution_count": 11,
   "id": "5aa55f22",
   "metadata": {},
   "outputs": [],
   "source": [
    "# Function to extract features from an audio segment\n",
    "def extract_features_from_segment(y, sr, start_time, end_time):\n",
    "    segment = y[start_time:end_time]\n",
    "\n",
    "    # Compute chroma feature from the waveform and sample rate\n",
    "    chroma_stft = librosa.feature.chroma_stft(y=segment, sr=sr)\n",
    "    # Compute Root Mean Square (RMS) energy for each frame\n",
    "    rms = librosa.feature.rms(y=segment)\n",
    "    # Compute spectral centroid, which indicates where the center of mass for a sound is located\n",
    "    spectral_centroid = librosa.feature.spectral_centroid(y=segment, sr=sr)\n",
    "    # Compute spectral bandwidth, which is a measure of the width of the band of frequencies\n",
    "    spectral_bandwidth = librosa.feature.spectral_bandwidth(y=segment, sr=sr)\n",
    "    # Compute spectral rolloff point, which is the frequency below which a specified percentage of the total spectral energy lies\n",
    "    rolloff = librosa.feature.spectral_rolloff(y=segment, sr=sr)\n",
    "    # Compute zero crossing rate, which is the rate at which the signal changes sign\n",
    "    zero_crossing_rate = librosa.feature.zero_crossing_rate(y=segment)\n",
    "    # Compute harmony and perceptr (percussive) components of the audio\n",
    "    harmony, perceptr = librosa.effects.hpss(segment)\n",
    "    # Compute tempo (beats per minute)\n",
    "    tempo, _ = librosa.beat.beat_track(y=segment, sr=sr)\n",
    "    # Compute Mel-frequency cepstral coefficients (MFCCs)\n",
    "    mfcc = librosa.feature.mfcc(y=segment, sr=sr, n_mfcc=20)\n",
    "\n",
    "    # Aggregate the features into a dictionary\n",
    "    features = {\n",
    "        'chroma_stft_mean': chroma_stft.mean() if chroma_stft.size else 0,\n",
    "        'chroma_stft_var': chroma_stft.var() if chroma_stft.size else 0,\n",
    "        'rms_mean': rms.mean() if rms.size else 0,\n",
    "        'rms_var': rms.var() if rms.size else 0,\n",
    "        'spectral_centroid_mean': spectral_centroid.mean() if spectral_centroid.size else 0,\n",
    "        'spectral_centroid_var': spectral_centroid.var() if spectral_centroid.size else 0,\n",
    "        'spectral_bandwidth_mean': spectral_bandwidth.mean() if spectral_bandwidth.size else 0,\n",
    "        'spectral_bandwidth_var': spectral_bandwidth.var() if spectral_bandwidth.size else 0,\n",
    "        'rolloff_mean': rolloff.mean() if rolloff.size else 0,\n",
    "        'rolloff_var': rolloff.var() if rolloff.size else 0,\n",
    "        'zero_crossing_rate_mean': zero_crossing_rate.mean() if zero_crossing_rate.size else 0,\n",
    "        'zero_crossing_rate_var': zero_crossing_rate.var() if zero_crossing_rate.size else 0,\n",
    "        'harmony_mean': harmony.mean() if harmony.size else 0,\n",
    "        'harmony_var': harmony.var() if harmony.size else 0,\n",
    "        'perceptr_mean': perceptr.mean() if perceptr.size else 0,\n",
    "        'perceptr_var': perceptr.var() if perceptr.size else 0,\n",
    "        'tempo': tempo,\n",
    "    }\n",
    "\n",
    "    for i in range(1, 21):\n",
    "        features[f'mfcc{i}_mean'] = mfcc[i-1].mean() if mfcc.shape[0] >= i else 0\n",
    "        features[f'mfcc{i}_var'] = mfcc[i-1].var() if mfcc.shape[0] >= i else 0\n",
    "\n",
    "    return features\n"
   ]
  },
  {
   "cell_type": "markdown",
   "id": "dfa5f717",
   "metadata": {},
   "source": [
    "Segment data and call feature extraction."
   ]
  },
  {
   "cell_type": "code",
   "execution_count": 12,
   "id": "75e1c6b0",
   "metadata": {},
   "outputs": [],
   "source": [
    "# Function to extract features from an audio file\n",
    "def extract_features(audio_file, segment_duration=3):\n",
    "    try:\n",
    "        # Load the audio file\n",
    "        y, sr = librosa.load(audio_file, sr=None)\n",
    "        total_duration = len(y) / sr\n",
    "        segment_length = int(sr * segment_duration)\n",
    "\n",
    "        features_list = []\n",
    "\n",
    "        for start in range(0, len(y), segment_length):\n",
    "            end = start + segment_length\n",
    "            if end <= len(y):\n",
    "                segment_features = extract_features_from_segment(y, sr, start, end)\n",
    "                segment_features['filename'] = os.path.basename(audio_file)\n",
    "                segment_features['start'] = start / sr\n",
    "                segment_features['end'] = end / sr\n",
    "                features_list.append(segment_features)\n",
    "\n",
    "        return features_list\n",
    "\n",
    "    except Exception as e:\n",
    "        print(f\"Error extracting features from {audio_file}: {e}\")\n",
    "        return []"
   ]
  },
  {
   "cell_type": "markdown",
   "id": "b3851f10",
   "metadata": {},
   "source": [
    "## Define Data Paths"
   ]
  },
  {
   "cell_type": "markdown",
   "id": "96da33c7",
   "metadata": {},
   "source": [
    "Specify the paths to the CSV files containing data."
   ]
  },
  {
   "cell_type": "code",
   "execution_count": 13,
   "id": "0784aec2",
   "metadata": {},
   "outputs": [],
   "source": [
    "# List of genres\n",
    "genres = [\"blues\", \"classical\", \"country\", \"disco\", \"hiphop\", \"jazz\", \"metal\", \"pop\", \"reggae\", \"rock\"]\n",
    "\n",
    "# Base folder containing genre subfolders\n",
    "base_folder_path = '/Users/isaiah/Desktop/Career/Projects/music-genre-detector/GTZan/genres_original'"
   ]
  },
  {
   "cell_type": "markdown",
   "id": "953974b0",
   "metadata": {},
   "source": [
    "## Process Input Audio Files"
   ]
  },
  {
   "cell_type": "markdown",
   "id": "3e0d4edc",
   "metadata": {},
   "source": [
    "Process input files and label the data. "
   ]
  },
  {
   "cell_type": "code",
   "execution_count": 14,
   "id": "ec7af356",
   "metadata": {},
   "outputs": [],
   "source": [
    "# Main function to process all audio files in a folder\n",
    "def process_audio_folder(folder_path, genre_label):\n",
    "    results = []\n",
    "    for filename in os.listdir(folder_path):\n",
    "        if filename.endswith('.wav') or filename.endswith('.mp3'):\n",
    "            file_path = os.path.join(folder_path, filename)\n",
    "            if filename.endswith('.mp3'):\n",
    "                try:\n",
    "                    file_path = convert_mp3_to_wav(file_path)\n",
    "                except Exception as e:\n",
    "                    print(f\"Error converting {file_path} to WAV: {e}\")\n",
    "                    continue\n",
    "            features_list = extract_features(file_path)\n",
    "            for features in features_list:\n",
    "                features['genre'] = genre_label\n",
    "                results.append(features)\n",
    "    return results"
   ]
  },
  {
   "cell_type": "markdown",
   "id": "a872c4cd",
   "metadata": {},
   "source": [
    "## Create Singular CSV"
   ]
  },
  {
   "cell_type": "markdown",
   "id": "7c9fc8b6",
   "metadata": {},
   "source": [
    "Aggregate results of the feature extraction into a singular CSV."
   ]
  },
  {
   "cell_type": "code",
   "execution_count": 15,
   "id": "c7412610",
   "metadata": {},
   "outputs": [
    {
     "name": "stdout",
     "output_type": "stream",
     "text": [
      "Processing genre: blues\n",
      "Completed processing genre: blues\n",
      "Processing genre: classical\n",
      "Completed processing genre: classical\n",
      "Processing genre: country\n",
      "Completed processing genre: country\n",
      "Processing genre: disco\n",
      "Completed processing genre: disco\n",
      "Processing genre: hiphop\n",
      "Completed processing genre: hiphop\n",
      "Processing genre: jazz\n"
     ]
    },
    {
     "name": "stderr",
     "output_type": "stream",
     "text": [
      "/var/folders/np/q9rxp7h96v19y1wfjlnwbjzr0000gn/T/ipykernel_30879/579994323.py:5: UserWarning: PySoundFile failed. Trying audioread instead.\n",
      "  y, sr = librosa.load(audio_file, sr=None)\n",
      "/Users/isaiah/opt/anaconda3/envs/ELEC292/lib/python3.9/site-packages/librosa/core/audio.py:184: FutureWarning: librosa.core.audio.__audioread_load\n",
      "\tDeprecated as of librosa version 0.10.0.\n",
      "\tIt will be removed in librosa version 1.0.\n",
      "  y, sr_native = __audioread_load(path, offset, duration, dtype)\n"
     ]
    },
    {
     "name": "stdout",
     "output_type": "stream",
     "text": [
      "Error extracting features from /Users/isaiah/Desktop/Career/Projects/music-genre-detector/GTZan/genres_original/jazz/jazz.00054.wav: \n",
      "Completed processing genre: jazz\n",
      "Processing genre: metal\n",
      "Completed processing genre: metal\n",
      "Processing genre: pop\n",
      "Completed processing genre: pop\n",
      "Processing genre: reggae\n",
      "Completed processing genre: reggae\n",
      "Processing genre: rock\n",
      "Completed processing genre: rock\n",
      "Writing results to CSV file...\n",
      "CSV file generation completed.\n",
      "Feature extraction and CSV generation completed for all genres.\n"
     ]
    },
    {
     "data": {
      "text/html": [
       "<div>\n",
       "<style scoped>\n",
       "    .dataframe tbody tr th:only-of-type {\n",
       "        vertical-align: middle;\n",
       "    }\n",
       "\n",
       "    .dataframe tbody tr th {\n",
       "        vertical-align: top;\n",
       "    }\n",
       "\n",
       "    .dataframe thead th {\n",
       "        text-align: right;\n",
       "    }\n",
       "</style>\n",
       "<table border=\"1\" class=\"dataframe\">\n",
       "  <thead>\n",
       "    <tr style=\"text-align: right;\">\n",
       "      <th></th>\n",
       "      <th>chroma_stft_mean</th>\n",
       "      <th>chroma_stft_var</th>\n",
       "      <th>rms_mean</th>\n",
       "      <th>rms_var</th>\n",
       "      <th>spectral_centroid_mean</th>\n",
       "      <th>spectral_centroid_var</th>\n",
       "      <th>spectral_bandwidth_mean</th>\n",
       "      <th>spectral_bandwidth_var</th>\n",
       "      <th>rolloff_mean</th>\n",
       "      <th>rolloff_var</th>\n",
       "      <th>...</th>\n",
       "      <th>mfcc18_mean</th>\n",
       "      <th>mfcc18_var</th>\n",
       "      <th>mfcc19_mean</th>\n",
       "      <th>mfcc19_var</th>\n",
       "      <th>mfcc20_mean</th>\n",
       "      <th>mfcc20_var</th>\n",
       "      <th>filename</th>\n",
       "      <th>start</th>\n",
       "      <th>end</th>\n",
       "      <th>genre</th>\n",
       "    </tr>\n",
       "  </thead>\n",
       "  <tbody>\n",
       "    <tr>\n",
       "      <th>0</th>\n",
       "      <td>0.399003</td>\n",
       "      <td>0.094660</td>\n",
       "      <td>0.056844</td>\n",
       "      <td>0.001880</td>\n",
       "      <td>640.531249</td>\n",
       "      <td>160926.527211</td>\n",
       "      <td>1022.053919</td>\n",
       "      <td>104654.734035</td>\n",
       "      <td>1190.123573</td>\n",
       "      <td>726941.687695</td>\n",
       "      <td>...</td>\n",
       "      <td>0.315695</td>\n",
       "      <td>44.211178</td>\n",
       "      <td>7.074780</td>\n",
       "      <td>56.459846</td>\n",
       "      <td>2.348529</td>\n",
       "      <td>45.106159</td>\n",
       "      <td>blues.00093.wav</td>\n",
       "      <td>0.0</td>\n",
       "      <td>3.0</td>\n",
       "      <td>blues</td>\n",
       "    </tr>\n",
       "    <tr>\n",
       "      <th>1</th>\n",
       "      <td>0.376660</td>\n",
       "      <td>0.088501</td>\n",
       "      <td>0.080834</td>\n",
       "      <td>0.002519</td>\n",
       "      <td>607.890994</td>\n",
       "      <td>240755.406608</td>\n",
       "      <td>934.617893</td>\n",
       "      <td>137064.948571</td>\n",
       "      <td>1069.703275</td>\n",
       "      <td>951525.794395</td>\n",
       "      <td>...</td>\n",
       "      <td>-4.404086</td>\n",
       "      <td>38.417225</td>\n",
       "      <td>2.518581</td>\n",
       "      <td>29.093346</td>\n",
       "      <td>3.841909</td>\n",
       "      <td>31.415276</td>\n",
       "      <td>blues.00093.wav</td>\n",
       "      <td>3.0</td>\n",
       "      <td>6.0</td>\n",
       "      <td>blues</td>\n",
       "    </tr>\n",
       "    <tr>\n",
       "      <th>2</th>\n",
       "      <td>0.426684</td>\n",
       "      <td>0.095770</td>\n",
       "      <td>0.044714</td>\n",
       "      <td>0.000568</td>\n",
       "      <td>534.128623</td>\n",
       "      <td>15999.601033</td>\n",
       "      <td>994.354440</td>\n",
       "      <td>41982.502498</td>\n",
       "      <td>812.133038</td>\n",
       "      <td>87253.547063</td>\n",
       "      <td>...</td>\n",
       "      <td>4.660423</td>\n",
       "      <td>30.106455</td>\n",
       "      <td>5.132306</td>\n",
       "      <td>35.961784</td>\n",
       "      <td>1.360925</td>\n",
       "      <td>18.663179</td>\n",
       "      <td>blues.00093.wav</td>\n",
       "      <td>6.0</td>\n",
       "      <td>9.0</td>\n",
       "      <td>blues</td>\n",
       "    </tr>\n",
       "    <tr>\n",
       "      <th>3</th>\n",
       "      <td>0.394977</td>\n",
       "      <td>0.102008</td>\n",
       "      <td>0.068870</td>\n",
       "      <td>0.001562</td>\n",
       "      <td>555.363338</td>\n",
       "      <td>194792.027978</td>\n",
       "      <td>1008.076563</td>\n",
       "      <td>127401.321491</td>\n",
       "      <td>870.769606</td>\n",
       "      <td>871780.442348</td>\n",
       "      <td>...</td>\n",
       "      <td>0.496577</td>\n",
       "      <td>22.756107</td>\n",
       "      <td>0.564170</td>\n",
       "      <td>26.510843</td>\n",
       "      <td>-4.204146</td>\n",
       "      <td>16.829517</td>\n",
       "      <td>blues.00093.wav</td>\n",
       "      <td>9.0</td>\n",
       "      <td>12.0</td>\n",
       "      <td>blues</td>\n",
       "    </tr>\n",
       "    <tr>\n",
       "      <th>4</th>\n",
       "      <td>0.432660</td>\n",
       "      <td>0.093615</td>\n",
       "      <td>0.047667</td>\n",
       "      <td>0.000905</td>\n",
       "      <td>543.095038</td>\n",
       "      <td>30510.827127</td>\n",
       "      <td>1029.849967</td>\n",
       "      <td>73572.166629</td>\n",
       "      <td>817.930439</td>\n",
       "      <td>152939.004439</td>\n",
       "      <td>...</td>\n",
       "      <td>0.099773</td>\n",
       "      <td>23.850695</td>\n",
       "      <td>2.277985</td>\n",
       "      <td>56.035744</td>\n",
       "      <td>-4.323173</td>\n",
       "      <td>74.503784</td>\n",
       "      <td>blues.00093.wav</td>\n",
       "      <td>12.0</td>\n",
       "      <td>15.0</td>\n",
       "      <td>blues</td>\n",
       "    </tr>\n",
       "  </tbody>\n",
       "</table>\n",
       "<p>5 rows × 61 columns</p>\n",
       "</div>"
      ],
      "text/plain": [
       "   chroma_stft_mean  chroma_stft_var  rms_mean   rms_var  \\\n",
       "0          0.399003         0.094660  0.056844  0.001880   \n",
       "1          0.376660         0.088501  0.080834  0.002519   \n",
       "2          0.426684         0.095770  0.044714  0.000568   \n",
       "3          0.394977         0.102008  0.068870  0.001562   \n",
       "4          0.432660         0.093615  0.047667  0.000905   \n",
       "\n",
       "   spectral_centroid_mean  spectral_centroid_var  spectral_bandwidth_mean  \\\n",
       "0              640.531249          160926.527211              1022.053919   \n",
       "1              607.890994          240755.406608               934.617893   \n",
       "2              534.128623           15999.601033               994.354440   \n",
       "3              555.363338          194792.027978              1008.076563   \n",
       "4              543.095038           30510.827127              1029.849967   \n",
       "\n",
       "   spectral_bandwidth_var  rolloff_mean    rolloff_var  ...  mfcc18_mean  \\\n",
       "0           104654.734035   1190.123573  726941.687695  ...     0.315695   \n",
       "1           137064.948571   1069.703275  951525.794395  ...    -4.404086   \n",
       "2            41982.502498    812.133038   87253.547063  ...     4.660423   \n",
       "3           127401.321491    870.769606  871780.442348  ...     0.496577   \n",
       "4            73572.166629    817.930439  152939.004439  ...     0.099773   \n",
       "\n",
       "   mfcc18_var  mfcc19_mean  mfcc19_var  mfcc20_mean  mfcc20_var  \\\n",
       "0   44.211178     7.074780   56.459846     2.348529   45.106159   \n",
       "1   38.417225     2.518581   29.093346     3.841909   31.415276   \n",
       "2   30.106455     5.132306   35.961784     1.360925   18.663179   \n",
       "3   22.756107     0.564170   26.510843    -4.204146   16.829517   \n",
       "4   23.850695     2.277985   56.035744    -4.323173   74.503784   \n",
       "\n",
       "          filename  start   end  genre  \n",
       "0  blues.00093.wav    0.0   3.0  blues  \n",
       "1  blues.00093.wav    3.0   6.0  blues  \n",
       "2  blues.00093.wav    6.0   9.0  blues  \n",
       "3  blues.00093.wav    9.0  12.0  blues  \n",
       "4  blues.00093.wav   12.0  15.0  blues  \n",
       "\n",
       "[5 rows x 61 columns]"
      ]
     },
     "execution_count": 15,
     "metadata": {},
     "output_type": "execute_result"
    }
   ],
   "source": [
    "# Collect results from all genres\n",
    "all_results = []\n",
    "\n",
    "# Process each genre\n",
    "for genre in genres:\n",
    "    print(f\"Processing genre: {genre}\")\n",
    "    folder_path = os.path.join(base_folder_path, genre)\n",
    "    genre_results = process_audio_folder(folder_path, genre)\n",
    "    all_results.extend(genre_results)\n",
    "    print(f\"Completed processing genre: {genre}\")\n",
    "\n",
    "# Write all results to a single CSV file\n",
    "print(\"Writing results to CSV file...\")\n",
    "df = pd.DataFrame(all_results)\n",
    "csv_file_path = '/Users/isaiah/Desktop/Career/Projects/music-genre-detector/all_genres_audio_features.csv'\n",
    "df.to_csv(csv_file_path, index=False)\n",
    "print(\"CSV file generation completed.\")\n",
    "\n",
    "# I (simon) mainly added this for testing just so I could see when everything is done\n",
    "print(\"Feature extraction and CSV generation completed for all genres.\")\n",
    "\n",
    "df.head()"
   ]
  },
  {
   "cell_type": "markdown",
   "id": "31f0d23c",
   "metadata": {},
   "source": [
    "## Examine Data"
   ]
  },
  {
   "cell_type": "markdown",
   "id": "f9f555dd",
   "metadata": {},
   "source": [
    "Gain insights into data. "
   ]
  },
  {
   "cell_type": "code",
   "execution_count": 24,
   "id": "05cf96d0",
   "metadata": {},
   "outputs": [
    {
     "data": {
      "text/html": [
       "<div>\n",
       "<style scoped>\n",
       "    .dataframe tbody tr th:only-of-type {\n",
       "        vertical-align: middle;\n",
       "    }\n",
       "\n",
       "    .dataframe tbody tr th {\n",
       "        vertical-align: top;\n",
       "    }\n",
       "\n",
       "    .dataframe thead th {\n",
       "        text-align: right;\n",
       "    }\n",
       "</style>\n",
       "<table border=\"1\" class=\"dataframe\">\n",
       "  <thead>\n",
       "    <tr style=\"text-align: right;\">\n",
       "      <th></th>\n",
       "      <th>chroma_stft_mean</th>\n",
       "      <th>chroma_stft_var</th>\n",
       "      <th>rms_mean</th>\n",
       "      <th>rms_var</th>\n",
       "      <th>spectral_centroid_mean</th>\n",
       "      <th>spectral_centroid_var</th>\n",
       "      <th>spectral_bandwidth_mean</th>\n",
       "      <th>spectral_bandwidth_var</th>\n",
       "      <th>rolloff_mean</th>\n",
       "      <th>rolloff_var</th>\n",
       "      <th>...</th>\n",
       "      <th>mfcc18_mean</th>\n",
       "      <th>mfcc18_var</th>\n",
       "      <th>mfcc19_mean</th>\n",
       "      <th>mfcc19_var</th>\n",
       "      <th>mfcc20_mean</th>\n",
       "      <th>mfcc20_var</th>\n",
       "      <th>filename</th>\n",
       "      <th>start</th>\n",
       "      <th>end</th>\n",
       "      <th>genre</th>\n",
       "    </tr>\n",
       "  </thead>\n",
       "  <tbody>\n",
       "    <tr>\n",
       "      <th>0</th>\n",
       "      <td>0.399003</td>\n",
       "      <td>0.094660</td>\n",
       "      <td>0.056844</td>\n",
       "      <td>0.001880</td>\n",
       "      <td>640.531249</td>\n",
       "      <td>160926.527211</td>\n",
       "      <td>1022.053919</td>\n",
       "      <td>104654.734035</td>\n",
       "      <td>1190.123573</td>\n",
       "      <td>726941.687695</td>\n",
       "      <td>...</td>\n",
       "      <td>0.315695</td>\n",
       "      <td>44.211178</td>\n",
       "      <td>7.074780</td>\n",
       "      <td>56.459846</td>\n",
       "      <td>2.348529</td>\n",
       "      <td>45.106159</td>\n",
       "      <td>blues.00093.wav</td>\n",
       "      <td>0.0</td>\n",
       "      <td>3.0</td>\n",
       "      <td>blues</td>\n",
       "    </tr>\n",
       "    <tr>\n",
       "      <th>1</th>\n",
       "      <td>0.376660</td>\n",
       "      <td>0.088501</td>\n",
       "      <td>0.080834</td>\n",
       "      <td>0.002519</td>\n",
       "      <td>607.890994</td>\n",
       "      <td>240755.406608</td>\n",
       "      <td>934.617893</td>\n",
       "      <td>137064.948571</td>\n",
       "      <td>1069.703275</td>\n",
       "      <td>951525.794395</td>\n",
       "      <td>...</td>\n",
       "      <td>-4.404086</td>\n",
       "      <td>38.417225</td>\n",
       "      <td>2.518581</td>\n",
       "      <td>29.093346</td>\n",
       "      <td>3.841909</td>\n",
       "      <td>31.415276</td>\n",
       "      <td>blues.00093.wav</td>\n",
       "      <td>3.0</td>\n",
       "      <td>6.0</td>\n",
       "      <td>blues</td>\n",
       "    </tr>\n",
       "    <tr>\n",
       "      <th>2</th>\n",
       "      <td>0.426684</td>\n",
       "      <td>0.095770</td>\n",
       "      <td>0.044714</td>\n",
       "      <td>0.000568</td>\n",
       "      <td>534.128623</td>\n",
       "      <td>15999.601033</td>\n",
       "      <td>994.354440</td>\n",
       "      <td>41982.502498</td>\n",
       "      <td>812.133038</td>\n",
       "      <td>87253.547063</td>\n",
       "      <td>...</td>\n",
       "      <td>4.660423</td>\n",
       "      <td>30.106455</td>\n",
       "      <td>5.132306</td>\n",
       "      <td>35.961784</td>\n",
       "      <td>1.360925</td>\n",
       "      <td>18.663179</td>\n",
       "      <td>blues.00093.wav</td>\n",
       "      <td>6.0</td>\n",
       "      <td>9.0</td>\n",
       "      <td>blues</td>\n",
       "    </tr>\n",
       "    <tr>\n",
       "      <th>3</th>\n",
       "      <td>0.394977</td>\n",
       "      <td>0.102008</td>\n",
       "      <td>0.068870</td>\n",
       "      <td>0.001562</td>\n",
       "      <td>555.363338</td>\n",
       "      <td>194792.027978</td>\n",
       "      <td>1008.076563</td>\n",
       "      <td>127401.321491</td>\n",
       "      <td>870.769606</td>\n",
       "      <td>871780.442348</td>\n",
       "      <td>...</td>\n",
       "      <td>0.496577</td>\n",
       "      <td>22.756107</td>\n",
       "      <td>0.564170</td>\n",
       "      <td>26.510843</td>\n",
       "      <td>-4.204146</td>\n",
       "      <td>16.829517</td>\n",
       "      <td>blues.00093.wav</td>\n",
       "      <td>9.0</td>\n",
       "      <td>12.0</td>\n",
       "      <td>blues</td>\n",
       "    </tr>\n",
       "    <tr>\n",
       "      <th>4</th>\n",
       "      <td>0.432660</td>\n",
       "      <td>0.093615</td>\n",
       "      <td>0.047667</td>\n",
       "      <td>0.000905</td>\n",
       "      <td>543.095038</td>\n",
       "      <td>30510.827127</td>\n",
       "      <td>1029.849967</td>\n",
       "      <td>73572.166629</td>\n",
       "      <td>817.930439</td>\n",
       "      <td>152939.004439</td>\n",
       "      <td>...</td>\n",
       "      <td>0.099773</td>\n",
       "      <td>23.850695</td>\n",
       "      <td>2.277985</td>\n",
       "      <td>56.035744</td>\n",
       "      <td>-4.323173</td>\n",
       "      <td>74.503784</td>\n",
       "      <td>blues.00093.wav</td>\n",
       "      <td>12.0</td>\n",
       "      <td>15.0</td>\n",
       "      <td>blues</td>\n",
       "    </tr>\n",
       "  </tbody>\n",
       "</table>\n",
       "<p>5 rows × 61 columns</p>\n",
       "</div>"
      ],
      "text/plain": [
       "   chroma_stft_mean  chroma_stft_var  rms_mean   rms_var  \\\n",
       "0          0.399003         0.094660  0.056844  0.001880   \n",
       "1          0.376660         0.088501  0.080834  0.002519   \n",
       "2          0.426684         0.095770  0.044714  0.000568   \n",
       "3          0.394977         0.102008  0.068870  0.001562   \n",
       "4          0.432660         0.093615  0.047667  0.000905   \n",
       "\n",
       "   spectral_centroid_mean  spectral_centroid_var  spectral_bandwidth_mean  \\\n",
       "0              640.531249          160926.527211              1022.053919   \n",
       "1              607.890994          240755.406608               934.617893   \n",
       "2              534.128623           15999.601033               994.354440   \n",
       "3              555.363338          194792.027978              1008.076563   \n",
       "4              543.095038           30510.827127              1029.849967   \n",
       "\n",
       "   spectral_bandwidth_var  rolloff_mean    rolloff_var  ...  mfcc18_mean  \\\n",
       "0           104654.734035   1190.123573  726941.687695  ...     0.315695   \n",
       "1           137064.948571   1069.703275  951525.794395  ...    -4.404086   \n",
       "2            41982.502498    812.133038   87253.547063  ...     4.660423   \n",
       "3           127401.321491    870.769606  871780.442348  ...     0.496577   \n",
       "4            73572.166629    817.930439  152939.004439  ...     0.099773   \n",
       "\n",
       "   mfcc18_var  mfcc19_mean  mfcc19_var  mfcc20_mean  mfcc20_var  \\\n",
       "0   44.211178     7.074780   56.459846     2.348529   45.106159   \n",
       "1   38.417225     2.518581   29.093346     3.841909   31.415276   \n",
       "2   30.106455     5.132306   35.961784     1.360925   18.663179   \n",
       "3   22.756107     0.564170   26.510843    -4.204146   16.829517   \n",
       "4   23.850695     2.277985   56.035744    -4.323173   74.503784   \n",
       "\n",
       "          filename  start   end  genre  \n",
       "0  blues.00093.wav    0.0   3.0  blues  \n",
       "1  blues.00093.wav    3.0   6.0  blues  \n",
       "2  blues.00093.wav    6.0   9.0  blues  \n",
       "3  blues.00093.wav    9.0  12.0  blues  \n",
       "4  blues.00093.wav   12.0  15.0  blues  \n",
       "\n",
       "[5 rows x 61 columns]"
      ]
     },
     "execution_count": 24,
     "metadata": {},
     "output_type": "execute_result"
    }
   ],
   "source": [
    "# Get summary statistics\n",
    "df.describe()\n"
   ]
  },
  {
   "cell_type": "markdown",
   "id": "58539520",
   "metadata": {},
   "source": [
    "Check for duplicates. "
   ]
  },
  {
   "cell_type": "code",
   "execution_count": 28,
   "id": "703ac5dd",
   "metadata": {},
   "outputs": [
    {
     "name": "stdout",
     "output_type": "stream",
     "text": [
      "No duplicates or null values found in data\n"
     ]
    }
   ],
   "source": [
    "def check_duplicates_or_nulls(data):\n",
    "    # Check for duplicates\n",
    "    duplicates = data.duplicated().sum() > 0\n",
    "    \n",
    "    # Check for any null values\n",
    "    nulls = data.isnull().sum().sum() > 0\n",
    "    \n",
    "    # Return true if either condition met\n",
    "    return duplicates or nulls\n",
    "\n",
    "# Assuming csv_file_path is a string representing a file path\n",
    "data = pd.read_csv(csv_file_path)  # Read the CSV file\n",
    "if check_duplicates_or_nulls(data):\n",
    "    print('Duplicates or null values found in data')\n",
    "else:\n",
    "    print('No duplicates or null values found in data')"
   ]
  },
  {
   "cell_type": "markdown",
   "id": "bae3885d",
   "metadata": {},
   "source": [
    "## Shuffle and Split data"
   ]
  },
  {
   "cell_type": "markdown",
   "id": "cc411a3b",
   "metadata": {},
   "source": [
    "Split data into training and testing sets (90/10)."
   ]
  },
  {
   "cell_type": "code",
   "execution_count": null,
   "id": "856874ef",
   "metadata": {},
   "outputs": [],
   "source": []
  },
  {
   "cell_type": "markdown",
   "id": "d2ab3cbc",
   "metadata": {},
   "source": [
    "## Begin Preprocessing"
   ]
  },
  {
   "cell_type": "markdown",
   "id": "d4bc2053",
   "metadata": {},
   "source": [
    "Apply the low pass filter through use of a moving average with a window size of 5."
   ]
  },
  {
   "cell_type": "code",
   "execution_count": null,
   "id": "9d39f937",
   "metadata": {},
   "outputs": [
    {
     "name": "stdout",
     "output_type": "stream",
     "text": [
      "(162, 497, 3) (18, 497, 3)\n"
     ]
    }
   ],
   "source": []
  },
  {
   "cell_type": "markdown",
   "id": "59e58b73",
   "metadata": {},
   "source": [
    "## Z Score normalization is done to the extracted features "
   ]
  },
  {
   "cell_type": "markdown",
   "id": "8d220a43",
   "metadata": {},
   "source": [
    "Using StandardScaler to properly normalize the individual features for the train and test set, converting back to data frames upon completion. "
   ]
  },
  {
   "cell_type": "markdown",
   "id": "d089132f",
   "metadata": {},
   "source": [
    "## Run model"
   ]
  },
  {
   "cell_type": "markdown",
   "id": "6ab68640",
   "metadata": {},
   "source": [
    "Model is intialized, trained and test with accuracy scores displayed. "
   ]
  },
  {
   "cell_type": "markdown",
   "id": "d106a808",
   "metadata": {},
   "source": [
    "## Accuracy Testing"
   ]
  },
  {
   "cell_type": "markdown",
   "id": "40fc40aa",
   "metadata": {},
   "source": [
    "Check the model to ensure it is doing well in terms of classifications."
   ]
  },
  {
   "cell_type": "markdown",
   "id": "85fc0dc9",
   "metadata": {},
   "source": [
    "## Cross-validation "
   ]
  },
  {
   "cell_type": "markdown",
   "id": "1c3920bd",
   "metadata": {},
   "source": [
    "To ensure that the model is functioning well, cross-validation is done with an average result shown. "
   ]
  }
 ],
 "metadata": {
  "kernelspec": {
   "display_name": "Python 3 (ipykernel)",
   "language": "python",
   "name": "python3"
  },
  "language_info": {
   "codemirror_mode": {
    "name": "ipython",
    "version": 3
   },
   "file_extension": ".py",
   "mimetype": "text/x-python",
   "name": "python",
   "nbconvert_exporter": "python",
   "pygments_lexer": "ipython3",
   "version": "3.9.18"
  }
 },
 "nbformat": 4,
 "nbformat_minor": 5
}
